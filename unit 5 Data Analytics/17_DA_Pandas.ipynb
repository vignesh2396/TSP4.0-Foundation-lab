{
 "cells": [
  {
   "cell_type": "markdown",
   "metadata": {
    "id": "tT1dKGUpOtLK"
   },
   "source": [
    "# 19_DA_Pandas"
   ]
  },
  {
   "cell_type": "markdown",
   "metadata": {
    "id": "WtIF2hbgZQB4"
   },
   "source": [
    "### Import Library"
   ]
  },
  {
   "cell_type": "code",
   "execution_count": null,
   "metadata": {
    "id": "dmEdARG_ORZd"
   },
   "outputs": [],
   "source": [
    "# !pip install pandas\n",
    "# import pandas\n",
    "# pandas.__version__"
   ]
  },
  {
   "cell_type": "markdown",
   "metadata": {
    "id": "DJiSw87ubkda"
   },
   "source": [
    "### Loading Data-Series"
   ]
  },
  {
   "cell_type": "code",
   "execution_count": null,
   "metadata": {
    "id": "H2ChyGigb-FQ"
   },
   "outputs": [],
   "source": [
    "import pandas as pd\n",
    "a = [7,9,4]\n",
    "dataset = pd.Series(a)\n",
    "print(dataset)"
   ]
  },
  {
   "cell_type": "code",
   "execution_count": null,
   "metadata": {
    "id": "xZSd-5_cbjmV"
   },
   "outputs": [],
   "source": [
    "import pandas as pd\n",
    "a = [7,9,4]\n",
    "dataset = pd.Series(a, index = [\"No.1\",\"No.2\",\"No.3\"])\n",
    "print(dataset)"
   ]
  },
  {
   "cell_type": "markdown",
   "metadata": {
    "id": "EOvoRMP_ZWHy"
   },
   "source": [
    "### Loading Data-DataFrame"
   ]
  },
  {
   "cell_type": "code",
   "execution_count": null,
   "metadata": {
    "id": "qZ-CmzZlaXrK"
   },
   "outputs": [],
   "source": [
    "import pandas as pd\n",
    "data = {\"Name\":[\"Champ\",\"Mr.X\",\"Mr.y\"],\"Color\":[\"Red\",\"Black\",\"White\"]}\n",
    "dataset = pd.DataFrame(data)\n",
    "print(dataset)"
   ]
  },
  {
   "cell_type": "markdown",
   "metadata": {
    "id": "UL7Hduo4clxz"
   },
   "source": [
    "### Loading Dataset from File"
   ]
  },
  {
   "cell_type": "code",
   "execution_count": null,
   "metadata": {
    "id": "p8RELX6XcokR"
   },
   "outputs": [],
   "source": [
    "import pandas as pd\n",
    "dataset1 = pd.read_csv(\"dataset.csv\")\n",
    "print(dataset1.head(5))"
   ]
  },
  {
   "cell_type": "code",
   "execution_count": null,
   "metadata": {
    "id": "02MULponee_q"
   },
   "outputs": [],
   "source": [
    "import pandas as pd\n",
    "dataset2 = pd.read_excel(\"dataset.xlsx\")\n",
    "print(dataset2.head(5))"
   ]
  },
  {
   "cell_type": "code",
   "execution_count": null,
   "metadata": {
    "id": "UrPZdng7emQG"
   },
   "outputs": [],
   "source": [
    "import pandas as pd\n",
    "dataset3 = pd.read_csv(\"dataset.txt\")\n",
    "print(dataset3.head(5))"
   ]
  },
  {
   "cell_type": "markdown",
   "metadata": {
    "id": "v1TYm9zdgFvm"
   },
   "source": [
    "### Dataset Details"
   ]
  },
  {
   "cell_type": "code",
   "execution_count": null,
   "metadata": {
    "id": "tKhXNXeUgIyz"
   },
   "outputs": [],
   "source": [
    "print(dataset1.shape) #No.of Rows and Columns\n",
    "print(dataset1.describe()) #Detailed info about Dataset"
   ]
  },
  {
   "cell_type": "markdown",
   "metadata": {
    "id": "94Agx7rqh_v3"
   },
   "source": [
    "### Data Slicing"
   ]
  },
  {
   "cell_type": "code",
   "execution_count": null,
   "metadata": {
    "id": "8wmmPZtniIHB"
   },
   "outputs": [],
   "source": [
    "print(dataset1.columns) #To get only Column Title\n",
    "print(dataset1[\"Name\"]) #To get data based on the specific Title\n",
    "print(dataset1[[\"Name\",\"Speed\"]]) #To get data based on the multiple Title\n",
    "print(dataset1[\"Name\"][0:6]) #To get data based on the specific Title with Specific Count"
   ]
  },
  {
   "cell_type": "code",
   "execution_count": null,
   "metadata": {
    "id": "Jk4_xm4Ajbgx"
   },
   "outputs": [],
   "source": [
    "print(dataset1.iloc[0]) #integer location-acquire complete info about certain index\n",
    "print(dataset1.iloc[1:5]) #acquire complete info about range of index\n",
    "print(dataset1.iloc[1,2]) #acquire specific cell data"
   ]
  },
  {
   "cell_type": "code",
   "execution_count": null,
   "metadata": {
    "id": "CIkWC7mnkz2h"
   },
   "outputs": [],
   "source": [
    "for index,row in dataset1.iterrows():\n",
    "  print(index,row[\"Name\"])                    "
   ]
  },
  {
   "cell_type": "markdown",
   "metadata": {
    "id": "ubhb6L7Ul7Ft"
   },
   "source": [
    "### Data Slicing with Filter"
   ]
  },
  {
   "cell_type": "code",
   "execution_count": null,
   "metadata": {
    "id": "6lBWl9ERl-r2"
   },
   "outputs": [],
   "source": [
    "print(dataset1.loc[dataset1[\"Speed\"]>90])"
   ]
  },
  {
   "cell_type": "markdown",
   "metadata": {
    "id": "oMSqP88ImtyF"
   },
   "source": [
    "### Slicing - Sorting Data"
   ]
  },
  {
   "cell_type": "code",
   "execution_count": null,
   "metadata": {
    "id": "ZEpMrouzmxW4"
   },
   "outputs": [],
   "source": [
    "dataset1.sort_values([\"Speed\"],ascending=False)"
   ]
  },
  {
   "cell_type": "markdown",
   "metadata": {
    "id": "i_CCdCwhns6C"
   },
   "source": [
    "### Editing Data"
   ]
  },
  {
   "cell_type": "code",
   "execution_count": null,
   "metadata": {
    "id": "HTvpCFxPnuy5"
   },
   "outputs": [],
   "source": [
    "dataset1[\"Power\"] = dataset1[\"HP\"] + dataset1[\"Attack\"]\n",
    "print(dataset1.head(5))"
   ]
  },
  {
   "cell_type": "code",
   "execution_count": null,
   "metadata": {
    "id": "gWuj4r9doNcy"
   },
   "outputs": [],
   "source": [
    "dataset1 = dataset1.drop(columns=[\"Power\"]) #removing Column\n",
    "print(dataset1.head(5))"
   ]
  },
  {
   "cell_type": "markdown",
   "metadata": {
    "id": "FcbHa5kppDJe"
   },
   "source": [
    "### Save Dataset in new file"
   ]
  },
  {
   "cell_type": "code",
   "execution_count": null,
   "metadata": {
    "id": "WvHz4WZtpF5M"
   },
   "outputs": [],
   "source": [
    "dataset1.to_csv(\"newDataset.csv\")\n",
    "dataset1.to_excel(\"newDataset.xlsx\")\n",
    "dataset1.to_csv(\"newDataset.csv\",index=False, sep=\"\\t\")"
   ]
  },
  {
   "cell_type": "markdown",
   "metadata": {
    "id": "Yed1nWuiq0I9"
   },
   "source": [
    "### Checking Null values in Dataset"
   ]
  },
  {
   "cell_type": "code",
   "execution_count": null,
   "metadata": {
    "id": "7ymmGgTrq3B3"
   },
   "outputs": [],
   "source": [
    "dataset1.isna().any()"
   ]
  },
  {
   "cell_type": "markdown",
   "metadata": {
    "id": "RFvEItlgthDc"
   },
   "source": [
    "### Acquiring Dataset without NaN Value, by removing the entire column"
   ]
  },
  {
   "cell_type": "code",
   "execution_count": null,
   "metadata": {
    "id": "MF1FB_AJtWUS"
   },
   "outputs": [],
   "source": [
    "dataset1 = dataset1[dataset1[\"Type 2\"].notna()]"
   ]
  },
  {
   "cell_type": "markdown",
   "metadata": {
    "id": "Wnm5Y6E0sBKy"
   },
   "source": [
    "### Filling NaN with mean of that specific Column"
   ]
  },
  {
   "cell_type": "code",
   "execution_count": null,
   "metadata": {
    "id": "MRjzZa2ZsINY"
   },
   "outputs": [],
   "source": [
    "MeandatasetNotNan = dataset1[\"Speed\"].fillna(dataset1[\"Speed\"].mean())\n",
    "MeandatasetNotNan"
   ]
  },
  {
   "cell_type": "markdown",
   "metadata": {
    "id": "SsBOTetGt8WR"
   },
   "source": [
    "### Mapping certain Data to another value"
   ]
  },
  {
   "cell_type": "code",
   "execution_count": null,
   "metadata": {
    "id": "7qbLc3KJuCAE"
   },
   "outputs": [],
   "source": [
    "print(dataset1.head(5))\n",
    "Generation = set(dataset1['Generation'])\n",
    "dataset1['Generation'] = dataset1['Generation'].map({1: \"one\", 2: \"two\",3: \"three\", 4: \"four\",5: \"five\", 6: \"six\"}).astype(str)\n",
    "print(dataset1.head(5))"
   ]
  }
 ],
 "metadata": {
  "colab": {
   "collapsed_sections": [],
   "name": "19_DA_Pandas.ipynb",
   "provenance": []
  },
  "kernelspec": {
   "display_name": "Python [conda env:base] *",
   "language": "python",
   "name": "conda-base-py"
  },
  "language_info": {
   "codemirror_mode": {
    "name": "ipython",
    "version": 3
   },
   "file_extension": ".py",
   "mimetype": "text/x-python",
   "name": "python",
   "nbconvert_exporter": "python",
   "pygments_lexer": "ipython3",
   "version": "3.12.7"
  }
 },
 "nbformat": 4,
 "nbformat_minor": 4
}
