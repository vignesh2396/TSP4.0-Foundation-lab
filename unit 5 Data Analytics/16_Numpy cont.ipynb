{
 "cells": [
  {
   "cell_type": "code",
   "execution_count": 1,
   "id": "8b359bc1",
   "metadata": {},
   "outputs": [],
   "source": [
    "import numpy as np"
   ]
  },
  {
   "cell_type": "code",
   "execution_count": 3,
   "id": "700697ca",
   "metadata": {
    "panel-layout": {
     "height": 0,
     "visible": true,
     "width": 100
    }
   },
   "outputs": [
    {
     "name": "stdout",
     "output_type": "stream",
     "text": [
      "1-dimension\n",
      "[5 5 5 5 5 5 5 5 5 5]\n",
      "2-dimension\n",
      "[[10 10]\n",
      " [10 10]]\n",
      "3-dimension\n",
      "[[[5 5 5 5]\n",
      "  [5 5 5 5]\n",
      "  [5 5 5 5]\n",
      "  [5 5 5 5]\n",
      "  [5 5 5 5]]\n",
      "\n",
      " [[5 5 5 5]\n",
      "  [5 5 5 5]\n",
      "  [5 5 5 5]\n",
      "  [5 5 5 5]\n",
      "  [5 5 5 5]]]\n"
     ]
    }
   ],
   "source": [
    "print(\"1-dimension\")\n",
    "full = np.full(10, 5)\n",
    "print(full)\n",
    "\n",
    "print(\"2-dimension\")\n",
    "full = np.full((2, 2), 10)\n",
    "print(full)\n",
    "\n",
    "print(\"3-dimension\")\n",
    "full = np.full((2,5,4), 5)\n",
    "print(full)"
   ]
  },
  {
   "cell_type": "markdown",
   "id": "37afd5e8",
   "metadata": {
    "panel-layout": {
     "height": 60.57500457763672,
     "visible": true,
     "width": 100
    }
   },
   "source": [
    "# Element-wise operation"
   ]
  },
  {
   "cell_type": "code",
   "execution_count": 5,
   "id": "7983c207",
   "metadata": {},
   "outputs": [],
   "source": [
    "pythonlist1 = [[76,34,89], [23,34,45]]\n",
    "pythonlist2 = [[76,34,89], [23,34,45]]"
   ]
  },
  {
   "cell_type": "code",
   "execution_count": 7,
   "id": "05c5ae8e",
   "metadata": {
    "panel-layout": {
     "height": 126,
     "visible": true,
     "width": 100
    }
   },
   "outputs": [
    {
     "data": {
      "text/plain": [
       "[[76, 34, 89], [23, 34, 45], [76, 34, 89], [23, 34, 45]]"
      ]
     },
     "execution_count": 7,
     "metadata": {},
     "output_type": "execute_result"
    }
   ],
   "source": [
    "pythonlist1 + pythonlist2"
   ]
  },
  {
   "cell_type": "code",
   "execution_count": 9,
   "id": "fd829c8e",
   "metadata": {},
   "outputs": [],
   "source": [
    "matrix1 = np.array([[1,2,3], [4,5,6]])\n",
    "matrix2 = np.array([[7,8,9], [10,11,12]])"
   ]
  },
  {
   "cell_type": "code",
   "execution_count": 11,
   "id": "42dd3e9f",
   "metadata": {
    "panel-layout": {
     "height": 0,
     "visible": true,
     "width": 100
    }
   },
   "outputs": [
    {
     "name": "stdout",
     "output_type": "stream",
     "text": [
      "[[ 8 10 12]\n",
      " [14 16 18]]\n"
     ]
    }
   ],
   "source": [
    "print(matrix1 + matrix2)"
   ]
  },
  {
   "cell_type": "code",
   "execution_count": 13,
   "id": "bebbabbb",
   "metadata": {
    "panel-layout": {
     "height": 0,
     "visible": true,
     "width": 100
    }
   },
   "outputs": [
    {
     "name": "stdout",
     "output_type": "stream",
     "text": [
      "[[-6 -6 -6]\n",
      " [-6 -6 -6]]\n"
     ]
    }
   ],
   "source": [
    "print(matrix1 - matrix2)"
   ]
  },
  {
   "cell_type": "code",
   "execution_count": 15,
   "id": "ac241917",
   "metadata": {
    "panel-layout": {
     "height": 0,
     "visible": true,
     "width": 100
    }
   },
   "outputs": [
    {
     "name": "stdout",
     "output_type": "stream",
     "text": [
      "[[ 7 16 27]\n",
      " [40 55 72]]\n"
     ]
    }
   ],
   "source": [
    "print(matrix1 * matrix2)"
   ]
  },
  {
   "cell_type": "markdown",
   "id": "9b2e152f-927f-4f4e-b722-027415ee872a",
   "metadata": {
    "panel-layout": {
     "height": 60.57500457763672,
     "visible": true,
     "width": 100
    }
   },
   "source": [
    "# to perform matrix multiplication"
   ]
  },
  {
   "cell_type": "code",
   "execution_count": 17,
   "id": "c960dc7c",
   "metadata": {
    "panel-layout": {
     "height": 0,
     "visible": true,
     "width": 100
    }
   },
   "outputs": [
    {
     "name": "stdout",
     "output_type": "stream",
     "text": [
      "[[ 75  81  87]\n",
      " [174 189 204]\n",
      " [471 513 555]]\n"
     ]
    }
   ],
   "source": [
    "matrix1 = np.array([[1,2,3], [4,5,6], [13,14,15]]) # 3x3\n",
    "matrix2 = np.array([[7,8,9], [10,11,12], [16,17,18]]) # 3x3\n",
    "\n",
    "print(np.matmul(matrix1,matrix2))"
   ]
  },
  {
   "cell_type": "markdown",
   "id": "ba0fa2c4-1d7b-4176-99c3-a11ff11243f6",
   "metadata": {
    "panel-layout": {
     "height": 60.57500457763672,
     "visible": true,
     "width": 100
    }
   },
   "source": [
    "# statistical function in numpy library"
   ]
  },
  {
   "cell_type": "code",
   "execution_count": 21,
   "id": "e624f026",
   "metadata": {},
   "outputs": [],
   "source": [
    "marks = np.array([\n",
    "    [87,90,89], [100,87,90],\n",
    "    [94,77,90], [100, 86, 98]\n",
    "])"
   ]
  },
  {
   "cell_type": "code",
   "execution_count": 23,
   "id": "9dca9b15",
   "metadata": {
    "panel-layout": {
     "height": 0,
     "visible": true,
     "width": 100
    }
   },
   "outputs": [
    {
     "name": "stdout",
     "output_type": "stream",
     "text": [
      "77\n",
      "100\n",
      "1088\n",
      "90.66666666666667\n",
      "6.315765107165473\n",
      "39.89\n"
     ]
    }
   ],
   "source": [
    "print(marks.min())\n",
    "print(marks.max())\n",
    "print(marks.sum())\n",
    "print(marks.mean())\n",
    "print(marks.std())\n",
    "print(round(marks.var(),2))"
   ]
  },
  {
   "cell_type": "markdown",
   "id": "90e6f233-bfa9-40b4-9704-9828bea832e5",
   "metadata": {
    "panel-layout": {
     "height": 51.13750076293945,
     "visible": true,
     "width": 100
    }
   },
   "source": [
    "__axis = 1 means row__"
   ]
  },
  {
   "cell_type": "code",
   "execution_count": 26,
   "id": "84607036",
   "metadata": {
    "panel-layout": {
     "height": 0,
     "visible": true,
     "width": 100
    }
   },
   "outputs": [
    {
     "name": "stdout",
     "output_type": "stream",
     "text": [
      "[87 87 77 86]\n",
      "[ 90 100  94 100]\n",
      "[266 277 261 284]\n",
      "[88.66666667 92.33333333 87.         94.66666667]\n",
      "[1.24721913 5.55777733 7.25718035 6.18241233]\n"
     ]
    }
   ],
   "source": [
    "print(marks.min(axis = 1))\n",
    "print(marks.max(axis = 1))\n",
    "print(marks.sum(axis = 1))\n",
    "print(marks.mean(axis = 1))\n",
    "print(marks.std(axis = 1))"
   ]
  },
  {
   "cell_type": "markdown",
   "id": "0d794b1d-18d8-44fb-9b06-c9ebbdc22658",
   "metadata": {
    "panel-layout": {
     "height": 51.13750076293945,
     "visible": true,
     "width": 100
    }
   },
   "source": [
    "__axis = 0 means columnwise__"
   ]
  },
  {
   "cell_type": "code",
   "execution_count": 28,
   "id": "9a97ddeb",
   "metadata": {
    "panel-layout": {
     "height": 0,
     "visible": true,
     "width": 100
    }
   },
   "outputs": [
    {
     "name": "stdout",
     "output_type": "stream",
     "text": [
      "[87 77 89]\n",
      "[100  90  98]\n",
      "[381 340 367]\n",
      "[95.25 85.   91.75]\n",
      "[5.35607132 4.84767986 3.63145976]\n"
     ]
    }
   ],
   "source": [
    "print(marks.min(axis = 0))\n",
    "print(marks.max(axis = 0))\n",
    "print(marks.sum(axis = 0))\n",
    "print(marks.mean(axis = 0))\n",
    "print(marks.std(axis = 0))"
   ]
  },
  {
   "cell_type": "markdown",
   "id": "0a0e431e-390f-4034-8ef5-3453303d63ec",
   "metadata": {
    "panel-layout": {
     "height": 60.57500457763672,
     "visible": true,
     "width": 100
    }
   },
   "source": [
    "# Append"
   ]
  },
  {
   "cell_type": "code",
   "execution_count": 30,
   "id": "64974c6e",
   "metadata": {},
   "outputs": [],
   "source": [
    "x = np.array([0,1,2,3,4])\n",
    "y = np.array([0,1,2,3,4])\n",
    "z = np.array([0,1,2,3,4])"
   ]
  },
  {
   "cell_type": "markdown",
   "id": "aad9945a-62a2-4d16-a249-d77c47700f74",
   "metadata": {
    "panel-layout": {
     "height": 60.57500457763672,
     "visible": true,
     "width": 100
    }
   },
   "source": [
    "# hstack, vstack"
   ]
  },
  {
   "cell_type": "markdown",
   "id": "21a37107-5606-465b-8d57-544598ed5f3a",
   "metadata": {
    "panel-layout": {
     "height": 51.13750076293945,
     "visible": true,
     "width": 100
    }
   },
   "source": [
    "__hstack__"
   ]
  },
  {
   "cell_type": "code",
   "execution_count": 32,
   "id": "328c63b7",
   "metadata": {
    "panel-layout": {
     "height": 27.137500762939453,
     "visible": true,
     "width": 100
    }
   },
   "outputs": [
    {
     "data": {
      "text/plain": [
       "array([0, 1, 2, 3, 4, 0, 1, 2, 3, 4, 0, 1, 2, 3, 4])"
      ]
     },
     "execution_count": 32,
     "metadata": {},
     "output_type": "execute_result"
    }
   ],
   "source": [
    "np.hstack([x,y,z])"
   ]
  },
  {
   "cell_type": "markdown",
   "id": "193e046a-41f3-4de4-905e-b096c1772c8f",
   "metadata": {
    "panel-layout": {
     "height": 51.13750076293945,
     "visible": true,
     "width": 100
    }
   },
   "source": [
    "__vstack__"
   ]
  },
  {
   "cell_type": "code",
   "execution_count": 34,
   "id": "9f18fea7",
   "metadata": {
    "panel-layout": {
     "height": 61.412498474121094,
     "visible": true,
     "width": 100
    }
   },
   "outputs": [
    {
     "data": {
      "text/plain": [
       "array([[0, 1, 2, 3, 4],\n",
       "       [0, 1, 2, 3, 4],\n",
       "       [0, 1, 2, 3, 4]])"
      ]
     },
     "execution_count": 34,
     "metadata": {},
     "output_type": "execute_result"
    }
   ],
   "source": [
    "np.vstack([x,y,z])"
   ]
  },
  {
   "cell_type": "code",
   "execution_count": 36,
   "id": "4ffa37c1",
   "metadata": {
    "panel-layout": {
     "height": 27.137500762939453,
     "visible": true,
     "width": 100
    }
   },
   "outputs": [
    {
     "data": {
      "text/plain": [
       "array([0, 1, 2, 3, 4, 2, 3])"
      ]
     },
     "execution_count": 36,
     "metadata": {},
     "output_type": "execute_result"
    }
   ],
   "source": [
    "np.append(x,(2,3))"
   ]
  },
  {
   "cell_type": "code",
   "execution_count": 38,
   "id": "3ebf72ca",
   "metadata": {
    "panel-layout": {
     "height": 27.137500762939453,
     "visible": true,
     "width": 100
    }
   },
   "outputs": [
    {
     "data": {
      "text/plain": [
       "array([0, 1, 2, 3, 4])"
      ]
     },
     "execution_count": 38,
     "metadata": {},
     "output_type": "execute_result"
    }
   ],
   "source": [
    "x"
   ]
  },
  {
   "cell_type": "code",
   "execution_count": 40,
   "id": "2ac1c580",
   "metadata": {},
   "outputs": [],
   "source": [
    "x = np.append(x,(2,3))"
   ]
  },
  {
   "cell_type": "code",
   "execution_count": 42,
   "id": "204372c4",
   "metadata": {
    "panel-layout": {
     "height": 27.137500762939453,
     "visible": true,
     "width": 100
    }
   },
   "outputs": [
    {
     "data": {
      "text/plain": [
       "array([0, 1, 2, 3, 4, 2, 3])"
      ]
     },
     "execution_count": 42,
     "metadata": {},
     "output_type": "execute_result"
    }
   ],
   "source": [
    "x"
   ]
  },
  {
   "cell_type": "code",
   "execution_count": 44,
   "id": "af82126d-976a-4f7e-9b01-f0bcd671f51f",
   "metadata": {},
   "outputs": [],
   "source": [
    "new_array = np.array([1,2,3])"
   ]
  },
  {
   "cell_type": "code",
   "execution_count": 46,
   "id": "13ab2d25",
   "metadata": {
    "panel-layout": {
     "height": 78.55000305175781,
     "visible": true,
     "width": 100
    }
   },
   "outputs": [
    {
     "data": {
      "text/plain": [
       "array([[1, 2, 3],\n",
       "       [4, 5, 6],\n",
       "       [1, 2, 3],\n",
       "       [1, 2, 3]])"
      ]
     },
     "execution_count": 46,
     "metadata": {},
     "output_type": "execute_result"
    }
   ],
   "source": [
    "x = np.append([[1, 2, 3], [4, 5, 6]], [[1, 2, 3], new_array], \n",
    "              axis=0)\n",
    "x"
   ]
  },
  {
   "cell_type": "code",
   "execution_count": 102,
   "id": "ab9c3801",
   "metadata": {
    "panel-layout": {
     "height": 27.137500762939453,
     "visible": true,
     "width": 100
    }
   },
   "outputs": [
    {
     "data": {
      "text/plain": [
       "2"
      ]
     },
     "execution_count": 102,
     "metadata": {},
     "output_type": "execute_result"
    }
   ],
   "source": [
    "x.ndim"
   ]
  },
  {
   "cell_type": "code",
   "execution_count": 48,
   "id": "03ae353f",
   "metadata": {
    "panel-layout": {
     "height": 61.412498474121094,
     "visible": true,
     "width": 100
    }
   },
   "outputs": [
    {
     "data": {
      "text/plain": [
       "array([[1, 4, 1, 1],\n",
       "       [2, 5, 2, 2],\n",
       "       [3, 6, 3, 3]])"
      ]
     },
     "execution_count": 48,
     "metadata": {},
     "output_type": "execute_result"
    }
   ],
   "source": [
    "np.transpose(x)"
   ]
  },
  {
   "cell_type": "code",
   "execution_count": 50,
   "id": "5d5fa392",
   "metadata": {
    "panel-layout": {
     "height": 61.412498474121094,
     "visible": true,
     "width": 100
    }
   },
   "outputs": [
    {
     "data": {
      "text/plain": [
       "array([[1, 4, 1, 1],\n",
       "       [2, 5, 2, 2],\n",
       "       [3, 6, 3, 3]])"
      ]
     },
     "execution_count": 50,
     "metadata": {},
     "output_type": "execute_result"
    }
   ],
   "source": [
    "x.T"
   ]
  },
  {
   "cell_type": "markdown",
   "id": "0fa1e951-e0bc-47d7-b6fb-9bebf1544c48",
   "metadata": {
    "panel-layout": {
     "height": 60.57500457763672,
     "visible": true,
     "width": 100
    }
   },
   "source": [
    "# Boolean indexing"
   ]
  },
  {
   "cell_type": "code",
   "execution_count": 52,
   "id": "ee1f647d",
   "metadata": {
    "panel-layout": {
     "height": 0,
     "visible": true,
     "width": 100
    }
   },
   "outputs": [
    {
     "name": "stdout",
     "output_type": "stream",
     "text": [
      "[0 1 2 3 4 5 6]\n"
     ]
    }
   ],
   "source": [
    "arr = np.arange(7)\n",
    "print(arr)"
   ]
  },
  {
   "cell_type": "code",
   "execution_count": 54,
   "id": "e29f9491",
   "metadata": {
    "panel-layout": {
     "height": 27.137500762939453,
     "visible": true,
     "width": 100
    }
   },
   "outputs": [
    {
     "data": {
      "text/plain": [
       "array([False, False, False, False, False,  True,  True])"
      ]
     },
     "execution_count": 54,
     "metadata": {},
     "output_type": "execute_result"
    }
   ],
   "source": [
    "arr > 4"
   ]
  },
  {
   "cell_type": "code",
   "execution_count": 56,
   "id": "71c291b8",
   "metadata": {
    "panel-layout": {
     "height": 27.137500762939453,
     "visible": true,
     "width": 100
    },
    "scrolled": true
   },
   "outputs": [
    {
     "data": {
      "text/plain": [
       "array([5, 6])"
      ]
     },
     "execution_count": 56,
     "metadata": {},
     "output_type": "execute_result"
    }
   ],
   "source": [
    "arr[arr > 4]"
   ]
  },
  {
   "cell_type": "markdown",
   "id": "e74eab1a-4159-4af2-a3bb-58106edcb8d9",
   "metadata": {
    "panel-layout": {
     "height": 60.57500457763672,
     "visible": true,
     "width": 100
    }
   },
   "source": [
    "# reshaping an array"
   ]
  },
  {
   "cell_type": "code",
   "execution_count": 58,
   "id": "7c7aff0a",
   "metadata": {},
   "outputs": [],
   "source": [
    "array = np.arange(12)"
   ]
  },
  {
   "cell_type": "code",
   "execution_count": 122,
   "id": "7911d2cd",
   "metadata": {},
   "outputs": [],
   "source": [
    "array.shape = (3,4)"
   ]
  },
  {
   "cell_type": "code",
   "execution_count": 60,
   "id": "53657f1a",
   "metadata": {
    "panel-layout": {
     "height": 310,
     "visible": true,
     "width": 100
    }
   },
   "outputs": [
    {
     "data": {
      "text/plain": [
       "array([[[ 0,  1],\n",
       "        [ 2,  3],\n",
       "        [ 4,  5]],\n",
       "\n",
       "       [[ 6,  7],\n",
       "        [ 8,  9],\n",
       "        [10, 11]]])"
      ]
     },
     "execution_count": 60,
     "metadata": {},
     "output_type": "execute_result"
    }
   ],
   "source": [
    "np.arange(12).reshape((2,3,2))"
   ]
  },
  {
   "cell_type": "code",
   "execution_count": 62,
   "id": "b211eb4d",
   "metadata": {
    "panel-layout": {
     "height": 61.412498474121094,
     "visible": true,
     "width": 100
    }
   },
   "outputs": [
    {
     "data": {
      "text/plain": [
       "array([ 0,  1,  2,  3,  4,  5,  6,  7,  8,  9, 10, 11])"
      ]
     },
     "execution_count": 62,
     "metadata": {},
     "output_type": "execute_result"
    }
   ],
   "source": [
    "array"
   ]
  },
  {
   "cell_type": "code",
   "execution_count": 130,
   "id": "2a89bf02",
   "metadata": {
    "panel-layout": {
     "height": 27.137500762939453,
     "visible": true,
     "width": 100
    }
   },
   "outputs": [
    {
     "data": {
      "text/plain": [
       "12"
      ]
     },
     "execution_count": 130,
     "metadata": {},
     "output_type": "execute_result"
    }
   ],
   "source": [
    "array.size"
   ]
  },
  {
   "cell_type": "code",
   "execution_count": 132,
   "id": "120518d6",
   "metadata": {
    "panel-layout": {
     "height": 27.137500762939453,
     "visible": true,
     "width": 100
    }
   },
   "outputs": [
    {
     "data": {
      "text/plain": [
       "2"
      ]
     },
     "execution_count": 132,
     "metadata": {},
     "output_type": "execute_result"
    }
   ],
   "source": [
    "array.ndim"
   ]
  },
  {
   "cell_type": "markdown",
   "id": "b6ad9997-d29f-4519-b6f8-65bbc1ed0277",
   "metadata": {},
   "source": [
    "# generating random values"
   ]
  },
  {
   "cell_type": "code",
   "execution_count": 64,
   "id": "d2db5f97",
   "metadata": {
    "panel-layout": {
     "height": 68.3375015258789,
     "visible": true,
     "width": 100
    }
   },
   "outputs": [
    {
     "data": {
      "text/plain": [
       "array([0.85725194, 0.05051379, 0.66988413, 0.28726644, 0.2120834 ])"
      ]
     },
     "execution_count": 64,
     "metadata": {},
     "output_type": "execute_result"
    }
   ],
   "source": [
    "np.random.rand(5)"
   ]
  },
  {
   "cell_type": "code",
   "execution_count": 66,
   "id": "a784527d",
   "metadata": {
    "panel-layout": {
     "height": 95.6875,
     "visible": true,
     "width": 100
    }
   },
   "outputs": [
    {
     "data": {
      "text/plain": [
       "array([[16, 11, 15, 11, 11],\n",
       "       [16, 13, 13, 16, 10],\n",
       "       [15, 16, 16, 12, 11],\n",
       "       [17, 17, 16, 19, 12],\n",
       "       [16, 10, 14, 17, 14]])"
      ]
     },
     "execution_count": 66,
     "metadata": {},
     "output_type": "execute_result"
    }
   ],
   "source": [
    "np.random.randint(10,20, (5,5))"
   ]
  },
  {
   "cell_type": "code",
   "execution_count": 68,
   "id": "6663670a",
   "metadata": {
    "panel-layout": {
     "height": 27.137500762939453,
     "visible": true,
     "width": 100
    }
   },
   "outputs": [
    {
     "data": {
      "text/plain": [
       "array(['a', 'o', 'a', 'i', 'e', 'o', 'a', 'o', 'i', 'o', 'o', 'u', 'o'],\n",
       "      dtype='<U1')"
      ]
     },
     "execution_count": 68,
     "metadata": {},
     "output_type": "execute_result"
    }
   ],
   "source": [
    "letters = list('aeiou')\n",
    "np.random.choice(letters, 13)"
   ]
  },
  {
   "cell_type": "code",
   "execution_count": 70,
   "id": "3782c42f",
   "metadata": {
    "panel-layout": {
     "height": 27.137500762939453,
     "visible": true,
     "width": 100
    }
   },
   "outputs": [
    {
     "data": {
      "text/plain": [
       "array(['a', 'o', 'o', 'a', 'e'], dtype='<U1')"
      ]
     },
     "execution_count": 70,
     "metadata": {},
     "output_type": "execute_result"
    }
   ],
   "source": [
    "np.random.choice(letters, 5)"
   ]
  },
  {
   "cell_type": "code",
   "execution_count": 143,
   "id": "36a6f992",
   "metadata": {
    "panel-layout": {
     "height": 27.137500762939453,
     "visible": true,
     "width": 100
    }
   },
   "outputs": [
    {
     "data": {
      "text/plain": [
       "array(['e', 'o', 'u', 'i', 'a'], dtype='<U1')"
      ]
     },
     "execution_count": 143,
     "metadata": {},
     "output_type": "execute_result"
    }
   ],
   "source": [
    "np.random.choice(letters, 5, replace=False)"
   ]
  },
  {
   "cell_type": "code",
   "execution_count": 68,
   "id": "cb7b0868",
   "metadata": {
    "panel-layout": {
     "height": 27.137500762939453,
     "visible": true,
     "width": 100
    }
   },
   "outputs": [
    {
     "data": {
      "text/plain": [
       "array(['e', 'a', 'e', 'i', 'i', 'e', 'a', 'i', 'a', 'i', 'e', 'e', 'u',\n",
       "       'a', 'u'], dtype='<U1')"
      ]
     },
     "execution_count": 68,
     "metadata": {},
     "output_type": "execute_result"
    }
   ],
   "source": [
    "np.random.choice(letters, 15, p=[0.4, 0.3, 0.1, 0.1, 0.1])"
   ]
  },
  {
   "cell_type": "markdown",
   "id": "dcf7058b-e27c-4d41-86ae-9a8ec91fe1aa",
   "metadata": {},
   "source": [
    "# save and load array"
   ]
  },
  {
   "cell_type": "code",
   "execution_count": 72,
   "id": "d1dae59b",
   "metadata": {
    "panel-layout": {
     "height": 0,
     "visible": true,
     "width": 100
    }
   },
   "outputs": [],
   "source": [
    "array = np.random.randint(10,20, (5,5))\n",
    "np.save('array_file', array)"
   ]
  },
  {
   "cell_type": "code",
   "execution_count": 74,
   "id": "d63e860a",
   "metadata": {
    "panel-layout": {
     "height": 0,
     "visible": true,
     "width": 100
    }
   },
   "outputs": [
    {
     "name": "stdout",
     "output_type": "stream",
     "text": [
      "[[14 17 15 16 10]\n",
      " [19 10 16 15 13]\n",
      " [11 16 19 17 16]\n",
      " [12 11 18 17 10]\n",
      " [10 17 19 19 19]]\n"
     ]
    }
   ],
   "source": [
    "array2 = np.load('array_file.npy')\n",
    "print(array2)"
   ]
  },
  {
   "cell_type": "code",
   "execution_count": null,
   "id": "9cc0f5f8",
   "metadata": {},
   "outputs": [],
   "source": []
  }
 ],
 "metadata": {
  "kernelspec": {
   "display_name": "Python [conda env:base] *",
   "language": "python",
   "name": "conda-base-py"
  },
  "language_info": {
   "codemirror_mode": {
    "name": "ipython",
    "version": 3
   },
   "file_extension": ".py",
   "mimetype": "text/x-python",
   "name": "python",
   "nbconvert_exporter": "python",
   "pygments_lexer": "ipython3",
   "version": "3.12.7"
  },
  "panel-cell-order": [
   "700697ca",
   "37afd5e8",
   "05c5ae8e",
   "42dd3e9f",
   "bebbabbb",
   "ac241917",
   "9b2e152f-927f-4f4e-b722-027415ee872a",
   "c960dc7c",
   "ba0fa2c4-1d7b-4176-99c3-a11ff11243f6",
   "9dca9b15",
   "90e6f233-bfa9-40b4-9704-9828bea832e5",
   "84607036",
   "0d794b1d-18d8-44fb-9b06-c9ebbdc22658",
   "9a97ddeb",
   "0a0e431e-390f-4034-8ef5-3453303d63ec",
   "aad9945a-62a2-4d16-a249-d77c47700f74",
   "21a37107-5606-465b-8d57-544598ed5f3a",
   "328c63b7",
   "193e046a-41f3-4de4-905e-b096c1772c8f",
   "9f18fea7",
   "4ffa37c1",
   "3ebf72ca",
   "204372c4",
   "13ab2d25",
   "ab9c3801",
   "03ae353f",
   "5d5fa392",
   "0fa1e951-e0bc-47d7-b6fb-9bebf1544c48",
   "ee1f647d",
   "e29f9491",
   "71c291b8",
   "e74eab1a-4159-4af2-a3bb-58106edcb8d9",
   "53657f1a",
   "b211eb4d",
   "2a89bf02",
   "120518d6",
   "d2db5f97",
   "a784527d",
   "6663670a",
   "3782c42f",
   "36a6f992",
   "cb7b0868",
   "d1dae59b",
   "d63e860a"
  ]
 },
 "nbformat": 4,
 "nbformat_minor": 5
}
