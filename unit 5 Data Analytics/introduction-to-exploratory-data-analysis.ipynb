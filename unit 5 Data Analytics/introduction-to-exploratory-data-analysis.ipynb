{
 "cells": [
  {
   "cell_type": "markdown",
   "id": "3f87cc5d",
   "metadata": {
    "papermill": {
     "duration": 0.020909,
     "end_time": "2021-12-31T22:25:23.514319",
     "exception": false,
     "start_time": "2021-12-31T22:25:23.493410",
     "status": "completed"
    },
    "tags": []
   },
   "source": [
    "# Introduction to Exploritary Data Analysis\n",
    "Using Pandas!\n",
    "\n",
    "This notebook goes along with a tutorial that can be found on the [Medallion Data Science youtube channel](https://www.youtube.com/channel/UCxladMszXan-jfgzyeIMyvw). Click the link and subscribe for future tutorials."
   ]
  },
  {
   "cell_type": "markdown",
   "id": "5a4c9702",
   "metadata": {
    "papermill": {
     "duration": 0.018835,
     "end_time": "2021-12-31T22:25:23.552370",
     "exception": false,
     "start_time": "2021-12-31T22:25:23.533535",
     "status": "completed"
    },
    "tags": []
   },
   "source": [
    "# Step 0: Imports and Reading Data"
   ]
  },
  {
   "cell_type": "code",
   "execution_count": null,
   "id": "7daf9201",
   "metadata": {
    "_cell_guid": "b1076dfc-b9ad-4769-8c92-a6c4dae69d19",
    "_uuid": "8f2839f25d086af736a60e9eeb907d3b93b6e0e5",
    "execution": {
     "iopub.execute_input": "2021-12-31T22:25:23.602891Z",
     "iopub.status.busy": "2021-12-31T22:25:23.602152Z",
     "iopub.status.idle": "2021-12-31T22:25:24.521531Z",
     "shell.execute_reply": "2021-12-31T22:25:24.520395Z",
     "shell.execute_reply.started": "2021-12-31T18:56:46.354032Z"
    },
    "papermill": {
     "duration": 0.950081,
     "end_time": "2021-12-31T22:25:24.521694",
     "exception": false,
     "start_time": "2021-12-31T22:25:23.571613",
     "status": "completed"
    },
    "tags": []
   },
   "outputs": [],
   "source": [
    "import pandas as pd\n",
    "import numpy as np\n",
    "import matplotlib.pylab as plt\n",
    "import seaborn as sns\n",
    "plt.style.use('ggplot')\n",
    "# pd.set_option('max_columns', 200)"
   ]
  },
  {
   "cell_type": "code",
   "execution_count": null,
   "id": "2a5739ac",
   "metadata": {
    "execution": {
     "iopub.execute_input": "2021-12-31T22:25:24.564658Z",
     "iopub.status.busy": "2021-12-31T22:25:24.564076Z",
     "iopub.status.idle": "2021-12-31T22:25:24.610337Z",
     "shell.execute_reply": "2021-12-31T22:25:24.610862Z",
     "shell.execute_reply.started": "2021-12-31T18:56:46.639684Z"
    },
    "papermill": {
     "duration": 0.070227,
     "end_time": "2021-12-31T22:25:24.611069",
     "exception": false,
     "start_time": "2021-12-31T22:25:24.540842",
     "status": "completed"
    },
    "tags": []
   },
   "outputs": [],
   "source": [
    "df = pd.read_csv('coaster_db.csv')"
   ]
  },
  {
   "cell_type": "markdown",
   "id": "0df2920f",
   "metadata": {
    "papermill": {
     "duration": 0.023547,
     "end_time": "2021-12-31T22:25:24.662163",
     "exception": false,
     "start_time": "2021-12-31T22:25:24.638616",
     "status": "completed"
    },
    "tags": []
   },
   "source": [
    "## Step 1: Data Understanding\n",
    "- Dataframe `shape`\n",
    "- `head` and `tail`\n",
    "- `dtypes`\n",
    "- `describe`\n"
   ]
  },
  {
   "cell_type": "code",
   "execution_count": null,
   "id": "aa4d87d1",
   "metadata": {
    "execution": {
     "iopub.execute_input": "2021-12-31T22:25:24.709419Z",
     "iopub.status.busy": "2021-12-31T22:25:24.708682Z",
     "iopub.status.idle": "2021-12-31T22:25:24.715565Z",
     "shell.execute_reply": "2021-12-31T22:25:24.716156Z",
     "shell.execute_reply.started": "2021-12-31T18:56:47.269977Z"
    },
    "papermill": {
     "duration": 0.029721,
     "end_time": "2021-12-31T22:25:24.716333",
     "exception": false,
     "start_time": "2021-12-31T22:25:24.686612",
     "status": "completed"
    },
    "tags": []
   },
   "outputs": [],
   "source": [
    "df.shape"
   ]
  },
  {
   "cell_type": "code",
   "execution_count": null,
   "id": "b715dee1",
   "metadata": {
    "execution": {
     "iopub.execute_input": "2021-12-31T22:25:24.761314Z",
     "iopub.status.busy": "2021-12-31T22:25:24.760448Z",
     "iopub.status.idle": "2021-12-31T22:25:24.804716Z",
     "shell.execute_reply": "2021-12-31T22:25:24.805191Z",
     "shell.execute_reply.started": "2021-12-31T18:56:47.613509Z"
    },
    "papermill": {
     "duration": 0.068471,
     "end_time": "2021-12-31T22:25:24.805357",
     "exception": false,
     "start_time": "2021-12-31T22:25:24.736886",
     "status": "completed"
    },
    "tags": []
   },
   "outputs": [],
   "source": [
    "df.head(5)"
   ]
  },
  {
   "cell_type": "code",
   "execution_count": null,
   "id": "17f9e607",
   "metadata": {
    "execution": {
     "iopub.execute_input": "2021-12-31T22:25:24.849170Z",
     "iopub.status.busy": "2021-12-31T22:25:24.848311Z",
     "iopub.status.idle": "2021-12-31T22:25:24.853588Z",
     "shell.execute_reply": "2021-12-31T22:25:24.854030Z",
     "shell.execute_reply.started": "2021-12-31T18:56:47.948571Z"
    },
    "papermill": {
     "duration": 0.028414,
     "end_time": "2021-12-31T22:25:24.854178",
     "exception": false,
     "start_time": "2021-12-31T22:25:24.825764",
     "status": "completed"
    },
    "tags": []
   },
   "outputs": [],
   "source": [
    "df.columns"
   ]
  },
  {
   "cell_type": "code",
   "execution_count": null,
   "id": "1e2c996e",
   "metadata": {
    "execution": {
     "iopub.execute_input": "2021-12-31T22:25:24.898226Z",
     "iopub.status.busy": "2021-12-31T22:25:24.897360Z",
     "iopub.status.idle": "2021-12-31T22:25:24.903993Z",
     "shell.execute_reply": "2021-12-31T22:25:24.904425Z",
     "shell.execute_reply.started": "2021-12-31T18:56:48.283347Z"
    },
    "papermill": {
     "duration": 0.030131,
     "end_time": "2021-12-31T22:25:24.904578",
     "exception": false,
     "start_time": "2021-12-31T22:25:24.874447",
     "status": "completed"
    },
    "tags": []
   },
   "outputs": [],
   "source": [
    "df.dtypes"
   ]
  },
  {
   "cell_type": "code",
   "execution_count": null,
   "id": "72643f56",
   "metadata": {
    "execution": {
     "iopub.execute_input": "2021-12-31T22:25:24.949624Z",
     "iopub.status.busy": "2021-12-31T22:25:24.948743Z",
     "iopub.status.idle": "2021-12-31T22:25:24.990587Z",
     "shell.execute_reply": "2021-12-31T22:25:24.991040Z",
     "shell.execute_reply.started": "2021-12-31T18:56:48.648007Z"
    },
    "papermill": {
     "duration": 0.065671,
     "end_time": "2021-12-31T22:25:24.991200",
     "exception": false,
     "start_time": "2021-12-31T22:25:24.925529",
     "status": "completed"
    },
    "tags": []
   },
   "outputs": [],
   "source": [
    "df.describe()"
   ]
  },
  {
   "cell_type": "markdown",
   "id": "b1bd6b43",
   "metadata": {
    "papermill": {
     "duration": 0.021459,
     "end_time": "2021-12-31T22:25:25.034364",
     "exception": false,
     "start_time": "2021-12-31T22:25:25.012905",
     "status": "completed"
    },
    "tags": []
   },
   "source": [
    "# Step 2: Data Preperation\n",
    "- Dropping irrelevant columns and rows\n",
    "- Identifying duplicated columns\n",
    "- Renaming Columns\n",
    "- Feature Creation"
   ]
  },
  {
   "cell_type": "code",
   "execution_count": null,
   "id": "8538109c",
   "metadata": {
    "execution": {
     "iopub.execute_input": "2021-12-31T22:25:25.090635Z",
     "iopub.status.busy": "2021-12-31T22:25:25.089745Z",
     "iopub.status.idle": "2021-12-31T22:25:25.092705Z",
     "shell.execute_reply": "2021-12-31T22:25:25.093271Z",
     "shell.execute_reply.started": "2021-12-31T19:02:01.357828Z"
    },
    "papermill": {
     "duration": 0.030091,
     "end_time": "2021-12-31T22:25:25.093436",
     "exception": false,
     "start_time": "2021-12-31T22:25:25.063345",
     "status": "completed"
    },
    "tags": []
   },
   "outputs": [],
   "source": [
    "# Example of dropping columns\n",
    "# df.drop(['Opening date'], axis=1)"
   ]
  },
  {
   "cell_type": "code",
   "execution_count": null,
   "id": "3fbf853c",
   "metadata": {
    "execution": {
     "iopub.execute_input": "2021-12-31T22:25:25.146203Z",
     "iopub.status.busy": "2021-12-31T22:25:25.145313Z",
     "iopub.status.idle": "2021-12-31T22:25:25.152191Z",
     "shell.execute_reply": "2021-12-31T22:25:25.151616Z",
     "shell.execute_reply.started": "2021-12-31T19:02:44.759528Z"
    },
    "papermill": {
     "duration": 0.035435,
     "end_time": "2021-12-31T22:25:25.152317",
     "exception": false,
     "start_time": "2021-12-31T22:25:25.116882",
     "status": "completed"
    },
    "tags": []
   },
   "outputs": [],
   "source": [
    "df = df[['coaster_name',\n",
    "    # 'Length', 'Speed',\n",
    "    'Location', 'Status',\n",
    "    # 'Opening date',\n",
    "    #   'Type',\n",
    "    'Manufacturer',\n",
    "#     'Height restriction', 'Model', 'Height',\n",
    "#        'Inversions', 'Lift/launch system', 'Cost', 'Trains', 'Park section',\n",
    "#        'Duration', 'Capacity', 'G-force', 'Designer', 'Max vertical angle',\n",
    "#        'Drop', 'Soft opening date', 'Fast Lane available', 'Replaced',\n",
    "#        'Track layout', 'Fastrack available', 'Soft opening date.1',\n",
    "#        'Closing date',\n",
    "#     'Opened', \n",
    "    # 'Replaced by', 'Website',\n",
    "#        'Flash Pass Available', 'Must transfer from wheelchair', 'Theme',\n",
    "#        'Single rider line available', 'Restraint Style',\n",
    "#        'Flash Pass available', 'Acceleration', 'Restraints', 'Name',\n",
    "       'year_introduced',\n",
    "        'latitude', 'longitude',\n",
    "    'Type_Main',\n",
    "       'opening_date_clean',\n",
    "    #'speed1', 'speed2', 'speed1_value', 'speed1_unit',\n",
    "       'speed_mph', \n",
    "    #'height_value', 'height_unit',\n",
    "    'height_ft',\n",
    "       'Inversions_clean', 'Gforce_clean']].copy()"
   ]
  },
  {
   "cell_type": "code",
   "execution_count": null,
   "id": "dd89ce3e",
   "metadata": {
    "execution": {
     "iopub.execute_input": "2021-12-31T22:25:25.206413Z",
     "iopub.status.busy": "2021-12-31T22:25:25.205522Z",
     "iopub.status.idle": "2021-12-31T22:25:25.208881Z",
     "shell.execute_reply": "2021-12-31T22:25:25.209403Z",
     "shell.execute_reply.started": "2021-12-31T19:03:34.100799Z"
    },
    "papermill": {
     "duration": 0.033051,
     "end_time": "2021-12-31T22:25:25.209555",
     "exception": false,
     "start_time": "2021-12-31T22:25:25.176504",
     "status": "completed"
    },
    "tags": []
   },
   "outputs": [],
   "source": [
    "df['opening_date_clean'] = pd.to_datetime(df['opening_date_clean'])"
   ]
  },
  {
   "cell_type": "code",
   "execution_count": null,
   "id": "84e8fa7e",
   "metadata": {
    "execution": {
     "iopub.execute_input": "2021-12-31T22:25:25.257652Z",
     "iopub.status.busy": "2021-12-31T22:25:25.256947Z",
     "iopub.status.idle": "2021-12-31T22:25:25.259576Z",
     "shell.execute_reply": "2021-12-31T22:25:25.259119Z",
     "shell.execute_reply.started": "2021-12-31T19:07:00.936091Z"
    },
    "papermill": {
     "duration": 0.028951,
     "end_time": "2021-12-31T22:25:25.259699",
     "exception": false,
     "start_time": "2021-12-31T22:25:25.230748",
     "status": "completed"
    },
    "tags": []
   },
   "outputs": [],
   "source": [
    "# Rename our columns\n",
    "df = df.rename(columns={'coaster_name':'Coaster_Name',\n",
    "                   'year_introduced':'Year_Introduced',\n",
    "                   'opening_date_clean':'Opening_Date',\n",
    "                   'speed_mph':'Speed_mph',\n",
    "                   'height_ft':'Height_ft',\n",
    "                   'Inversions_clean':'Inversions',\n",
    "                   'Gforce_clean':'Gforce'})"
   ]
  },
  {
   "cell_type": "code",
   "execution_count": null,
   "id": "e068cc2a",
   "metadata": {
    "execution": {
     "iopub.execute_input": "2021-12-31T22:25:25.305008Z",
     "iopub.status.busy": "2021-12-31T22:25:25.304166Z",
     "iopub.status.idle": "2021-12-31T22:25:25.312365Z",
     "shell.execute_reply": "2021-12-31T22:25:25.311825Z",
     "shell.execute_reply.started": "2021-12-31T19:07:47.744749Z"
    },
    "papermill": {
     "duration": 0.03178,
     "end_time": "2021-12-31T22:25:25.312501",
     "exception": false,
     "start_time": "2021-12-31T22:25:25.280721",
     "status": "completed"
    },
    "tags": []
   },
   "outputs": [],
   "source": [
    "df.isna().sum()"
   ]
  },
  {
   "cell_type": "code",
   "execution_count": null,
   "id": "378e91d2",
   "metadata": {
    "execution": {
     "iopub.execute_input": "2021-12-31T22:25:25.358756Z",
     "iopub.status.busy": "2021-12-31T22:25:25.358167Z",
     "iopub.status.idle": "2021-12-31T22:25:25.373403Z",
     "shell.execute_reply": "2021-12-31T22:25:25.373813Z",
     "shell.execute_reply.started": "2021-12-31T19:09:09.230776Z"
    },
    "papermill": {
     "duration": 0.040119,
     "end_time": "2021-12-31T22:25:25.373985",
     "exception": false,
     "start_time": "2021-12-31T22:25:25.333866",
     "status": "completed"
    },
    "tags": []
   },
   "outputs": [],
   "source": [
    "df.loc[df.duplicated()]"
   ]
  },
  {
   "cell_type": "code",
   "execution_count": null,
   "id": "8d156289",
   "metadata": {
    "execution": {
     "iopub.execute_input": "2021-12-31T22:25:25.419861Z",
     "iopub.status.busy": "2021-12-31T22:25:25.419346Z",
     "iopub.status.idle": "2021-12-31T22:25:25.435586Z",
     "shell.execute_reply": "2021-12-31T22:25:25.436110Z",
     "shell.execute_reply.started": "2021-12-31T19:10:13.801525Z"
    },
    "papermill": {
     "duration": 0.04066,
     "end_time": "2021-12-31T22:25:25.436269",
     "exception": false,
     "start_time": "2021-12-31T22:25:25.395609",
     "status": "completed"
    },
    "tags": []
   },
   "outputs": [],
   "source": [
    "# Check for duplicate coaster name\n",
    "df.loc[df.duplicated(subset=['Coaster_Name'])].head(5)"
   ]
  },
  {
   "cell_type": "code",
   "execution_count": null,
   "id": "dc67389f",
   "metadata": {
    "execution": {
     "iopub.execute_input": "2021-12-31T22:25:25.483066Z",
     "iopub.status.busy": "2021-12-31T22:25:25.482481Z",
     "iopub.status.idle": "2021-12-31T22:25:25.498934Z",
     "shell.execute_reply": "2021-12-31T22:25:25.498513Z",
     "shell.execute_reply.started": "2021-12-31T19:11:30.916597Z"
    },
    "papermill": {
     "duration": 0.040619,
     "end_time": "2021-12-31T22:25:25.499081",
     "exception": false,
     "start_time": "2021-12-31T22:25:25.458462",
     "status": "completed"
    },
    "tags": []
   },
   "outputs": [],
   "source": [
    "# Checking an example duplicate\n",
    "df.query('Coaster_Name == \"Crystal Beach Cyclone\"')"
   ]
  },
  {
   "cell_type": "code",
   "execution_count": null,
   "id": "be1ed022",
   "metadata": {
    "execution": {
     "iopub.execute_input": "2021-12-31T22:25:25.549542Z",
     "iopub.status.busy": "2021-12-31T22:25:25.548916Z",
     "iopub.status.idle": "2021-12-31T22:25:25.552234Z",
     "shell.execute_reply": "2021-12-31T22:25:25.551747Z",
     "shell.execute_reply.started": "2021-12-31T19:11:46.198003Z"
    },
    "papermill": {
     "duration": 0.030624,
     "end_time": "2021-12-31T22:25:25.552360",
     "exception": false,
     "start_time": "2021-12-31T22:25:25.521736",
     "status": "completed"
    },
    "tags": []
   },
   "outputs": [],
   "source": [
    "df.columns"
   ]
  },
  {
   "cell_type": "code",
   "execution_count": null,
   "id": "d033284f",
   "metadata": {
    "execution": {
     "iopub.execute_input": "2021-12-31T22:25:25.603179Z",
     "iopub.status.busy": "2021-12-31T22:25:25.602516Z",
     "iopub.status.idle": "2021-12-31T22:25:25.606940Z",
     "shell.execute_reply": "2021-12-31T22:25:25.607364Z",
     "shell.execute_reply.started": "2021-12-31T19:13:58.914669Z"
    },
    "papermill": {
     "duration": 0.032432,
     "end_time": "2021-12-31T22:25:25.607520",
     "exception": false,
     "start_time": "2021-12-31T22:25:25.575088",
     "status": "completed"
    },
    "tags": []
   },
   "outputs": [],
   "source": [
    "df = df.loc[~df.duplicated(subset=['Coaster_Name','Location','Opening_Date'])] \\\n",
    "    .reset_index(drop=True).copy()"
   ]
  },
  {
   "cell_type": "markdown",
   "id": "53326621",
   "metadata": {
    "papermill": {
     "duration": 0.022479,
     "end_time": "2021-12-31T22:25:25.653469",
     "exception": false,
     "start_time": "2021-12-31T22:25:25.630990",
     "status": "completed"
    },
    "tags": []
   },
   "source": [
    "# Step 3: Feature Understanding\n",
    "(Univariate analysis)\n",
    "\n",
    "- Plotting Feature Distributions\n",
    "    - Histogram\n",
    "    - KDE\n",
    "    - Boxplot"
   ]
  },
  {
   "cell_type": "code",
   "execution_count": null,
   "id": "1cf49ef5",
   "metadata": {
    "execution": {
     "iopub.execute_input": "2021-12-31T22:25:25.704940Z",
     "iopub.status.busy": "2021-12-31T22:25:25.704318Z",
     "iopub.status.idle": "2021-12-31T22:25:25.709222Z",
     "shell.execute_reply": "2021-12-31T22:25:25.708744Z",
     "shell.execute_reply.started": "2021-12-31T19:15:42.180508Z"
    },
    "papermill": {
     "duration": 0.03309,
     "end_time": "2021-12-31T22:25:25.709352",
     "exception": false,
     "start_time": "2021-12-31T22:25:25.676262",
     "status": "completed"
    },
    "tags": []
   },
   "outputs": [],
   "source": [
    "df['Year_Introduced'].value_counts()"
   ]
  },
  {
   "cell_type": "code",
   "execution_count": null,
   "id": "60ac9c37",
   "metadata": {
    "execution": {
     "iopub.execute_input": "2021-12-31T22:25:25.761588Z",
     "iopub.status.busy": "2021-12-31T22:25:25.758698Z",
     "iopub.status.idle": "2021-12-31T22:25:26.016020Z",
     "shell.execute_reply": "2021-12-31T22:25:26.015182Z",
     "shell.execute_reply.started": "2021-12-31T19:18:37.875615Z"
    },
    "papermill": {
     "duration": 0.283261,
     "end_time": "2021-12-31T22:25:26.016166",
     "exception": false,
     "start_time": "2021-12-31T22:25:25.732905",
     "status": "completed"
    },
    "tags": []
   },
   "outputs": [],
   "source": [
    "ax = df['Year_Introduced'].value_counts() \\\n",
    "    .head(10) \\\n",
    "    .plot(kind='bar', title='Top 10 Years Coasters Introduced')\n",
    "ax.set_xlabel('Year Introduced')\n",
    "ax.set_ylabel('Count')"
   ]
  },
  {
   "cell_type": "code",
   "execution_count": null,
   "id": "604b61d4",
   "metadata": {
    "execution": {
     "iopub.execute_input": "2021-12-31T22:25:26.068141Z",
     "iopub.status.busy": "2021-12-31T22:25:26.067238Z",
     "iopub.status.idle": "2021-12-31T22:25:26.334355Z",
     "shell.execute_reply": "2021-12-31T22:25:26.334770Z",
     "shell.execute_reply.started": "2021-12-31T19:23:10.802718Z"
    },
    "papermill": {
     "duration": 0.294699,
     "end_time": "2021-12-31T22:25:26.334934",
     "exception": false,
     "start_time": "2021-12-31T22:25:26.040235",
     "status": "completed"
    },
    "tags": []
   },
   "outputs": [],
   "source": [
    "ax = df['Speed_mph'].plot(kind='hist',\n",
    "                          bins=20,\n",
    "                          title='Coaster Speed (mph)')\n",
    "ax.set_xlabel('Speed (mph)')"
   ]
  },
  {
   "cell_type": "code",
   "execution_count": null,
   "id": "e6967adb",
   "metadata": {
    "execution": {
     "iopub.execute_input": "2021-12-31T22:25:26.388882Z",
     "iopub.status.busy": "2021-12-31T22:25:26.388004Z",
     "iopub.status.idle": "2021-12-31T22:25:26.559375Z",
     "shell.execute_reply": "2021-12-31T22:25:26.558894Z",
     "shell.execute_reply.started": "2021-12-31T19:23:50.580693Z"
    },
    "papermill": {
     "duration": 0.199427,
     "end_time": "2021-12-31T22:25:26.559519",
     "exception": false,
     "start_time": "2021-12-31T22:25:26.360092",
     "status": "completed"
    },
    "tags": []
   },
   "outputs": [],
   "source": [
    "ax = df['Speed_mph'].plot(kind='kde',\n",
    "                          title='Coaster Speed (mph)')\n",
    "ax.set_xlabel('Speed (mph)')"
   ]
  },
  {
   "cell_type": "code",
   "execution_count": null,
   "id": "56459691",
   "metadata": {
    "execution": {
     "iopub.execute_input": "2021-12-31T22:25:26.619887Z",
     "iopub.status.busy": "2021-12-31T22:25:26.619236Z",
     "iopub.status.idle": "2021-12-31T22:25:26.622178Z",
     "shell.execute_reply": "2021-12-31T22:25:26.622604Z",
     "shell.execute_reply.started": "2021-12-31T19:24:46.445719Z"
    },
    "papermill": {
     "duration": 0.03705,
     "end_time": "2021-12-31T22:25:26.622753",
     "exception": false,
     "start_time": "2021-12-31T22:25:26.585703",
     "status": "completed"
    },
    "tags": []
   },
   "outputs": [],
   "source": [
    "df['Type_Main'].value_counts()"
   ]
  },
  {
   "cell_type": "markdown",
   "id": "b06ae53c",
   "metadata": {
    "papermill": {
     "duration": 0.025998,
     "end_time": "2021-12-31T22:25:26.675088",
     "exception": false,
     "start_time": "2021-12-31T22:25:26.649090",
     "status": "completed"
    },
    "tags": []
   },
   "source": [
    "# Step 4: Feature Relationships\n",
    "- Scatterplot\n",
    "- Heatmap Correlation\n",
    "- Pairplot\n",
    "- Groupby comparisons"
   ]
  },
  {
   "cell_type": "code",
   "execution_count": null,
   "id": "017fd725",
   "metadata": {
    "execution": {
     "iopub.execute_input": "2021-12-31T22:25:26.731253Z",
     "iopub.status.busy": "2021-12-31T22:25:26.730368Z",
     "iopub.status.idle": "2021-12-31T22:25:26.883930Z",
     "shell.execute_reply": "2021-12-31T22:25:26.884448Z",
     "shell.execute_reply.started": "2021-12-31T19:28:27.768721Z"
    },
    "papermill": {
     "duration": 0.183301,
     "end_time": "2021-12-31T22:25:26.884625",
     "exception": false,
     "start_time": "2021-12-31T22:25:26.701324",
     "status": "completed"
    },
    "tags": []
   },
   "outputs": [],
   "source": [
    "df.plot(kind='scatter',\n",
    "        x='Speed_mph',\n",
    "        y='Height_ft',\n",
    "        title='Coaster Speed vs. Height')\n",
    "plt.show()"
   ]
  },
  {
   "cell_type": "code",
   "execution_count": null,
   "id": "b3ff4047",
   "metadata": {
    "execution": {
     "iopub.execute_input": "2021-12-31T22:25:26.947838Z",
     "iopub.status.busy": "2021-12-31T22:25:26.946904Z",
     "iopub.status.idle": "2021-12-31T22:25:27.207770Z",
     "shell.execute_reply": "2021-12-31T22:25:27.208181Z",
     "shell.execute_reply.started": "2021-12-31T19:33:28.681729Z"
    },
    "papermill": {
     "duration": 0.295762,
     "end_time": "2021-12-31T22:25:27.208343",
     "exception": false,
     "start_time": "2021-12-31T22:25:26.912581",
     "status": "completed"
    },
    "tags": []
   },
   "outputs": [],
   "source": [
    "ax = sns.scatterplot(x='Speed_mph',\n",
    "                y='Height_ft',\n",
    "                hue='Year_Introduced',\n",
    "                data=df)\n",
    "ax.set_title('Coaster Speed vs. Height')\n",
    "plt.show()"
   ]
  },
  {
   "cell_type": "code",
   "execution_count": null,
   "id": "4a72263c",
   "metadata": {
    "execution": {
     "iopub.execute_input": "2021-12-31T22:25:27.269648Z",
     "iopub.status.busy": "2021-12-31T22:25:27.268733Z",
     "iopub.status.idle": "2021-12-31T22:25:33.666343Z",
     "shell.execute_reply": "2021-12-31T22:25:33.666779Z",
     "shell.execute_reply.started": "2021-12-31T19:44:18.59642Z"
    },
    "papermill": {
     "duration": 6.429785,
     "end_time": "2021-12-31T22:25:33.666958",
     "exception": false,
     "start_time": "2021-12-31T22:25:27.237173",
     "status": "completed"
    },
    "tags": []
   },
   "outputs": [],
   "source": [
    "sns.pairplot(df,\n",
    "             vars=['Year_Introduced','Speed_mph',\n",
    "                   'Height_ft','Inversions','Gforce'],\n",
    "            hue='Type_Main')\n",
    "plt.show()"
   ]
  },
  {
   "cell_type": "code",
   "execution_count": null,
   "id": "4ce8a3ac",
   "metadata": {
    "execution": {
     "iopub.execute_input": "2021-12-31T22:25:33.754241Z",
     "iopub.status.busy": "2021-12-31T22:25:33.753485Z",
     "iopub.status.idle": "2021-12-31T22:25:33.755837Z",
     "shell.execute_reply": "2021-12-31T22:25:33.756377Z",
     "shell.execute_reply.started": "2021-12-31T19:46:48.887613Z"
    },
    "papermill": {
     "duration": 0.053233,
     "end_time": "2021-12-31T22:25:33.756533",
     "exception": false,
     "start_time": "2021-12-31T22:25:33.703300",
     "status": "completed"
    },
    "tags": []
   },
   "outputs": [],
   "source": [
    "df_corr = df[['Year_Introduced','Speed_mph',\n",
    "    'Height_ft','Inversions','Gforce']].dropna().corr()\n",
    "df_corr"
   ]
  },
  {
   "cell_type": "code",
   "execution_count": null,
   "id": "90c955f3",
   "metadata": {
    "execution": {
     "iopub.execute_input": "2021-12-31T22:25:33.835402Z",
     "iopub.status.busy": "2021-12-31T22:25:33.834798Z",
     "iopub.status.idle": "2021-12-31T22:25:34.097825Z",
     "shell.execute_reply": "2021-12-31T22:25:34.098327Z",
     "shell.execute_reply.started": "2021-12-31T19:47:08.677308Z"
    },
    "papermill": {
     "duration": 0.305333,
     "end_time": "2021-12-31T22:25:34.098497",
     "exception": false,
     "start_time": "2021-12-31T22:25:33.793164",
     "status": "completed"
    },
    "tags": []
   },
   "outputs": [],
   "source": [
    "sns.heatmap(df_corr, annot=True)"
   ]
  },
  {
   "cell_type": "markdown",
   "id": "0af7dad6",
   "metadata": {
    "execution": {
     "iopub.execute_input": "2021-12-31T20:08:11.030274Z",
     "iopub.status.busy": "2021-12-31T20:08:11.029825Z",
     "iopub.status.idle": "2021-12-31T20:08:11.035592Z",
     "shell.execute_reply": "2021-12-31T20:08:11.03458Z",
     "shell.execute_reply.started": "2021-12-31T20:08:11.030244Z"
    },
    "papermill": {
     "duration": 0.039908,
     "end_time": "2021-12-31T22:25:34.176236",
     "exception": false,
     "start_time": "2021-12-31T22:25:34.136328",
     "status": "completed"
    },
    "tags": []
   },
   "source": [
    "# Step 5: Ask a Question about the data\n",
    "- Try to answer a question you have about the data using a plot or statistic.\n",
    "\n",
    "What are the locations with the fastest roller coasters (minimum of 10)?"
   ]
  },
  {
   "cell_type": "code",
   "execution_count": null,
   "id": "5d4b651a",
   "metadata": {
    "execution": {
     "iopub.execute_input": "2021-12-31T22:25:34.256120Z",
     "iopub.status.busy": "2021-12-31T22:25:34.255501Z",
     "iopub.status.idle": "2021-12-31T22:25:34.597366Z",
     "shell.execute_reply": "2021-12-31T22:25:34.596787Z",
     "shell.execute_reply.started": "2021-12-31T20:12:48.583584Z"
    },
    "papermill": {
     "duration": 0.382299,
     "end_time": "2021-12-31T22:25:34.597495",
     "exception": false,
     "start_time": "2021-12-31T22:25:34.215196",
     "status": "completed"
    },
    "tags": []
   },
   "outputs": [],
   "source": [
    "ax = df.query('Location != \"Other\"') \\\n",
    "    .groupby('Location')['Speed_mph'] \\\n",
    "    .agg(['mean','count']) \\\n",
    "    .query('count >= 10') \\\n",
    "    .sort_values('mean')['mean'] \\\n",
    "    .plot(kind='barh', figsize=(12, 5), title='Average Coast Speed by Location')\n",
    "ax.set_xlabel('Average Coaster Speed')\n",
    "plt.show()"
   ]
  },
  {
   "cell_type": "code",
   "execution_count": null,
   "id": "248df082",
   "metadata": {},
   "outputs": [],
   "source": []
  }
 ],
 "metadata": {
  "kernelspec": {
   "display_name": "base",
   "language": "python",
   "name": "python3"
  },
  "language_info": {
   "codemirror_mode": {
    "name": "ipython",
    "version": 3
   },
   "file_extension": ".py",
   "mimetype": "text/x-python",
   "name": "python",
   "nbconvert_exporter": "python",
   "pygments_lexer": "ipython3",
   "version": "3.12.7"
  },
  "papermill": {
   "default_parameters": {},
   "duration": 19.951116,
   "end_time": "2021-12-31T22:25:35.346596",
   "environment_variables": {},
   "exception": null,
   "input_path": "__notebook__.ipynb",
   "output_path": "__notebook__.ipynb",
   "parameters": {},
   "start_time": "2021-12-31T22:25:15.395480",
   "version": "2.3.3"
  }
 },
 "nbformat": 4,
 "nbformat_minor": 5
}
