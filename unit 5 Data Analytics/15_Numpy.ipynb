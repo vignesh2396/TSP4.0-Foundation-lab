{
 "cells": [
  {
   "cell_type": "code",
   "execution_count": 3,
   "id": "c53ed683",
   "metadata": {},
   "outputs": [],
   "source": [
    "import numpy as np"
   ]
  },
  {
   "cell_type": "code",
   "execution_count": null,
   "id": "6e343a41",
   "metadata": {},
   "outputs": [],
   "source": [
    "# pip install numpy"
   ]
  },
  {
   "cell_type": "code",
   "execution_count": 5,
   "id": "94617de3",
   "metadata": {},
   "outputs": [
    {
     "name": "stdout",
     "output_type": "stream",
     "text": [
      "[1 2 3 4 5 6]\n"
     ]
    }
   ],
   "source": [
    "oneDArray = np.array([1,2,3,4,5,6])\n",
    "print(oneDArray)"
   ]
  },
  {
   "cell_type": "code",
   "execution_count": 7,
   "id": "510f5b51",
   "metadata": {},
   "outputs": [
    {
     "name": "stdout",
     "output_type": "stream",
     "text": [
      "<class 'numpy.ndarray'>\n"
     ]
    }
   ],
   "source": [
    "print(type(oneDArray))"
   ]
  },
  {
   "cell_type": "code",
   "execution_count": 9,
   "id": "5766c629",
   "metadata": {},
   "outputs": [
    {
     "name": "stdout",
     "output_type": "stream",
     "text": [
      "1\n"
     ]
    }
   ],
   "source": [
    "print(oneDArray.ndim)"
   ]
  },
  {
   "cell_type": "code",
   "execution_count": 11,
   "id": "d1da21e7",
   "metadata": {},
   "outputs": [],
   "source": [
    "twoDArray = np.array([\n",
    "    [1,2,3],\n",
    "    [4,5,6]\n",
    "])"
   ]
  },
  {
   "cell_type": "code",
   "execution_count": 13,
   "id": "a28446fb",
   "metadata": {},
   "outputs": [
    {
     "name": "stdout",
     "output_type": "stream",
     "text": [
      "[[1 2 3]\n",
      " [4 5 6]]\n",
      "2\n"
     ]
    }
   ],
   "source": [
    "print(twoDArray)\n",
    "print(twoDArray.ndim)"
   ]
  },
  {
   "cell_type": "code",
   "execution_count": 15,
   "id": "819b9346",
   "metadata": {},
   "outputs": [
    {
     "name": "stdout",
     "output_type": "stream",
     "text": [
      "[[[ 1  2  3]\n",
      "  [ 4  5  6]]\n",
      "\n",
      " [[-1 -2 -3]\n",
      "  [-4 -5 -6]]]\n"
     ]
    }
   ],
   "source": [
    "# three dimension array\n",
    "threeDArray = np.array([\n",
    "    [[1,2,3], [4,5,6]],\n",
    "    [[-1,-2,-3], [-4,-5,-6]]\n",
    "])\n",
    "\n",
    "print(threeDArray)"
   ]
  },
  {
   "cell_type": "code",
   "execution_count": 17,
   "id": "3669422b",
   "metadata": {},
   "outputs": [
    {
     "name": "stdout",
     "output_type": "stream",
     "text": [
      "4\n"
     ]
    }
   ],
   "source": [
    "print(twoDArray[1][0])"
   ]
  },
  {
   "cell_type": "code",
   "execution_count": 19,
   "id": "6edc6c03",
   "metadata": {},
   "outputs": [
    {
     "name": "stdout",
     "output_type": "stream",
     "text": [
      "4\n"
     ]
    }
   ],
   "source": [
    "print(twoDArray[1,0])"
   ]
  },
  {
   "cell_type": "code",
   "execution_count": 21,
   "id": "0cc68f3f",
   "metadata": {},
   "outputs": [
    {
     "name": "stdout",
     "output_type": "stream",
     "text": [
      "4\n"
     ]
    }
   ],
   "source": [
    "print(threeDArray[0][1][0])"
   ]
  },
  {
   "cell_type": "markdown",
   "id": "98bf6c70",
   "metadata": {},
   "source": [
    "# Attributes of an array"
   ]
  },
  {
   "cell_type": "code",
   "execution_count": 24,
   "id": "e957633b",
   "metadata": {},
   "outputs": [
    {
     "name": "stdout",
     "output_type": "stream",
     "text": [
      "int32\n",
      "int32\n",
      "int32\n"
     ]
    }
   ],
   "source": [
    "# dtype\n",
    "print(oneDArray.dtype)\n",
    "print(twoDArray.dtype)\n",
    "print(threeDArray.dtype)"
   ]
  },
  {
   "cell_type": "code",
   "execution_count": 26,
   "id": "ba54c3b4",
   "metadata": {},
   "outputs": [
    {
     "name": "stdout",
     "output_type": "stream",
     "text": [
      "(6,)\n",
      "(2, 3)\n",
      "(2, 2, 3)\n"
     ]
    }
   ],
   "source": [
    "# shape\n",
    "print(oneDArray.shape)\n",
    "print(twoDArray.shape)\n",
    "print(threeDArray.shape)"
   ]
  },
  {
   "cell_type": "code",
   "execution_count": 28,
   "id": "33efbb1f",
   "metadata": {},
   "outputs": [
    {
     "name": "stdout",
     "output_type": "stream",
     "text": [
      "6\n",
      "6\n",
      "12\n"
     ]
    }
   ],
   "source": [
    "# size\n",
    "print(oneDArray.size)\n",
    "print(twoDArray.size)\n",
    "print(threeDArray.size)"
   ]
  },
  {
   "cell_type": "code",
   "execution_count": 30,
   "id": "dda41319",
   "metadata": {},
   "outputs": [
    {
     "name": "stdout",
     "output_type": "stream",
     "text": [
      "4\n",
      "4\n",
      "4\n"
     ]
    }
   ],
   "source": [
    "# itemsize\n",
    "print(oneDArray.itemsize)\n",
    "print(twoDArray.itemsize)\n",
    "print(threeDArray.itemsize)"
   ]
  },
  {
   "cell_type": "code",
   "execution_count": 32,
   "id": "c30b8901",
   "metadata": {},
   "outputs": [],
   "source": [
    "nested_list = [[1,2,3],[4,5,6]]"
   ]
  },
  {
   "cell_type": "code",
   "execution_count": 34,
   "id": "42076631",
   "metadata": {
    "collapsed": true,
    "jupyter": {
     "outputs_hidden": true
    }
   },
   "outputs": [
    {
     "name": "stdout",
     "output_type": "stream",
     "text": [
      "1\n",
      "2\n",
      "3\n",
      "4\n",
      "5\n",
      "6\n"
     ]
    }
   ],
   "source": [
    "for i in nested_list:\n",
    "    for j in i:\n",
    "        print(j)"
   ]
  },
  {
   "cell_type": "code",
   "execution_count": 36,
   "id": "6c3272d4",
   "metadata": {
    "collapsed": true,
    "jupyter": {
     "outputs_hidden": true
    }
   },
   "outputs": [
    {
     "name": "stdout",
     "output_type": "stream",
     "text": [
      "1\n",
      "2\n",
      "3\n",
      "4\n",
      "5\n",
      "6\n"
     ]
    }
   ],
   "source": [
    "for i in twoDArray:\n",
    "    for j in i:\n",
    "        print(j)"
   ]
  },
  {
   "cell_type": "code",
   "execution_count": 38,
   "id": "500a21a2",
   "metadata": {
    "collapsed": true,
    "jupyter": {
     "outputs_hidden": true
    }
   },
   "outputs": [
    {
     "name": "stdout",
     "output_type": "stream",
     "text": [
      "1\n",
      "2\n",
      "3\n",
      "4\n",
      "5\n",
      "6\n",
      "-1\n",
      "-2\n",
      "-3\n",
      "-4\n",
      "-5\n",
      "-6\n"
     ]
    }
   ],
   "source": [
    "for i in threeDArray.flatten():\n",
    "    print(i)"
   ]
  },
  {
   "cell_type": "code",
   "execution_count": 40,
   "id": "a0097850-86a4-40a8-bcda-1cb8e5b0e551",
   "metadata": {},
   "outputs": [
    {
     "name": "stdout",
     "output_type": "stream",
     "text": [
      "[[[ 1  2  3]\n",
      "  [ 4  5  6]]\n",
      "\n",
      " [[-1 -2 -3]\n",
      "  [-4 -5 -6]]]\n",
      "[[[ 1  2  3]\n",
      "  [ 4  5  6]]\n",
      "\n",
      " [[-1 -2 -3]\n",
      "  [-4 -5 -6]]]\n"
     ]
    }
   ],
   "source": [
    "threeDArray.flatten()\n",
    "print(threeDArray)\n",
    "threeDArray.ravel()\n",
    "print(threeDArray)"
   ]
  },
  {
   "cell_type": "markdown",
   "id": "d305c38e-e1e7-4df9-bad8-8de5cc98f5cf",
   "metadata": {},
   "source": [
    "## filling arrays with specific values"
   ]
  },
  {
   "cell_type": "code",
   "execution_count": 43,
   "id": "4dd81f33",
   "metadata": {},
   "outputs": [
    {
     "name": "stdout",
     "output_type": "stream",
     "text": [
      "[0. 0. 0. 0. 0.]\n"
     ]
    }
   ],
   "source": [
    "# zeros\n",
    "zeros = np.zeros(5)\n",
    "print(zeros)"
   ]
  },
  {
   "cell_type": "code",
   "execution_count": 45,
   "id": "7b116322",
   "metadata": {},
   "outputs": [
    {
     "name": "stdout",
     "output_type": "stream",
     "text": [
      "[1. 1. 1. 1. 1. 1. 1. 1.]\n"
     ]
    }
   ],
   "source": [
    "# ones\n",
    "ones = np.ones(8)\n",
    "print(ones)"
   ]
  },
  {
   "cell_type": "code",
   "execution_count": 47,
   "id": "2ccf450a",
   "metadata": {},
   "outputs": [
    {
     "name": "stdout",
     "output_type": "stream",
     "text": [
      "[1 1 1 1 1 1 1 1]\n"
     ]
    }
   ],
   "source": [
    "ones = ones.astype(int)\n",
    "print(ones)"
   ]
  },
  {
   "cell_type": "code",
   "execution_count": 49,
   "id": "bb12bc15",
   "metadata": {},
   "outputs": [],
   "source": [
    "# arange\n",
    "ranges = np.arange(5.6,9.8)"
   ]
  },
  {
   "cell_type": "code",
   "execution_count": 51,
   "id": "d1363a20",
   "metadata": {},
   "outputs": [
    {
     "name": "stdout",
     "output_type": "stream",
     "text": [
      "[5.6 6.6 7.6 8.6 9.6]\n"
     ]
    }
   ],
   "source": [
    "print(ranges)"
   ]
  },
  {
   "cell_type": "code",
   "execution_count": 57,
   "id": "82a3550a",
   "metadata": {},
   "outputs": [
    {
     "name": "stdout",
     "output_type": "stream",
     "text": [
      "[3.         3.33333333 3.66666667 4.         4.33333333 4.66666667\n",
      " 5.         5.33333333 5.66666667 6.        ]\n"
     ]
    }
   ],
   "source": [
    "# linspace\n",
    "linspace = np.linspace(3,6,10)\n",
    "print(linspace)"
   ]
  },
  {
   "cell_type": "code",
   "execution_count": null,
   "id": "8936af37",
   "metadata": {},
   "outputs": [],
   "source": [
    "# help(np.linspace)"
   ]
  },
  {
   "cell_type": "markdown",
   "id": "3f83a7b5",
   "metadata": {},
   "source": [
    "# Scalar operation"
   ]
  },
  {
   "cell_type": "code",
   "execution_count": 59,
   "id": "c97c3258",
   "metadata": {},
   "outputs": [
    {
     "name": "stdout",
     "output_type": "stream",
     "text": [
      "[[76 34 89]\n",
      " [23 34 45]]\n"
     ]
    }
   ],
   "source": [
    "matrix = np.array([[76,34,89], [23,34,45]])\n",
    "print(matrix)"
   ]
  },
  {
   "cell_type": "code",
   "execution_count": 61,
   "id": "c3af60f1",
   "metadata": {},
   "outputs": [
    {
     "name": "stdout",
     "output_type": "stream",
     "text": [
      "[[78 36 91]\n",
      " [25 36 47]]\n"
     ]
    }
   ],
   "source": [
    "print(matrix + 2)"
   ]
  },
  {
   "cell_type": "code",
   "execution_count": 63,
   "id": "62727a38",
   "metadata": {},
   "outputs": [],
   "source": [
    "pythonlist = [[76,34,89], [23,34,45]]"
   ]
  },
  {
   "cell_type": "code",
   "execution_count": 65,
   "id": "a8e57522",
   "metadata": {},
   "outputs": [
    {
     "name": "stdout",
     "output_type": "stream",
     "text": [
      "[[76, 34, 89], [23, 34, 45], [76, 34, 89], [23, 34, 45]]\n"
     ]
    }
   ],
   "source": [
    "# print(pythonlist + 2)\n",
    "print(pythonlist * 2)"
   ]
  },
  {
   "cell_type": "code",
   "execution_count": 67,
   "id": "078310e0",
   "metadata": {},
   "outputs": [
    {
     "name": "stdout",
     "output_type": "stream",
     "text": [
      "[[152  68 178]\n",
      " [ 46  68  90]]\n"
     ]
    }
   ],
   "source": [
    "# multi\n",
    "print(matrix * 2)"
   ]
  },
  {
   "cell_type": "code",
   "execution_count": 69,
   "id": "057c77b9",
   "metadata": {},
   "outputs": [
    {
     "name": "stdout",
     "output_type": "stream",
     "text": [
      "[[38.  17.  44.5]\n",
      " [11.5 17.  22.5]]\n"
     ]
    }
   ],
   "source": [
    "# division\n",
    "print(matrix / 2)"
   ]
  },
  {
   "cell_type": "code",
   "execution_count": 71,
   "id": "1ce38e92",
   "metadata": {},
   "outputs": [
    {
     "name": "stdout",
     "output_type": "stream",
     "text": [
      "[[38 17 44]\n",
      " [11 17 22]]\n"
     ]
    }
   ],
   "source": [
    "# floor division\n",
    "print(matrix // 2)"
   ]
  },
  {
   "cell_type": "code",
   "execution_count": 73,
   "id": "25a69582",
   "metadata": {},
   "outputs": [
    {
     "name": "stdout",
     "output_type": "stream",
     "text": [
      "[[5776 1156 7921]\n",
      " [ 529 1156 2025]]\n"
     ]
    }
   ],
   "source": [
    "# exponent\n",
    "print(matrix ** 2)"
   ]
  },
  {
   "cell_type": "code",
   "execution_count": 75,
   "id": "0ef2d268",
   "metadata": {},
   "outputs": [
    {
     "name": "stdout",
     "output_type": "stream",
     "text": [
      "[[76 23]\n",
      " [34 34]\n",
      " [89 45]]\n"
     ]
    }
   ],
   "source": [
    "print(matrix.T)"
   ]
  },
  {
   "cell_type": "code",
   "execution_count": 77,
   "id": "2588791f",
   "metadata": {},
   "outputs": [
    {
     "name": "stdout",
     "output_type": "stream",
     "text": [
      "[23 34 45]\n"
     ]
    }
   ],
   "source": [
    "print(matrix[1,])"
   ]
  },
  {
   "cell_type": "code",
   "execution_count": null,
   "id": "61c67274",
   "metadata": {},
   "outputs": [],
   "source": []
  }
 ],
 "metadata": {
  "kernelspec": {
   "display_name": "Python [conda env:base] *",
   "language": "python",
   "name": "conda-base-py"
  },
  "language_info": {
   "codemirror_mode": {
    "name": "ipython",
    "version": 3
   },
   "file_extension": ".py",
   "mimetype": "text/x-python",
   "name": "python",
   "nbconvert_exporter": "python",
   "pygments_lexer": "ipython3",
   "version": "3.12.7"
  }
 },
 "nbformat": 4,
 "nbformat_minor": 5
}
