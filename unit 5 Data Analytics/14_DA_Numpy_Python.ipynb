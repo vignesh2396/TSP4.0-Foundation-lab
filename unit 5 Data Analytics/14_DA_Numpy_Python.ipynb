{
 "cells": [
  {
   "cell_type": "markdown",
   "metadata": {
    "id": "t6DNqVVxHOtq"
   },
   "source": [
    "# 18_Numpy_Python"
   ]
  },
  {
   "cell_type": "code",
   "execution_count": null,
   "metadata": {
    "id": "rZjf03q15OuN"
   },
   "outputs": [],
   "source": [
    "!pip install numpy"
   ]
  },
  {
   "cell_type": "code",
   "execution_count": null,
   "metadata": {
    "id": "hl2QG0SZHKcw"
   },
   "outputs": [],
   "source": [
    "import numpy as np\n",
    "numpy.__version__"
   ]
  },
  {
   "cell_type": "markdown",
   "metadata": {
    "id": "IXhMuYaUHenj"
   },
   "source": [
    "### Array Initialization - Single Dimension"
   ]
  },
  {
   "cell_type": "code",
   "execution_count": null,
   "metadata": {
    "id": "_2eVwQH0HhR7"
   },
   "outputs": [],
   "source": [
    "import numpy as np\n",
    "a = np.array([7,9,9,2])\n",
    "print(a)"
   ]
  },
  {
   "cell_type": "markdown",
   "metadata": {
    "id": "i6fuZ-qrHyrM"
   },
   "source": [
    "### Array Initialization - Multi Dimension"
   ]
  },
  {
   "cell_type": "code",
   "execution_count": null,
   "metadata": {
    "id": "p65Je-lbH0x4"
   },
   "outputs": [],
   "source": [
    "import numpy as np\n",
    "b = np.array([(7,9,9,2),(16,11,9,6)])\n",
    "print(b)"
   ]
  },
  {
   "cell_type": "markdown",
   "metadata": {
    "id": "sroeCMVYPITu"
   },
   "source": [
    "###Generating Array\n"
   ]
  },
  {
   "cell_type": "code",
   "execution_count": null,
   "metadata": {
    "id": "DolPJ583PLiE"
   },
   "outputs": [],
   "source": [
    "c = np.arange(10) #range of values in array\n",
    "d = np.linspace(1,5,10) #set of values by Interval [start,end,no.ofvaluesEqualInterval]\n",
    "print(c)\n",
    "print(d)"
   ]
  },
  {
   "cell_type": "markdown",
   "metadata": {
    "id": "AyYOC74rIREe"
   },
   "source": [
    "### Array Properties"
   ]
  },
  {
   "cell_type": "code",
   "execution_count": null,
   "metadata": {
    "id": "NNEJ4XrrITX7"
   },
   "outputs": [],
   "source": [
    "a = np.array([7,9,9,2])\n",
    "b = np.array([(7,9,9,2),(16,11,9,6)])\n",
    "print(b.ndim) #Dimension of Array\n",
    "print(a.itemsize) #Byte Size of each Element\n",
    "print(a.dtype) #Datatype of array\n",
    "print(b.size*b.itemsize) #memory occupied - space occupied by 1 element * length of numpy array\n",
    "print(a.size) #number of elements in array\n",
    "print(b.shape) #shape of array (rows and columns)"
   ]
  },
  {
   "cell_type": "markdown",
   "metadata": {
    "id": "Rkh3OZ3FLpfh"
   },
   "source": [
    "### Array Reshape"
   ]
  },
  {
   "cell_type": "code",
   "execution_count": null,
   "metadata": {
    "id": "xjnDAc0BKwEF"
   },
   "outputs": [],
   "source": [
    "b = np.array([(7,9,9,2),(16,11,9,6)])\n",
    "print(b)\n",
    "b = b.reshape(4,2)\n",
    "print(b)"
   ]
  },
  {
   "cell_type": "markdown",
   "metadata": {
    "id": "SdqVKe-jNLf2"
   },
   "source": [
    "### Array Slicing"
   ]
  },
  {
   "cell_type": "code",
   "execution_count": null,
   "metadata": {
    "id": "rkljWbnBNNaD"
   },
   "outputs": [],
   "source": [
    "b = np.array([(7,9,9,2),(16,11,9,6)])\n",
    "print(b[0,2]) #Slicing the Element from certain row and certain column b[rowIndex,ColumnIndex]\n",
    "print(b[0:,2]) #Slicing Element from all rows and certain column"
   ]
  },
  {
   "cell_type": "markdown",
   "metadata": {
    "id": "_LISwvNFPBQg"
   },
   "source": [
    "### Array Value Operation"
   ]
  },
  {
   "cell_type": "code",
   "execution_count": null,
   "metadata": {
    "id": "YaJb5obGQM-7"
   },
   "outputs": [],
   "source": [
    "e = np.array([7,9,9,2,16,11,96]) \n",
    "print(e.min()) #Minimum value in array\n",
    "print(e.max()) #Maximum value in array\n",
    "print(e.sum()) #Sum of array"
   ]
  },
  {
   "cell_type": "markdown",
   "metadata": {
    "id": "KGnP7tXpRAkl"
   },
   "source": [
    "### Array Arithmetic Operation\n"
   ]
  },
  {
   "cell_type": "code",
   "execution_count": null,
   "metadata": {
    "id": "7iBbvnQ2UU0N"
   },
   "outputs": [],
   "source": [
    "a = np.array([7,9,9,2])\n",
    "c = np.array([1,9,9,6])\n",
    "print(a+c)\n",
    "print(a-c)\n",
    "print(a*c)\n",
    "print(a/c)"
   ]
  },
  {
   "cell_type": "code",
   "execution_count": null,
   "metadata": {
    "id": "EQpGxHtCRFsa"
   },
   "outputs": [],
   "source": [
    "a = np.array([7,9,9,2])\n",
    "b = np.array([(7,9,9,2),(16,11,9,6)])\n",
    "print(b.sum(axis=0)) #Each element of 1st dim array with same index with another dim element\n",
    "print(b.sum(axis=1)) #sum of all element is 1st dim & sum of all element is 2nd dim\n",
    "print(np.sqrt(a)) #Squareroot of array elements\n",
    "print(np.std(a)) #Standard Deviation of array\n",
    "print(np.exp(a)) #Exponential of array\n",
    "print(np.log(a)) #Natural Log - ln\n",
    "print(np.log10(a)) #Log base 10"
   ]
  },
  {
   "cell_type": "code",
   "execution_count": null,
   "metadata": {
    "id": "XLjEwsbJU73X"
   },
   "outputs": [],
   "source": [
    "b = np.array([(7,9,9,2),(16,11,9,6)])\n",
    "f = np.array([(1,2,3,4),(5,6,7,8)])\n",
    "print(np.vstack((b,f))) #Vertical Stack\n",
    "print(np.hstack((b,f))) #Horizontal Stack\n",
    "print(b.ravel()) #Merging as single"
   ]
  }
 ],
 "metadata": {
  "colab": {
   "collapsed_sections": [],
   "name": "18_DA_Numpy_Python.ipynb",
   "provenance": []
  },
  "kernelspec": {
   "display_name": "Python [conda env:base] *",
   "language": "python",
   "name": "conda-base-py"
  },
  "language_info": {
   "codemirror_mode": {
    "name": "ipython",
    "version": 3
   },
   "file_extension": ".py",
   "mimetype": "text/x-python",
   "name": "python",
   "nbconvert_exporter": "python",
   "pygments_lexer": "ipython3",
   "version": "3.12.7"
  }
 },
 "nbformat": 4,
 "nbformat_minor": 4
}
