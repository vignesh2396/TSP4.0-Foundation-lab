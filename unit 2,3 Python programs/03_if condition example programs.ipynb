{
 "cells": [
  {
   "cell_type": "markdown",
   "metadata": {},
   "source": [
    "# Tip calculator"
   ]
  },
  {
   "cell_type": "markdown",
   "metadata": {},
   "source": [
    "* If the bill was $150.00, split between 5 people, with 12% tip. \n",
    "* Each person should pay (150.00 / 5) * 1.12 = 33.6\n",
    "* Format the result to 2 decimal places = 33.60"
   ]
  },
  {
   "cell_type": "code",
   "execution_count": 4,
   "metadata": {},
   "outputs": [
    {
     "name": "stdout",
     "output_type": "stream",
     "text": [
      "Welcome to tip calculator\n",
      "What was the total bill amount? $230\n",
      "How much tip would you like to give? ex: 10, 20, or 1513\n",
      "How many people to split the bill? 5\n",
      "Each person should pay: $51.98\n"
     ]
    }
   ],
   "source": [
    "print(\"Welcome to tip calculator\")\n",
    "bill_amount = float(input(\"What was the total bill amount? $\"))\n",
    "tip = int(input(\"How much tip would you like to give? ex: 10, 20, or 15\"))\n",
    "people = int(input(\"How many people to split the bill? \"))\n",
    "\n",
    "tip_as_percent = tip/100\n",
    "total_tip_amount = bill_amount * tip_as_percent\n",
    "\n",
    "# finding the total bill amount\n",
    "total_bill = bill_amount + total_tip_amount\n",
    "\n",
    "# splitting the total amount with number of people\n",
    "bill_per_person = total_bill / people\n",
    "\n",
    "# rounding up the final value with two decimal points\n",
    "final_amount = round(bill_per_person, 2)\n",
    "\n",
    "print(f\"Each person should pay: ${final_amount}\")"
   ]
  },
  {
   "cell_type": "markdown",
   "metadata": {},
   "source": [
    "# find the divisor of the given numbers.\n",
    "# if no print it as prime number"
   ]
  },
  {
   "cell_type": "markdown",
   "metadata": {},
   "source": [
    "**Ask the user to enter the marks of a student in a subject. If the marks entered are greater than 40 then print “pass,” if they are lower print “fail.”**\n"
   ]
  },
  {
   "cell_type": "code",
   "execution_count": null,
   "metadata": {},
   "outputs": [],
   "source": [
    "mark = int(input(\"Enter the mark : \"))\n",
    "\n",
    "if mark > 40:\n",
    "    print(\"Pass\")\n",
    "else:\n",
    "    print(\"Fail\")"
   ]
  },
  {
   "cell_type": "markdown",
   "metadata": {},
   "source": [
    "## short hand if"
   ]
  },
  {
   "cell_type": "code",
   "execution_count": null,
   "metadata": {},
   "outputs": [],
   "source": [
    "# syntax\n",
    "# if <ondition>:<True statement>"
   ]
  },
  {
   "cell_type": "code",
   "execution_count": 6,
   "metadata": {},
   "outputs": [],
   "source": [
    "mark = 5\n",
    "if mark > 40:print(\"Pass\")"
   ]
  },
  {
   "cell_type": "markdown",
   "metadata": {},
   "source": [
    "## Short hand if else"
   ]
  },
  {
   "cell_type": "code",
   "execution_count": null,
   "metadata": {},
   "outputs": [],
   "source": [
    "# syntax\n",
    "# <True statement> if <condition> else <False statement>"
   ]
  },
  {
   "cell_type": "code",
   "execution_count": 7,
   "metadata": {},
   "outputs": [
    {
     "name": "stdout",
     "output_type": "stream",
     "text": [
      "Fail\n"
     ]
    }
   ],
   "source": [
    "print(\"Pass\") if mark > 40 else print(\"Fail\")"
   ]
  },
  {
   "cell_type": "code",
   "execution_count": 9,
   "metadata": {},
   "outputs": [
    {
     "name": "stdout",
     "output_type": "stream",
     "text": [
      "B grade\n"
     ]
    }
   ],
   "source": [
    "mark = 90\n",
    "\n",
    "if mark < 0 or mark > 100:\n",
    "    print(\"Please enter a valid number between 0 to 100\")\n",
    "elif mark > 90 and mark <= 100:\n",
    "    print(\"A grade\")\n",
    "elif mark > 80:\n",
    "    print(\"B grade\")\n",
    "elif mark > 70:\n",
    "    print(\"C grade\")\n",
    "elif mark > 60:\n",
    "    print(\"D grade\")\n",
    "else:\n",
    "    print(\"F grade\")"
   ]
  },
  {
   "cell_type": "markdown",
   "metadata": {},
   "source": [
    "**Write a program to find the greatest of the three numbers entered by the user.**\n"
   ]
  },
  {
   "cell_type": "code",
   "execution_count": 11,
   "metadata": {},
   "outputs": [
    {
     "name": "stdout",
     "output_type": "stream",
     "text": [
      "6 is greater\n"
     ]
    }
   ],
   "source": [
    "a,b,c = 2, 4, 6\n",
    "if a>b and a>c:\n",
    "    print(f\"{a} is greater\")\n",
    "elif b>a and b>c:\n",
    "    print(f\"{b} is greater\")\n",
    "else:\n",
    "    print(f\"{c} is greater\")"
   ]
  },
  {
   "cell_type": "code",
   "execution_count": 12,
   "metadata": {},
   "outputs": [
    {
     "data": {
      "text/plain": [
       "False"
      ]
     },
     "execution_count": 12,
     "metadata": {},
     "output_type": "execute_result"
    }
   ],
   "source": [
    "a>b>c"
   ]
  },
  {
   "cell_type": "markdown",
   "metadata": {},
   "source": [
    "**write a program that takes a number and check whether the given number is divisible by 5 and it is a even number.**\n"
   ]
  },
  {
   "cell_type": "code",
   "execution_count": null,
   "metadata": {},
   "outputs": [],
   "source": []
  }
 ],
 "metadata": {
  "kernelspec": {
   "display_name": "Python [conda env:base] *",
   "language": "python",
   "name": "conda-base-py"
  },
  "language_info": {
   "codemirror_mode": {
    "name": "ipython",
    "version": 3
   },
   "file_extension": ".py",
   "mimetype": "text/x-python",
   "name": "python",
   "nbconvert_exporter": "python",
   "pygments_lexer": "ipython3",
   "version": "3.12.7"
  },
  "vscode": {
   "interpreter": {
    "hash": "5208022f30213c0870bfa1b13aff478fa3418a0e3696d570049769ecff440f35"
   }
  }
 },
 "nbformat": 4,
 "nbformat_minor": 4
}
