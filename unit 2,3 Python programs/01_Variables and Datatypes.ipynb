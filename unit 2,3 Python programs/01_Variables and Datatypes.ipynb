{
 "cells": [
  {
   "cell_type": "markdown",
   "id": "cb7c5efb",
   "metadata": {},
   "source": [
    "# Basic datatypes in Python"
   ]
  },
  {
   "cell_type": "markdown",
   "id": "81bb3d4b",
   "metadata": {},
   "source": [
    "## integer (int)"
   ]
  },
  {
   "cell_type": "code",
   "execution_count": 1,
   "id": "3fc77cce",
   "metadata": {},
   "outputs": [
    {
     "name": "stdout",
     "output_type": "stream",
     "text": [
      "<class 'int'>\n"
     ]
    }
   ],
   "source": [
    "integer_number = 20\n",
    "print(type(integer_number))"
   ]
  },
  {
   "cell_type": "markdown",
   "id": "1ad72438",
   "metadata": {},
   "source": [
    "## floating point number"
   ]
  },
  {
   "cell_type": "code",
   "execution_count": 4,
   "id": "f8a0ef26",
   "metadata": {
    "scrolled": true
   },
   "outputs": [
    {
     "name": "stdout",
     "output_type": "stream",
     "text": [
      "<class 'float'>\n"
     ]
    }
   ],
   "source": [
    "float_number = 20.55\n",
    "print(type(float_number))"
   ]
  },
  {
   "cell_type": "markdown",
   "id": "9ee88974",
   "metadata": {},
   "source": [
    "## complex number"
   ]
  },
  {
   "cell_type": "code",
   "execution_count": 6,
   "id": "6f81b7aa",
   "metadata": {},
   "outputs": [
    {
     "name": "stdout",
     "output_type": "stream",
     "text": [
      "<class 'complex'>\n"
     ]
    }
   ],
   "source": [
    "complex_value = 20+3j\n",
    "print(type(complex_value))"
   ]
  },
  {
   "cell_type": "markdown",
   "id": "5367c31e",
   "metadata": {},
   "source": [
    "# sequence data type"
   ]
  },
  {
   "cell_type": "markdown",
   "id": "a11d3443",
   "metadata": {},
   "source": [
    "## list data type"
   ]
  },
  {
   "cell_type": "code",
   "execution_count": 8,
   "id": "5aec9717",
   "metadata": {},
   "outputs": [
    {
     "name": "stdout",
     "output_type": "stream",
     "text": [
      "<class 'list'>\n",
      "['orange', 'apple', 'mango']\n",
      "[1, 'nielit', 23.4, (20+3j)]\n"
     ]
    }
   ],
   "source": [
    "fruits = ['orange',\"apple\", 'mango']\n",
    "print(type(fruits))\n",
    "print(fruits)\n",
    "\n",
    "combined = [1, 'nielit', 23.4, complex_value]\n",
    "print(combined)\n",
    "\n",
    "empty_list = []\n",
    "empty_list1 = list()"
   ]
  },
  {
   "cell_type": "code",
   "execution_count": 20,
   "id": "593aca64-42a2-40aa-ba21-dd79373571b7",
   "metadata": {},
   "outputs": [
    {
     "data": {
      "text/plain": [
       "['orange', 'apple', 'mango', [3, 2], 2, 9, 7, [3, 2]]"
      ]
     },
     "execution_count": 20,
     "metadata": {},
     "output_type": "execute_result"
    }
   ],
   "source": [
    "fruits.append([3,2])\n",
    "fruits"
   ]
  },
  {
   "cell_type": "code",
   "execution_count": 16,
   "id": "e6b1f6d8-e7e6-4581-8197-3849d0856312",
   "metadata": {},
   "outputs": [
    {
     "data": {
      "text/plain": [
       "['orange', 'apple', 'mango', [3, 2], 2, 9, 7]"
      ]
     },
     "execution_count": 16,
     "metadata": {},
     "output_type": "execute_result"
    }
   ],
   "source": [
    "fruits.extend([2,9,7])\n",
    "fruits"
   ]
  },
  {
   "cell_type": "code",
   "execution_count": 36,
   "id": "7e242367-c0a0-4505-9064-b932aa47daf5",
   "metadata": {},
   "outputs": [
    {
     "name": "stdout",
     "output_type": "stream",
     "text": [
      "EDUNET FOUNDATION\n",
      "edunet foundation\n",
      "Edunet Foundation\n"
     ]
    }
   ],
   "source": [
    "name = \"Edunet Foundation\"\n",
    "print(name.upper())\n",
    "print(name.lower())\n",
    "# help(str)\n",
    "print(name.strip())"
   ]
  },
  {
   "cell_type": "code",
   "execution_count": 38,
   "id": "8f1e38d6-7c82-41cc-9192-1947af5f4358",
   "metadata": {},
   "outputs": [
    {
     "name": "stdout",
     "output_type": "stream",
     "text": [
      "                Edunet Foundation                 \n"
     ]
    }
   ],
   "source": [
    "print(name.center(50))"
   ]
  },
  {
   "cell_type": "code",
   "execution_count": 11,
   "id": "670e02c5",
   "metadata": {},
   "outputs": [
    {
     "data": {
      "text/plain": [
       "[]"
      ]
     },
     "execution_count": 11,
     "metadata": {},
     "output_type": "execute_result"
    }
   ],
   "source": [
    "combined\n",
    "empty_list1"
   ]
  },
  {
   "cell_type": "code",
   "execution_count": 12,
   "id": "de56b902",
   "metadata": {},
   "outputs": [
    {
     "name": "stdout",
     "output_type": "stream",
     "text": [
      "[1, 'nielit', 23.4, (20+3j)]\n",
      "[]\n"
     ]
    }
   ],
   "source": [
    "print(combined)\n",
    "print(empty_list1)"
   ]
  },
  {
   "cell_type": "code",
   "execution_count": 13,
   "id": "5c569128",
   "metadata": {},
   "outputs": [],
   "source": [
    "a = None"
   ]
  },
  {
   "cell_type": "code",
   "execution_count": 14,
   "id": "805ceffb",
   "metadata": {},
   "outputs": [],
   "source": [
    "a"
   ]
  },
  {
   "cell_type": "code",
   "execution_count": 16,
   "id": "6f365183",
   "metadata": {},
   "outputs": [
    {
     "ename": "SyntaxError",
     "evalue": "invalid syntax (948568665.py, line 1)",
     "output_type": "error",
     "traceback": [
      "\u001b[0;36m  Input \u001b[0;32mIn [16]\u001b[0;36m\u001b[0m\n\u001b[0;31m    b =\u001b[0m\n\u001b[0m        ^\u001b[0m\n\u001b[0;31mSyntaxError\u001b[0m\u001b[0;31m:\u001b[0m invalid syntax\n"
     ]
    }
   ],
   "source": [
    "# b = "
   ]
  },
  {
   "cell_type": "code",
   "execution_count": 17,
   "id": "4987069e",
   "metadata": {},
   "outputs": [],
   "source": [
    "listinlist = [1,[2,3],3]"
   ]
  },
  {
   "cell_type": "code",
   "execution_count": 18,
   "id": "3db5e74a",
   "metadata": {
    "scrolled": true
   },
   "outputs": [
    {
     "data": {
      "text/plain": [
       "[1, [2, 3], 3]"
      ]
     },
     "execution_count": 18,
     "metadata": {},
     "output_type": "execute_result"
    }
   ],
   "source": [
    "listinlist"
   ]
  },
  {
   "cell_type": "markdown",
   "id": "243ebd70",
   "metadata": {},
   "source": [
    "## tuple datatype"
   ]
  },
  {
   "cell_type": "code",
   "execution_count": 20,
   "id": "42b6499a",
   "metadata": {},
   "outputs": [
    {
     "name": "stdout",
     "output_type": "stream",
     "text": [
      "<class 'tuple'>\n"
     ]
    }
   ],
   "source": [
    "tup1 = (2,3)\n",
    "print(type(tup1))\n",
    "\n",
    "(first,second) = tup1"
   ]
  },
  {
   "cell_type": "code",
   "execution_count": 21,
   "id": "2e2eacb4",
   "metadata": {},
   "outputs": [
    {
     "data": {
      "text/plain": [
       "2"
      ]
     },
     "execution_count": 21,
     "metadata": {},
     "output_type": "execute_result"
    }
   ],
   "source": [
    "first"
   ]
  },
  {
   "cell_type": "code",
   "execution_count": 22,
   "id": "01509984",
   "metadata": {},
   "outputs": [
    {
     "data": {
      "text/plain": [
       "3"
      ]
     },
     "execution_count": 22,
     "metadata": {},
     "output_type": "execute_result"
    }
   ],
   "source": [
    "second"
   ]
  },
  {
   "cell_type": "markdown",
   "id": "dd7bcf5d",
   "metadata": {},
   "source": [
    "### keywords with first letter caps"
   ]
  },
  {
   "cell_type": "markdown",
   "id": "e3c5d2be",
   "metadata": {},
   "source": [
    "True, False, None"
   ]
  },
  {
   "cell_type": "code",
   "execution_count": null,
   "id": "e0cba3e1",
   "metadata": {},
   "outputs": [],
   "source": []
  }
 ],
 "metadata": {
  "kernelspec": {
   "display_name": "Python [conda env:base] *",
   "language": "python",
   "name": "conda-base-py"
  },
  "language_info": {
   "codemirror_mode": {
    "name": "ipython",
    "version": 3
   },
   "file_extension": ".py",
   "mimetype": "text/x-python",
   "name": "python",
   "nbconvert_exporter": "python",
   "pygments_lexer": "ipython3",
   "version": "3.12.7"
  }
 },
 "nbformat": 4,
 "nbformat_minor": 5
}
