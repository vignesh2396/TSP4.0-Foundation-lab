{
 "cells": [
  {
   "cell_type": "markdown",
   "metadata": {},
   "source": [
    "# List comprehension"
   ]
  },
  {
   "cell_type": "code",
   "execution_count": null,
   "metadata": {},
   "outputs": [],
   "source": [
    "# syntax\n",
    "\n",
    "# [<exp> for <element> in <iterable>]"
   ]
  },
  {
   "cell_type": "code",
   "execution_count": 3,
   "metadata": {},
   "outputs": [
    {
     "name": "stdout",
     "output_type": "stream",
     "text": [
      "[1, 4, 9, 16, 25]\n"
     ]
    }
   ],
   "source": [
    "list_of_item = []\n",
    "for x in (1,2,3,4,5):\n",
    "    list_of_item.append(x*x)\n",
    "    \n",
    "print(list_of_item)"
   ]
  },
  {
   "cell_type": "code",
   "execution_count": 2,
   "metadata": {},
   "outputs": [
    {
     "name": "stdout",
     "output_type": "stream",
     "text": [
      "[1, 4, 9, 16, 25]\n"
     ]
    }
   ],
   "source": [
    "list_of_item1 = [x*x for x in (1,2,3,4,5)]\n",
    "print(list_of_item1)"
   ]
  },
  {
   "cell_type": "code",
   "execution_count": 5,
   "metadata": {},
   "outputs": [
    {
     "name": "stdout",
     "output_type": "stream",
     "text": [
      "[0, 2, 4, 6, 8, 10]\n"
     ]
    }
   ],
   "source": [
    "# [<exp> for <element> in <iterable> if <cond>]\n",
    "# even = []\n",
    "# for i in range(11):\n",
    "#     if i%2==0:\n",
    "#         even.append(i)\n",
    "\n",
    "\n",
    "even = [i for i in range(11) if i%2==0]\n",
    "print(even)"
   ]
  },
  {
   "cell_type": "code",
   "execution_count": 7,
   "metadata": {},
   "outputs": [
    {
     "name": "stdout",
     "output_type": "stream",
     "text": [
      "['a', '*', '*', '*', 'e']\n",
      "a***e\n"
     ]
    }
   ],
   "source": [
    "# [<true stat> if <cond> else <false stat> for <element> in <iterable>]\n",
    "# string - hello world \n",
    "# output - *e**o *o***\n",
    "\n",
    "char = [vow if vow in 'aeiou' else '*' for vow in 'apple']\n",
    "print(char)\n",
    "\n",
    "new_str =''.join(char)\n",
    "print(new_str)"
   ]
  },
  {
   "cell_type": "code",
   "execution_count": 9,
   "metadata": {},
   "outputs": [
    {
     "name": "stdout",
     "output_type": "stream",
     "text": [
      "0 0\n",
      "0 1\n",
      "0 2\n",
      "0 3\n",
      "0 4\n",
      "1 0\n",
      "1 1\n",
      "1 2\n",
      "1 3\n",
      "1 4\n",
      "2 0\n",
      "2 1\n",
      "2 2\n",
      "2 3\n",
      "2 4\n",
      "3 0\n",
      "3 1\n",
      "3 2\n",
      "3 3\n",
      "3 4\n",
      "4 0\n",
      "4 1\n",
      "4 2\n",
      "4 3\n",
      "4 4\n"
     ]
    }
   ],
   "source": [
    "for i in range(5):\n",
    "    for j in range(5):\n",
    "        print(i,j)"
   ]
  },
  {
   "cell_type": "code",
   "execution_count": 11,
   "metadata": {},
   "outputs": [
    {
     "name": "stdout",
     "output_type": "stream",
     "text": [
      "[(0, 0), (0, 1), (0, 2), (0, 3), (0, 4), (1, 0), (1, 1), (1, 2), (1, 3), (1, 4), (2, 0), (2, 1), (2, 2), (2, 3), (2, 4), (3, 0), (3, 1), (3, 2), (3, 3), (3, 4), (4, 0), (4, 1), (4, 2), (4, 3), (4, 4)]\n"
     ]
    }
   ],
   "source": [
    "val = [(i,j) for i in range(5) for j in range(5)]\n",
    "print(val)"
   ]
  },
  {
   "cell_type": "code",
   "execution_count": null,
   "metadata": {},
   "outputs": [],
   "source": []
  },
  {
   "cell_type": "markdown",
   "metadata": {},
   "source": [
    "# Functions"
   ]
  },
  {
   "cell_type": "markdown",
   "metadata": {},
   "source": [
    "* modular programming\n",
    "\n",
    "* Resuablity of code\n",
    "\n",
    "* manageability\n",
    "\n",
    "* Efficient code"
   ]
  },
  {
   "cell_type": "code",
   "execution_count": 16,
   "metadata": {},
   "outputs": [],
   "source": [
    "def greeting():\n",
    "    print(\"Welcome to my program\")\n",
    "\n",
    "def fun1(var1, var2):\n",
    "    print()\n",
    "\n",
    "def fun2():\n",
    "    pass\n",
    "\n",
    "def return_fn():\n",
    "    return 'return value'\n",
    "# main program\n",
    "\n",
    "\n"
   ]
  },
  {
   "cell_type": "code",
   "execution_count": 13,
   "metadata": {},
   "outputs": [
    {
     "name": "stdout",
     "output_type": "stream",
     "text": [
      "hello\n"
     ]
    }
   ],
   "source": [
    "greeting()"
   ]
  },
  {
   "cell_type": "code",
   "execution_count": 15,
   "metadata": {},
   "outputs": [],
   "source": [
    "fun2()"
   ]
  },
  {
   "cell_type": "code",
   "execution_count": 18,
   "metadata": {},
   "outputs": [
    {
     "name": "stdout",
     "output_type": "stream",
     "text": [
      "return value\n"
     ]
    }
   ],
   "source": [
    "print(return_fn())"
   ]
  },
  {
   "cell_type": "code",
   "execution_count": null,
   "metadata": {},
   "outputs": [],
   "source": []
  },
  {
   "cell_type": "markdown",
   "metadata": {},
   "source": [
    "## Simple Function"
   ]
  },
  {
   "cell_type": "code",
   "execution_count": null,
   "metadata": {},
   "outputs": [],
   "source": [
    "def greeting():\n",
    "    print(\"Welcome to my program\")"
   ]
  },
  {
   "cell_type": "markdown",
   "metadata": {},
   "source": [
    "## Function that allows for input"
   ]
  },
  {
   "cell_type": "code",
   "execution_count": 19,
   "metadata": {},
   "outputs": [
    {
     "name": "stdout",
     "output_type": "stream",
     "text": [
      "Welcome to my program\n",
      "hi {'name': 'edunet', 'location': 'chennai'}\n"
     ]
    }
   ],
   "source": [
    "def greet_with_name(**name):\n",
    "    print(\"Welcome to my program\")\n",
    "    print(f\"hi {name}\")\n",
    "    \n",
    "\n",
    "greet_with_name(name=\"edunet\", location=\"chennai\")"
   ]
  },
  {
   "cell_type": "markdown",
   "metadata": {},
   "source": [
    "## Functions with more than 1 input"
   ]
  },
  {
   "cell_type": "code",
   "execution_count": 27,
   "metadata": {},
   "outputs": [
    {
     "name": "stdout",
     "output_type": "stream",
     "text": [
      "Your name is vignesh and your age is 29\n",
      "Your name is Vignesh and your age is 27\n"
     ]
    }
   ],
   "source": [
    "def stud_det(name,age):\n",
    "    print(f\"Your name is {name} and your age is {age}\")\n",
    "\n",
    "# position \n",
    "stud_det('vignesh',29)\n",
    "\n",
    "# name\n",
    "stud_det(age=27, name='Vignesh')"
   ]
  },
  {
   "cell_type": "markdown",
   "metadata": {},
   "source": [
    "## Return"
   ]
  },
  {
   "cell_type": "code",
   "execution_count": 29,
   "metadata": {},
   "outputs": [
    {
     "name": "stdout",
     "output_type": "stream",
     "text": [
      "27\n",
      "The cube of the given value is  None\n"
     ]
    }
   ],
   "source": [
    "def cube_of(x):\n",
    "    return x**3\n",
    "\n",
    "print(\"The cube of the given value is \",cube_of(3))"
   ]
  },
  {
   "cell_type": "markdown",
   "metadata": {},
   "source": [
    "## arbitrary arguments"
   ]
  },
  {
   "cell_type": "code",
   "execution_count": 30,
   "metadata": {},
   "outputs": [
    {
     "name": "stdout",
     "output_type": "stream",
     "text": [
      "This fruit names are ('Apple',)\n",
      "This fruit names are ('Fig', 'Cherry')\n"
     ]
    }
   ],
   "source": [
    "def fruits(*name):\n",
    "    print(\"This fruit names are\", name)\n",
    "    \n",
    "    \n",
    "fruits(\"Apple\")\n",
    "fruits(\"Fig\", 'Cherry')"
   ]
  },
  {
   "cell_type": "code",
   "execution_count": 33,
   "metadata": {},
   "outputs": [
    {
     "name": "stdout",
     "output_type": "stream",
     "text": [
      "before calling function 5\n",
      "10\n",
      "after calling function 10\n"
     ]
    }
   ],
   "source": [
    "# scope\n",
    "# local and global scope\n",
    "\n",
    "def fun_1():\n",
    "    global a\n",
    "    a=10\n",
    "    print(a)\n",
    "\n",
    "a = 5\n",
    "print(\"before calling function\",a)\n",
    "fun_1()\n",
    "print(\"after calling function\",a)"
   ]
  },
  {
   "cell_type": "markdown",
   "metadata": {},
   "source": [
    "# recursion"
   ]
  },
  {
   "cell_type": "code",
   "execution_count": 35,
   "metadata": {},
   "outputs": [
    {
     "name": "stdout",
     "output_type": "stream",
     "text": [
      "enter a number10\n",
      "The 10th term of fibonnic series is 55\n"
     ]
    }
   ],
   "source": [
    "def fib(n):\n",
    "    if n==1:\n",
    "        return 1\n",
    "    elif n==2:\n",
    "        return 1\n",
    "    else:\n",
    "        return (fib(n-1)+fib(n-2))\n",
    "    \n",
    "# main program\n",
    "number = int(input('enter a number'))\n",
    "print(f\"The {number}th term of fibonnic series is\", fib(number))"
   ]
  },
  {
   "cell_type": "code",
   "execution_count": null,
   "metadata": {},
   "outputs": [],
   "source": []
  },
  {
   "cell_type": "code",
   "execution_count": null,
   "metadata": {},
   "outputs": [],
   "source": []
  },
  {
   "cell_type": "code",
   "execution_count": null,
   "metadata": {},
   "outputs": [],
   "source": []
  },
  {
   "cell_type": "markdown",
   "metadata": {},
   "source": [
    "# To find no. of paint can required for a wall"
   ]
  },
  {
   "cell_type": "markdown",
   "metadata": {},
   "source": [
    "__Instructions__\n",
    "You are painting a wall. The instructions on the paint can says that 1 can of paint can cover 5 square meters of wall. Given a random height and width of wall, calculate how many cans of paint you'll need to buy.\n",
    "\n",
    "number of cans = (wall height ✖️ wall width) ÷ coverage per can.\n",
    "\n",
    "e.g. Height = 2, Width = 4, Coverage = 5\n",
    "\n",
    "number of cans = (2 ✖️ 4) ÷ 5\n",
    "\n",
    "= 1.6\n",
    "But because you can't buy 0.6 of a can of paint, the result should be rounded up to 2 cans.\n",
    "\n",
    "__IMPORTANT: Notice the name of the function and parameters must match for the code to work.__"
   ]
  },
  {
   "cell_type": "code",
   "execution_count": null,
   "metadata": {},
   "outputs": [],
   "source": []
  },
  {
   "cell_type": "markdown",
   "metadata": {},
   "source": [
    "# To find prime number or not"
   ]
  },
  {
   "cell_type": "markdown",
   "metadata": {},
   "source": [
    "__Instructions__\n",
    "\n",
    "__`Prime numbers are numbers that can only be cleanly divided by itself and 1.`__\n",
    "\n",
    "You need to write a function that checks whether if the number passed into it is a prime number or not.\n",
    "\n",
    "e.g. 2 is a prime number because it's only divisible by 1 and 2.\n",
    "\n",
    "But 4 is not a prime number because you can divide it by 1, 2 or 4."
   ]
  },
  {
   "cell_type": "code",
   "execution_count": null,
   "metadata": {},
   "outputs": [],
   "source": []
  },
  {
   "cell_type": "markdown",
   "metadata": {},
   "source": [
    "# Caesar Cipher - encode and decode text\n",
    "\n",
    "### TODO-1: Create a function called 'encrypt' that takes the 'text' and 'shift' as inputs.\n",
    "\n",
    "### TODO-2: Inside the 'encrypt' function, shift each letter of the 'text' forwards in the alphabet by the shift amount and print the encrypted text.  \n",
    "    #e.g. \n",
    "    #plain_text = \"hello\"\n",
    "    #shift = 5\n",
    "    #cipher_text = \"mjqqt\"\n",
    "    #print output: \"The encoded text is mjqqt\"\n",
    "\n",
    "### TODO-3: Call the encrypt function and pass in the user inputs. You should be able to test the code and encrypt a message."
   ]
  },
  {
   "cell_type": "code",
   "execution_count": null,
   "metadata": {},
   "outputs": [],
   "source": []
  }
 ],
 "metadata": {
  "kernelspec": {
   "display_name": "Python [conda env:base] *",
   "language": "python",
   "name": "conda-base-py"
  },
  "language_info": {
   "codemirror_mode": {
    "name": "ipython",
    "version": 3
   },
   "file_extension": ".py",
   "mimetype": "text/x-python",
   "name": "python",
   "nbconvert_exporter": "python",
   "pygments_lexer": "ipython3",
   "version": "3.12.7"
  }
 },
 "nbformat": 4,
 "nbformat_minor": 4
}
