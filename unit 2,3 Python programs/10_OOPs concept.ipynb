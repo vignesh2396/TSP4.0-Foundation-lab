{
 "cells": [
  {
   "cell_type": "markdown",
   "id": "e472d0a8",
   "metadata": {},
   "source": [
    "# Object Oriented Programming"
   ]
  },
  {
   "cell_type": "code",
   "execution_count": 28,
   "id": "b587f445",
   "metadata": {},
   "outputs": [],
   "source": [
    "class CarBlueprint():\n",
    "    # attributes\n",
    "    speed = 0\n",
    "    fuel = 32\n",
    "    \n",
    "    # methods\n",
    "    def move(self):\n",
    "        self.speed += 10\n",
    "        print(\"Current speed : \",self.speed)\n",
    "    def brake(self):\n",
    "        self.speed -= 10\n",
    "        print(\"Current speed : \",self.speed)\n",
    "    def stop(self):\n",
    "        self.speed = 0\n",
    "        print(\"Current speed : \",self.speed)"
   ]
  },
  {
   "cell_type": "code",
   "execution_count": 29,
   "id": "8e8cbf9f",
   "metadata": {},
   "outputs": [],
   "source": [
    "# create a object\n",
    "\n",
    "car = CarBlueprint()"
   ]
  },
  {
   "cell_type": "code",
   "execution_count": 30,
   "id": "383aac60",
   "metadata": {},
   "outputs": [
    {
     "name": "stdout",
     "output_type": "stream",
     "text": [
      "Car speed is :  0\n",
      "Fuel :  32\n"
     ]
    }
   ],
   "source": [
    "# obj_name.attribute_name\n",
    "print(\"Car speed is : \",car.speed)\n",
    "print(\"Fuel : \",car.fuel)"
   ]
  },
  {
   "cell_type": "code",
   "execution_count": 31,
   "id": "0bb725af",
   "metadata": {},
   "outputs": [],
   "source": [
    "#car.speed = 100"
   ]
  },
  {
   "cell_type": "code",
   "execution_count": 32,
   "id": "8eaa7b3a",
   "metadata": {},
   "outputs": [
    {
     "name": "stdout",
     "output_type": "stream",
     "text": [
      "Car speed is :  0\n"
     ]
    }
   ],
   "source": [
    "print(\"Car speed is : \",car.speed)"
   ]
  },
  {
   "cell_type": "code",
   "execution_count": 33,
   "id": "b4b3bc50",
   "metadata": {},
   "outputs": [],
   "source": [
    "car1 = CarBlueprint()"
   ]
  },
  {
   "cell_type": "code",
   "execution_count": 34,
   "id": "cfd4603e",
   "metadata": {},
   "outputs": [
    {
     "name": "stdout",
     "output_type": "stream",
     "text": [
      "0\n"
     ]
    }
   ],
   "source": [
    "print(car1.speed)"
   ]
  },
  {
   "cell_type": "code",
   "execution_count": 42,
   "id": "e4cfa0e7",
   "metadata": {},
   "outputs": [
    {
     "name": "stdout",
     "output_type": "stream",
     "text": [
      "Current speed :  30\n"
     ]
    }
   ],
   "source": [
    "car.move()"
   ]
  },
  {
   "cell_type": "code",
   "execution_count": 36,
   "id": "d637d872",
   "metadata": {},
   "outputs": [
    {
     "data": {
      "text/plain": [
       "10"
      ]
     },
     "execution_count": 36,
     "metadata": {},
     "output_type": "execute_result"
    }
   ],
   "source": [
    "car.speed"
   ]
  },
  {
   "cell_type": "code",
   "execution_count": 40,
   "id": "cd54f92b",
   "metadata": {},
   "outputs": [
    {
     "name": "stdout",
     "output_type": "stream",
     "text": [
      "Current speed :  10\n"
     ]
    }
   ],
   "source": [
    "car.brake()"
   ]
  },
  {
   "cell_type": "code",
   "execution_count": 43,
   "id": "e7c70011",
   "metadata": {},
   "outputs": [
    {
     "name": "stdout",
     "output_type": "stream",
     "text": [
      "Current speed :  0\n"
     ]
    }
   ],
   "source": [
    "car.stop()"
   ]
  },
  {
   "cell_type": "code",
   "execution_count": null,
   "id": "0c3223ca",
   "metadata": {},
   "outputs": [],
   "source": []
  },
  {
   "cell_type": "code",
   "execution_count": null,
   "id": "2fdc19ca",
   "metadata": {},
   "outputs": [],
   "source": []
  },
  {
   "cell_type": "code",
   "execution_count": null,
   "id": "d99b2347",
   "metadata": {},
   "outputs": [],
   "source": []
  },
  {
   "cell_type": "code",
   "execution_count": null,
   "id": "272cdc50",
   "metadata": {},
   "outputs": [],
   "source": []
  },
  {
   "cell_type": "code",
   "execution_count": null,
   "id": "8fcc6fba",
   "metadata": {},
   "outputs": [],
   "source": []
  },
  {
   "cell_type": "code",
   "execution_count": null,
   "id": "beb43e58",
   "metadata": {},
   "outputs": [],
   "source": []
  },
  {
   "cell_type": "code",
   "execution_count": null,
   "id": "5d26629b",
   "metadata": {},
   "outputs": [],
   "source": []
  },
  {
   "cell_type": "code",
   "execution_count": null,
   "id": "2ff48b8f",
   "metadata": {},
   "outputs": [],
   "source": []
  },
  {
   "cell_type": "code",
   "execution_count": null,
   "id": "eb3ddb59",
   "metadata": {},
   "outputs": [],
   "source": []
  },
  {
   "cell_type": "code",
   "execution_count": null,
   "id": "10db580b",
   "metadata": {},
   "outputs": [],
   "source": []
  }
 ],
 "metadata": {
  "kernelspec": {
   "display_name": "Python [conda env:base] *",
   "language": "python",
   "name": "conda-base-py"
  },
  "language_info": {
   "codemirror_mode": {
    "name": "ipython",
    "version": 3
   },
   "file_extension": ".py",
   "mimetype": "text/x-python",
   "name": "python",
   "nbconvert_exporter": "python",
   "pygments_lexer": "ipython3",
   "version": "3.12.7"
  }
 },
 "nbformat": 4,
 "nbformat_minor": 5
}
