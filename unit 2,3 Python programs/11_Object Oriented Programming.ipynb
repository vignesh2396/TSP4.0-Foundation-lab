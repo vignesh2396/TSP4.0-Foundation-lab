{
 "cells": [
  {
   "cell_type": "code",
   "execution_count": 1,
   "id": "9dfa52ae",
   "metadata": {},
   "outputs": [
    {
     "name": "stdout",
     "output_type": "stream",
     "text": [
      "<class '__main__.Point'>\n",
      "True\n"
     ]
    }
   ],
   "source": [
    "class Point:\n",
    "    def draw(self):\n",
    "        print(\"draw\")\n",
    "        \n",
    "\n",
    "point = Point()\n",
    "print(type(point))\n",
    "print(isinstance(point, Point))"
   ]
  },
  {
   "cell_type": "markdown",
   "id": "58ac779a",
   "metadata": {},
   "source": [
    "# Constructor"
   ]
  },
  {
   "cell_type": "code",
   "execution_count": 5,
   "id": "7be282a5",
   "metadata": {},
   "outputs": [
    {
     "name": "stdout",
     "output_type": "stream",
     "text": [
      "init method called by default\n"
     ]
    }
   ],
   "source": [
    "# default constructor / non parameterized constructor\n",
    "class Student:\n",
    "    id_no = 10 # class variables\n",
    "    name = 'stud1'\n",
    "    def __init__(self):        \n",
    "        print(\"init method called by default\")\n",
    "\n",
    "        \n",
    "stud = Student()"
   ]
  },
  {
   "cell_type": "code",
   "execution_count": 7,
   "id": "fe22614e",
   "metadata": {},
   "outputs": [
    {
     "data": {
      "text/plain": [
       "10"
      ]
     },
     "execution_count": 7,
     "metadata": {},
     "output_type": "execute_result"
    }
   ],
   "source": [
    "stud.id_no"
   ]
  },
  {
   "cell_type": "code",
   "execution_count": 9,
   "id": "0db28d39",
   "metadata": {},
   "outputs": [
    {
     "data": {
      "text/plain": [
       "10"
      ]
     },
     "execution_count": 9,
     "metadata": {},
     "output_type": "execute_result"
    }
   ],
   "source": [
    "Student.id_no"
   ]
  },
  {
   "cell_type": "code",
   "execution_count": 13,
   "id": "919b9f65",
   "metadata": {},
   "outputs": [],
   "source": [
    "# parameterized constructor\n",
    "\n",
    "class Person:\n",
    "    def __init__(self, name, age):\n",
    "        self.name = name # instance variable\n",
    "        self.age = age\n",
    "        \n",
    "    def myfun(self):\n",
    "        print(f\"Hello my name is {self.name} \\\n",
    "        and I am {self.age} years old\")\n",
    "        \n",
    "\n",
    "p1 = Person('Jack', 20)"
   ]
  },
  {
   "cell_type": "code",
   "execution_count": 17,
   "id": "28fd7dbb",
   "metadata": {},
   "outputs": [
    {
     "name": "stdout",
     "output_type": "stream",
     "text": [
      "Jack\n",
      "20\n",
      "Hello my name is Jack         and I am 20 years old\n"
     ]
    }
   ],
   "source": [
    "print(p1.name)\n",
    "print(p1.age)\n",
    "\n",
    "p1.myfun()"
   ]
  },
  {
   "cell_type": "code",
   "execution_count": 19,
   "id": "3f9da1b5",
   "metadata": {},
   "outputs": [
    {
     "name": "stdout",
     "output_type": "stream",
     "text": [
      "This is second constructor\n"
     ]
    }
   ],
   "source": [
    "class MulConst:\n",
    "    def __init__(self):\n",
    "        print(\"This is first constructor\")\n",
    "        \n",
    "    def __init__(self):\n",
    "        print(\"This is second constructor\")\n",
    "        \n",
    "\n",
    "p1 = MulConst()"
   ]
  },
  {
   "cell_type": "code",
   "execution_count": 21,
   "id": "f3b171c5",
   "metadata": {},
   "outputs": [],
   "source": [
    "Student.id_no = 20"
   ]
  },
  {
   "cell_type": "code",
   "execution_count": 23,
   "id": "cbf15303",
   "metadata": {},
   "outputs": [
    {
     "name": "stdout",
     "output_type": "stream",
     "text": [
      "init method called by default\n"
     ]
    }
   ],
   "source": [
    "obj = Student()"
   ]
  },
  {
   "cell_type": "code",
   "execution_count": 25,
   "id": "df85256f",
   "metadata": {},
   "outputs": [
    {
     "data": {
      "text/plain": [
       "20"
      ]
     },
     "execution_count": 25,
     "metadata": {},
     "output_type": "execute_result"
    }
   ],
   "source": [
    "obj.id_no"
   ]
  },
  {
   "cell_type": "code",
   "execution_count": 29,
   "id": "46213761",
   "metadata": {},
   "outputs": [
    {
     "name": "stdout",
     "output_type": "stream",
     "text": [
      "__str__ magic function\n"
     ]
    }
   ],
   "source": [
    "# magic method\n",
    "\n",
    "class Point:\n",
    "    \n",
    "    def __init__(self, x,y):\n",
    "        self.x = x\n",
    "        self.y = y\n",
    "        \n",
    "    def __str__(self):\n",
    "        return (f\"__str__ magic function\")\n",
    "    \n",
    "    def draw(self):\n",
    "        print(f\"Point ({self.x}, {self.y})\")\n",
    "\n",
    "point = Point(3,9)\n",
    "# print(point.__str__())\n",
    "print(str(point))"
   ]
  },
  {
   "cell_type": "code",
   "execution_count": 31,
   "id": "733afea8",
   "metadata": {},
   "outputs": [
    {
     "name": "stdout",
     "output_type": "stream",
     "text": [
      "Point (3, 9)\n"
     ]
    }
   ],
   "source": [
    "point.draw()"
   ]
  },
  {
   "cell_type": "code",
   "execution_count": 37,
   "id": "9df60787",
   "metadata": {},
   "outputs": [
    {
     "name": "stdout",
     "output_type": "stream",
     "text": [
      "False\n",
      "True\n"
     ]
    }
   ],
   "source": [
    "# comparision magic methods\n",
    "class Point:\n",
    "    \n",
    "    def __init__(self, x,y):\n",
    "        self.x = x\n",
    "        self.y = y\n",
    "    \n",
    "    def __eq__(self,other):\n",
    "        return self.x == other.x and self.y == other.y\n",
    "    \n",
    "    def __lt__(self, other):\n",
    "        return self.x < other.x and self.y < other.y\n",
    "\n",
    "point = Point(3,9)\n",
    "another_point = Point(13,19)\n",
    "\n",
    "print(point == another_point)\n",
    "print(point < another_point)"
   ]
  },
  {
   "cell_type": "code",
   "execution_count": 39,
   "id": "a3f0570a",
   "metadata": {},
   "outputs": [
    {
     "name": "stdout",
     "output_type": "stream",
     "text": [
      "16 28\n",
      "-10 -10\n"
     ]
    }
   ],
   "source": [
    "# numeric magic method\n",
    "class Point:\n",
    "    \n",
    "    def __init__(self, x,y):\n",
    "        self.x = x\n",
    "        self.y = y\n",
    "    \n",
    "    def __add__(self, other):\n",
    "        return Point(self.x + other.x, self.y + other.y)\n",
    "    \n",
    "    def __sub__(self, other):\n",
    "        return Point(self.x - other.x, self.y - other.y)\n",
    "\n",
    "point = Point(3,9)\n",
    "another_point = Point(13,19)\n",
    "\n",
    "comp_add = point + another_point\n",
    "print(comp_add.x, comp_add.y)\n",
    "\n",
    "comp_sub = point - another_point\n",
    "print(comp_sub.x, comp_sub.y)"
   ]
  },
  {
   "cell_type": "code",
   "execution_count": 41,
   "id": "92ddd354",
   "metadata": {},
   "outputs": [],
   "source": [
    "# delete a object property\n",
    "\n",
    "del point.y"
   ]
  },
  {
   "cell_type": "code",
   "execution_count": 43,
   "id": "84a47dba",
   "metadata": {},
   "outputs": [
    {
     "ename": "AttributeError",
     "evalue": "'Point' object has no attribute 'y'",
     "output_type": "error",
     "traceback": [
      "\u001b[1;31m---------------------------------------------------------------------------\u001b[0m",
      "\u001b[1;31mAttributeError\u001b[0m                            Traceback (most recent call last)",
      "Cell \u001b[1;32mIn[43], line 1\u001b[0m\n\u001b[1;32m----> 1\u001b[0m point\u001b[38;5;241m.\u001b[39my\n",
      "\u001b[1;31mAttributeError\u001b[0m: 'Point' object has no attribute 'y'"
     ]
    }
   ],
   "source": [
    "point.y"
   ]
  },
  {
   "cell_type": "code",
   "execution_count": 45,
   "id": "0138642c",
   "metadata": {},
   "outputs": [
    {
     "data": {
      "text/plain": [
       "19"
      ]
     },
     "execution_count": 45,
     "metadata": {},
     "output_type": "execute_result"
    }
   ],
   "source": [
    "another_point.y"
   ]
  },
  {
   "cell_type": "code",
   "execution_count": 47,
   "id": "5e9c1e5e",
   "metadata": {},
   "outputs": [],
   "source": [
    "del another_point"
   ]
  },
  {
   "cell_type": "code",
   "execution_count": 49,
   "id": "525d3474",
   "metadata": {},
   "outputs": [
    {
     "ename": "NameError",
     "evalue": "name 'another_point' is not defined",
     "output_type": "error",
     "traceback": [
      "\u001b[1;31m---------------------------------------------------------------------------\u001b[0m",
      "\u001b[1;31mNameError\u001b[0m                                 Traceback (most recent call last)",
      "Cell \u001b[1;32mIn[49], line 1\u001b[0m\n\u001b[1;32m----> 1\u001b[0m another_point\n",
      "\u001b[1;31mNameError\u001b[0m: name 'another_point' is not defined"
     ]
    }
   ],
   "source": [
    "another_point"
   ]
  },
  {
   "cell_type": "code",
   "execution_count": null,
   "id": "9c02567d",
   "metadata": {},
   "outputs": [],
   "source": []
  }
 ],
 "metadata": {
  "kernelspec": {
   "display_name": "Python [conda env:base] *",
   "language": "python",
   "name": "conda-base-py"
  },
  "language_info": {
   "codemirror_mode": {
    "name": "ipython",
    "version": 3
   },
   "file_extension": ".py",
   "mimetype": "text/x-python",
   "name": "python",
   "nbconvert_exporter": "python",
   "pygments_lexer": "ipython3",
   "version": "3.12.7"
  }
 },
 "nbformat": 4,
 "nbformat_minor": 5
}
