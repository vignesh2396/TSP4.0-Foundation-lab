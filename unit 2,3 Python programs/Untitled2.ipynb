{
 "cells": [
  {
   "cell_type": "code",
   "execution_count": 15,
   "id": "bf997b52-9a41-4a72-89ce-a2b937ae3f48",
   "metadata": {},
   "outputs": [
    {
     "name": "stdin",
     "output_type": "stream",
     "text": [
      "Enter the size of list 3\n",
      " 4\n",
      " 5\n",
      " 6\n",
      "Enter the element of list to delete 5\n"
     ]
    },
    {
     "name": "stdout",
     "output_type": "stream",
     "text": [
      "[4, 6]\n"
     ]
    }
   ],
   "source": [
    "List=[]\n",
    "List2=[]\n",
    "\n",
    "size=int(input(\"Enter the size of list\"))\n",
    "for i in range(0,size):\n",
    "    num=int(input())\n",
    "    List.append(num)\n",
    "elemt=int(input(\"Enter the element of list to delete\"))\n",
    "for j in List:\n",
    "    if(j != elemt):\n",
    "        List2.append(j)\n",
    "print(List2)"
   ]
  },
  {
   "cell_type": "code",
   "execution_count": null,
   "id": "af2272d2-2918-4083-b5db-9c136223a1f0",
   "metadata": {},
   "outputs": [],
   "source": []
  }
 ],
 "metadata": {
  "kernelspec": {
   "display_name": "Python [conda env:base] *",
   "language": "python",
   "name": "conda-base-py"
  },
  "language_info": {
   "codemirror_mode": {
    "name": "ipython",
    "version": 3
   },
   "file_extension": ".py",
   "mimetype": "text/x-python",
   "name": "python",
   "nbconvert_exporter": "python",
   "pygments_lexer": "ipython3",
   "version": "3.12.7"
  }
 },
 "nbformat": 4,
 "nbformat_minor": 5
}
