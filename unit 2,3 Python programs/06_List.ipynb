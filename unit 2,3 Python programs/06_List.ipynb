{
 "cells": [
  {
   "cell_type": "code",
   "execution_count": 119,
   "id": "97f15b56",
   "metadata": {},
   "outputs": [],
   "source": [
    "names = ['Ramesh', 'suresh']\n",
    "age = [29, 28]"
   ]
  },
  {
   "cell_type": "code",
   "execution_count": 120,
   "id": "7175a558",
   "metadata": {},
   "outputs": [],
   "source": [
    "Ramesh = [150,65,29]"
   ]
  },
  {
   "cell_type": "code",
   "execution_count": 121,
   "id": "ac5e95e3",
   "metadata": {},
   "outputs": [
    {
     "name": "stdout",
     "output_type": "stream",
     "text": [
      "my name is Ramesh, and my age is 29\n",
      "my name is suresh, and my age is 28\n"
     ]
    }
   ],
   "source": [
    "for i in range(len(names)):\n",
    "    print(f\"my name is {names[i]}, and my age is {age[i]}\")"
   ]
  },
  {
   "cell_type": "code",
   "execution_count": 122,
   "id": "b1d95008",
   "metadata": {},
   "outputs": [
    {
     "name": "stdout",
     "output_type": "stream",
     "text": [
      "My age is 29 my weight is 65 my height is 150\n"
     ]
    }
   ],
   "source": [
    "print(\"My age is\", Ramesh[2], \"my weight is\", Ramesh[1], \"my height is\", Ramesh[0])"
   ]
  },
  {
   "cell_type": "code",
   "execution_count": 123,
   "id": "9ef1f382",
   "metadata": {},
   "outputs": [
    {
     "name": "stdout",
     "output_type": "stream",
     "text": [
      "My age is 29 my weight is 65 my height is 150\n"
     ]
    }
   ],
   "source": [
    "print(\"My age is {2} my weight is {1} my height is {0}\".format(150,65,29))"
   ]
  },
  {
   "cell_type": "code",
   "execution_count": 124,
   "id": "d355fa07",
   "metadata": {},
   "outputs": [
    {
     "data": {
      "text/plain": [
       "'[150, 65, 29]'"
      ]
     },
     "execution_count": 124,
     "metadata": {},
     "output_type": "execute_result"
    }
   ],
   "source": [
    "format(Ramesh)"
   ]
  },
  {
   "cell_type": "code",
   "execution_count": 125,
   "id": "7dbf42cc",
   "metadata": {},
   "outputs": [
    {
     "data": {
      "text/plain": [
       "[150, 65, 29]"
      ]
     },
     "execution_count": 125,
     "metadata": {},
     "output_type": "execute_result"
    }
   ],
   "source": [
    "Ramesh"
   ]
  },
  {
   "cell_type": "code",
   "execution_count": 126,
   "id": "6e7b2779",
   "metadata": {},
   "outputs": [],
   "source": [
    "list1 = [1,2,3]\n",
    "list2 = [1,2,3]"
   ]
  },
  {
   "cell_type": "code",
   "execution_count": 127,
   "id": "cf0664bf",
   "metadata": {},
   "outputs": [
    {
     "data": {
      "text/plain": [
       "140465162130880"
      ]
     },
     "execution_count": 127,
     "metadata": {},
     "output_type": "execute_result"
    }
   ],
   "source": [
    "id(list1)"
   ]
  },
  {
   "cell_type": "code",
   "execution_count": 128,
   "id": "de96f9cd",
   "metadata": {},
   "outputs": [
    {
     "data": {
      "text/plain": [
       "140464903560704"
      ]
     },
     "execution_count": 128,
     "metadata": {},
     "output_type": "execute_result"
    }
   ],
   "source": [
    "id(list2)"
   ]
  },
  {
   "cell_type": "code",
   "execution_count": 129,
   "id": "e0706d96",
   "metadata": {},
   "outputs": [],
   "source": [
    "list3 = list1"
   ]
  },
  {
   "cell_type": "code",
   "execution_count": 130,
   "id": "c0696cbb",
   "metadata": {},
   "outputs": [
    {
     "data": {
      "text/plain": [
       "140465162130880"
      ]
     },
     "execution_count": 130,
     "metadata": {},
     "output_type": "execute_result"
    }
   ],
   "source": [
    "id(list3)"
   ]
  },
  {
   "cell_type": "code",
   "execution_count": 131,
   "id": "db302e94",
   "metadata": {},
   "outputs": [],
   "source": [
    "list4 = list1.copy()"
   ]
  },
  {
   "cell_type": "code",
   "execution_count": 132,
   "id": "98b8e10d",
   "metadata": {},
   "outputs": [
    {
     "data": {
      "text/plain": [
       "140464903400128"
      ]
     },
     "execution_count": 132,
     "metadata": {},
     "output_type": "execute_result"
    }
   ],
   "source": [
    "id(list4)"
   ]
  },
  {
   "cell_type": "code",
   "execution_count": 133,
   "id": "c903c051",
   "metadata": {},
   "outputs": [],
   "source": [
    "new_list = ['Python', 'is', 'awesome']"
   ]
  },
  {
   "cell_type": "code",
   "execution_count": 134,
   "id": "b19eeea4",
   "metadata": {},
   "outputs": [],
   "source": [
    "list4 = list4 + new_list"
   ]
  },
  {
   "cell_type": "code",
   "execution_count": 135,
   "id": "ebda6be2",
   "metadata": {},
   "outputs": [
    {
     "data": {
      "text/plain": [
       "[1, 2, 3, 'Python', 'is', 'awesome']"
      ]
     },
     "execution_count": 135,
     "metadata": {},
     "output_type": "execute_result"
    }
   ],
   "source": [
    "list4"
   ]
  },
  {
   "cell_type": "code",
   "execution_count": 136,
   "id": "6e3cfcb5",
   "metadata": {},
   "outputs": [],
   "source": [
    "# CRUD - Create, Read, Update and Delete"
   ]
  },
  {
   "cell_type": "code",
   "execution_count": 137,
   "id": "289654fc",
   "metadata": {},
   "outputs": [],
   "source": [
    "mylist = list()"
   ]
  },
  {
   "cell_type": "code",
   "execution_count": 138,
   "id": "fd653740",
   "metadata": {},
   "outputs": [],
   "source": [
    "# Access a value from list"
   ]
  },
  {
   "cell_type": "code",
   "execution_count": 139,
   "id": "0b5f3bc2",
   "metadata": {},
   "outputs": [
    {
     "data": {
      "text/plain": [
       "'Python'"
      ]
     },
     "execution_count": 139,
     "metadata": {},
     "output_type": "execute_result"
    }
   ],
   "source": [
    "## indexing and slicing\n",
    "list4[3]"
   ]
  },
  {
   "cell_type": "code",
   "execution_count": 140,
   "id": "59c03130",
   "metadata": {},
   "outputs": [
    {
     "data": {
      "text/plain": [
       "[3, 'Python', 'is']"
      ]
     },
     "execution_count": 140,
     "metadata": {},
     "output_type": "execute_result"
    }
   ],
   "source": [
    "list4[2:5]"
   ]
  },
  {
   "cell_type": "code",
   "execution_count": 141,
   "id": "ff17052c",
   "metadata": {},
   "outputs": [],
   "source": [
    "# modify the value in a list"
   ]
  },
  {
   "cell_type": "code",
   "execution_count": 142,
   "id": "90a258cd",
   "metadata": {},
   "outputs": [],
   "source": [
    "list4[-1] = \"powerful\" "
   ]
  },
  {
   "cell_type": "code",
   "execution_count": 143,
   "id": "9e0a9dfb",
   "metadata": {},
   "outputs": [
    {
     "data": {
      "text/plain": [
       "[1, 2, 3, 'Python', 'is', 'powerful']"
      ]
     },
     "execution_count": 143,
     "metadata": {},
     "output_type": "execute_result"
    }
   ],
   "source": [
    "list4"
   ]
  },
  {
   "cell_type": "code",
   "execution_count": 144,
   "id": "880ba9ba",
   "metadata": {},
   "outputs": [],
   "source": [
    "# adding a new element in a list"
   ]
  },
  {
   "cell_type": "code",
   "execution_count": 145,
   "id": "b25871c0",
   "metadata": {},
   "outputs": [],
   "source": [
    "list4.append('language')"
   ]
  },
  {
   "cell_type": "code",
   "execution_count": 146,
   "id": "68fc2417",
   "metadata": {},
   "outputs": [
    {
     "data": {
      "text/plain": [
       "[1, 2, 3, 'Python', 'is', 'powerful', 'language']"
      ]
     },
     "execution_count": 146,
     "metadata": {},
     "output_type": "execute_result"
    }
   ],
   "source": [
    "list4"
   ]
  },
  {
   "cell_type": "code",
   "execution_count": 147,
   "id": "c5401ea2",
   "metadata": {},
   "outputs": [
    {
     "ename": "TypeError",
     "evalue": "list.append() takes exactly one argument (2 given)",
     "output_type": "error",
     "traceback": [
      "\u001b[0;31m---------------------------------------------------------------------------\u001b[0m",
      "\u001b[0;31mTypeError\u001b[0m                                 Traceback (most recent call last)",
      "Input \u001b[0;32mIn [147]\u001b[0m, in \u001b[0;36m<cell line: 1>\u001b[0;34m()\u001b[0m\n\u001b[0;32m----> 1\u001b[0m \u001b[43mlist4\u001b[49m\u001b[38;5;241;43m.\u001b[39;49m\u001b[43mappend\u001b[49m\u001b[43m(\u001b[49m\u001b[38;5;124;43m'\u001b[39;49m\u001b[38;5;124;43mlanguage\u001b[39;49m\u001b[38;5;124;43m'\u001b[39;49m\u001b[43m,\u001b[49m\u001b[38;5;124;43m'\u001b[39;49m\u001b[38;5;124;43mfor all\u001b[39;49m\u001b[38;5;124;43m'\u001b[39;49m\u001b[43m)\u001b[49m\n",
      "\u001b[0;31mTypeError\u001b[0m: list.append() takes exactly one argument (2 given)"
     ]
    }
   ],
   "source": [
    "list4.append('language','for all')"
   ]
  },
  {
   "cell_type": "code",
   "execution_count": null,
   "id": "b5589aeb",
   "metadata": {},
   "outputs": [],
   "source": [
    "list4.append(['language','for all'])"
   ]
  },
  {
   "cell_type": "code",
   "execution_count": null,
   "id": "2c433d5f",
   "metadata": {},
   "outputs": [],
   "source": [
    "list4"
   ]
  },
  {
   "cell_type": "code",
   "execution_count": null,
   "id": "435579e5",
   "metadata": {},
   "outputs": [],
   "source": [
    "list4[-1] = 'for all'"
   ]
  },
  {
   "cell_type": "code",
   "execution_count": 148,
   "id": "b01ffcea",
   "metadata": {},
   "outputs": [],
   "source": [
    "list4.extend([22,44])"
   ]
  },
  {
   "cell_type": "code",
   "execution_count": 149,
   "id": "06451a57",
   "metadata": {},
   "outputs": [
    {
     "data": {
      "text/plain": [
       "[1, 2, 3, 'Python', 'is', 'powerful', 'language', 22, 44]"
      ]
     },
     "execution_count": 149,
     "metadata": {},
     "output_type": "execute_result"
    }
   ],
   "source": [
    "list4"
   ]
  },
  {
   "cell_type": "code",
   "execution_count": 150,
   "id": "8ce029e0",
   "metadata": {},
   "outputs": [],
   "source": [
    "list4.insert(3,'The')"
   ]
  },
  {
   "cell_type": "code",
   "execution_count": 151,
   "id": "77b33a7f",
   "metadata": {},
   "outputs": [
    {
     "data": {
      "text/plain": [
       "[1, 2, 3, 'The', 'Python', 'is', 'powerful', 'language', 22, 44]"
      ]
     },
     "execution_count": 151,
     "metadata": {},
     "output_type": "execute_result"
    }
   ],
   "source": [
    "list4"
   ]
  },
  {
   "cell_type": "code",
   "execution_count": 152,
   "id": "de49708c",
   "metadata": {},
   "outputs": [],
   "source": [
    "# deleting a element from a list"
   ]
  },
  {
   "cell_type": "code",
   "execution_count": 153,
   "id": "954e75fb",
   "metadata": {},
   "outputs": [
    {
     "data": {
      "text/plain": [
       "44"
      ]
     },
     "execution_count": 153,
     "metadata": {},
     "output_type": "execute_result"
    }
   ],
   "source": [
    "list4.pop()"
   ]
  },
  {
   "cell_type": "code",
   "execution_count": 154,
   "id": "a724bd7e",
   "metadata": {},
   "outputs": [
    {
     "data": {
      "text/plain": [
       "[1, 2, 3, 'The', 'Python', 'is', 'powerful', 'language', 22]"
      ]
     },
     "execution_count": 154,
     "metadata": {},
     "output_type": "execute_result"
    }
   ],
   "source": [
    "list4"
   ]
  },
  {
   "cell_type": "code",
   "execution_count": 155,
   "id": "cbc16df8",
   "metadata": {},
   "outputs": [],
   "source": [
    "poped_element = list4.pop()"
   ]
  },
  {
   "cell_type": "code",
   "execution_count": 156,
   "id": "79b39aea",
   "metadata": {},
   "outputs": [
    {
     "data": {
      "text/plain": [
       "22"
      ]
     },
     "execution_count": 156,
     "metadata": {},
     "output_type": "execute_result"
    }
   ],
   "source": [
    "poped_element"
   ]
  },
  {
   "cell_type": "code",
   "execution_count": 157,
   "id": "cd3c5fb3",
   "metadata": {},
   "outputs": [
    {
     "data": {
      "text/plain": [
       "3"
      ]
     },
     "execution_count": 157,
     "metadata": {},
     "output_type": "execute_result"
    }
   ],
   "source": [
    "list4.pop(2)"
   ]
  },
  {
   "cell_type": "code",
   "execution_count": 158,
   "id": "f1f21ceb",
   "metadata": {},
   "outputs": [
    {
     "data": {
      "text/plain": [
       "[1, 2, 'The', 'Python', 'is', 'powerful', 'language']"
      ]
     },
     "execution_count": 158,
     "metadata": {},
     "output_type": "execute_result"
    }
   ],
   "source": [
    "list4"
   ]
  },
  {
   "cell_type": "code",
   "execution_count": 159,
   "id": "7f1cd494",
   "metadata": {},
   "outputs": [
    {
     "ename": "ValueError",
     "evalue": "list.remove(x): x not in list",
     "output_type": "error",
     "traceback": [
      "\u001b[0;31m---------------------------------------------------------------------------\u001b[0m",
      "\u001b[0;31mValueError\u001b[0m                                Traceback (most recent call last)",
      "Input \u001b[0;32mIn [159]\u001b[0m, in \u001b[0;36m<cell line: 1>\u001b[0;34m()\u001b[0m\n\u001b[0;32m----> 1\u001b[0m \u001b[43mlist4\u001b[49m\u001b[38;5;241;43m.\u001b[39;49m\u001b[43mremove\u001b[49m\u001b[43m(\u001b[49m\u001b[38;5;124;43m'\u001b[39;49m\u001b[38;5;124;43mfor all\u001b[39;49m\u001b[38;5;124;43m'\u001b[39;49m\u001b[43m)\u001b[49m\n",
      "\u001b[0;31mValueError\u001b[0m: list.remove(x): x not in list"
     ]
    }
   ],
   "source": [
    "list4.remove('for all')"
   ]
  },
  {
   "cell_type": "code",
   "execution_count": null,
   "id": "5d994377",
   "metadata": {},
   "outputs": [],
   "source": [
    "list4"
   ]
  },
  {
   "cell_type": "code",
   "execution_count": null,
   "id": "aa03291d",
   "metadata": {},
   "outputs": [],
   "source": [
    "list4.remove(2)"
   ]
  },
  {
   "cell_type": "code",
   "execution_count": null,
   "id": "c0e21b10",
   "metadata": {},
   "outputs": [],
   "source": [
    "list4"
   ]
  },
  {
   "cell_type": "code",
   "execution_count": 160,
   "id": "f4e9d9d5",
   "metadata": {},
   "outputs": [],
   "source": [
    "#del list4[:]"
   ]
  },
  {
   "cell_type": "code",
   "execution_count": 161,
   "id": "0be85e0d",
   "metadata": {},
   "outputs": [],
   "source": [
    "# list4.clear()"
   ]
  },
  {
   "cell_type": "code",
   "execution_count": 162,
   "id": "305ba7d1",
   "metadata": {},
   "outputs": [
    {
     "data": {
      "text/plain": [
       "[1, 2, 'The', 'Python', 'is', 'powerful', 'language']"
      ]
     },
     "execution_count": 162,
     "metadata": {},
     "output_type": "execute_result"
    }
   ],
   "source": [
    "list4"
   ]
  },
  {
   "cell_type": "code",
   "execution_count": 163,
   "id": "4ffd2263",
   "metadata": {},
   "outputs": [],
   "source": [
    "#del list4"
   ]
  },
  {
   "cell_type": "code",
   "execution_count": 164,
   "id": "c717d93d",
   "metadata": {},
   "outputs": [
    {
     "data": {
      "text/plain": [
       "[1, 2, 'The', 'Python', 'is', 'powerful', 'language']"
      ]
     },
     "execution_count": 164,
     "metadata": {},
     "output_type": "execute_result"
    }
   ],
   "source": [
    "list4"
   ]
  },
  {
   "cell_type": "code",
   "execution_count": 165,
   "id": "f651b0ad",
   "metadata": {},
   "outputs": [],
   "source": [
    "var1 = 20"
   ]
  },
  {
   "cell_type": "code",
   "execution_count": 166,
   "id": "37491ce3",
   "metadata": {},
   "outputs": [
    {
     "data": {
      "text/plain": [
       "20"
      ]
     },
     "execution_count": 166,
     "metadata": {},
     "output_type": "execute_result"
    }
   ],
   "source": [
    "var1"
   ]
  },
  {
   "cell_type": "code",
   "execution_count": 167,
   "id": "2c4ef13c",
   "metadata": {},
   "outputs": [],
   "source": [
    "del var1"
   ]
  },
  {
   "cell_type": "code",
   "execution_count": 168,
   "id": "2acd9eed",
   "metadata": {},
   "outputs": [
    {
     "ename": "NameError",
     "evalue": "name 'var1' is not defined",
     "output_type": "error",
     "traceback": [
      "\u001b[0;31m---------------------------------------------------------------------------\u001b[0m",
      "\u001b[0;31mNameError\u001b[0m                                 Traceback (most recent call last)",
      "Input \u001b[0;32mIn [168]\u001b[0m, in \u001b[0;36m<cell line: 1>\u001b[0;34m()\u001b[0m\n\u001b[0;32m----> 1\u001b[0m \u001b[43mvar1\u001b[49m\n",
      "\u001b[0;31mNameError\u001b[0m: name 'var1' is not defined"
     ]
    }
   ],
   "source": [
    "var1"
   ]
  },
  {
   "cell_type": "code",
   "execution_count": null,
   "id": "6d7bd988",
   "metadata": {},
   "outputs": [],
   "source": [
    "list3"
   ]
  },
  {
   "cell_type": "code",
   "execution_count": null,
   "id": "066ca6e0",
   "metadata": {},
   "outputs": [],
   "source": [
    "list3.index(3)"
   ]
  },
  {
   "cell_type": "code",
   "execution_count": 169,
   "id": "7f7e793a",
   "metadata": {},
   "outputs": [
    {
     "ename": "ValueError",
     "evalue": "6 is not in list",
     "output_type": "error",
     "traceback": [
      "\u001b[0;31m---------------------------------------------------------------------------\u001b[0m",
      "\u001b[0;31mValueError\u001b[0m                                Traceback (most recent call last)",
      "Input \u001b[0;32mIn [169]\u001b[0m, in \u001b[0;36m<cell line: 1>\u001b[0;34m()\u001b[0m\n\u001b[0;32m----> 1\u001b[0m \u001b[43mlist3\u001b[49m\u001b[38;5;241;43m.\u001b[39;49m\u001b[43mindex\u001b[49m\u001b[43m(\u001b[49m\u001b[38;5;241;43m6\u001b[39;49m\u001b[43m)\u001b[49m\n",
      "\u001b[0;31mValueError\u001b[0m: 6 is not in list"
     ]
    }
   ],
   "source": [
    "list3.index(6)"
   ]
  },
  {
   "cell_type": "code",
   "execution_count": null,
   "id": "c451144b",
   "metadata": {},
   "outputs": [],
   "source": [
    "list3.reverse()"
   ]
  },
  {
   "cell_type": "code",
   "execution_count": null,
   "id": "5a643cd0",
   "metadata": {},
   "outputs": [],
   "source": [
    "list3"
   ]
  },
  {
   "cell_type": "code",
   "execution_count": null,
   "id": "bca96c87",
   "metadata": {},
   "outputs": [],
   "source": [
    "list3.sort()"
   ]
  },
  {
   "cell_type": "code",
   "execution_count": 170,
   "id": "9bc8913e",
   "metadata": {},
   "outputs": [
    {
     "data": {
      "text/plain": [
       "[1, 2, 'The', 'Python', 'is', 'powerful', 'language']"
      ]
     },
     "execution_count": 170,
     "metadata": {},
     "output_type": "execute_result"
    }
   ],
   "source": [
    "list4"
   ]
  },
  {
   "cell_type": "code",
   "execution_count": 171,
   "id": "90d6f079",
   "metadata": {},
   "outputs": [
    {
     "ename": "TypeError",
     "evalue": "'<' not supported between instances of 'str' and 'int'",
     "output_type": "error",
     "traceback": [
      "\u001b[0;31m---------------------------------------------------------------------------\u001b[0m",
      "\u001b[0;31mTypeError\u001b[0m                                 Traceback (most recent call last)",
      "Input \u001b[0;32mIn [171]\u001b[0m, in \u001b[0;36m<cell line: 1>\u001b[0;34m()\u001b[0m\n\u001b[0;32m----> 1\u001b[0m \u001b[43mlist4\u001b[49m\u001b[38;5;241;43m.\u001b[39;49m\u001b[43msort\u001b[49m\u001b[43m(\u001b[49m\u001b[43m)\u001b[49m\n",
      "\u001b[0;31mTypeError\u001b[0m: '<' not supported between instances of 'str' and 'int'"
     ]
    }
   ],
   "source": [
    "list4.sort()"
   ]
  },
  {
   "cell_type": "code",
   "execution_count": 175,
   "id": "c6c06e21",
   "metadata": {},
   "outputs": [],
   "source": [
    "my_list = ['The', 'Python', 'is', 'powerful', 'language']\n",
    "#my_list.sort()"
   ]
  },
  {
   "cell_type": "code",
   "execution_count": 176,
   "id": "d166d38e",
   "metadata": {},
   "outputs": [
    {
     "data": {
      "text/plain": [
       "['The', 'Python', 'is', 'powerful', 'language']"
      ]
     },
     "execution_count": 176,
     "metadata": {},
     "output_type": "execute_result"
    }
   ],
   "source": [
    "my_list"
   ]
  },
  {
   "cell_type": "code",
   "execution_count": 177,
   "id": "4f78257a",
   "metadata": {},
   "outputs": [
    {
     "data": {
      "text/plain": [
       "['Python', 'The', 'is', 'language', 'powerful']"
      ]
     },
     "execution_count": 177,
     "metadata": {},
     "output_type": "execute_result"
    }
   ],
   "source": [
    "sorted(my_list)"
   ]
  },
  {
   "cell_type": "code",
   "execution_count": 178,
   "id": "a4445fb4",
   "metadata": {},
   "outputs": [
    {
     "data": {
      "text/plain": [
       "['The', 'Python', 'is', 'powerful', 'language']"
      ]
     },
     "execution_count": 178,
     "metadata": {},
     "output_type": "execute_result"
    }
   ],
   "source": [
    "my_list"
   ]
  },
  {
   "cell_type": "code",
   "execution_count": 179,
   "id": "3c83bb54",
   "metadata": {},
   "outputs": [],
   "source": [
    "my_list.sort(reverse=True)"
   ]
  },
  {
   "cell_type": "code",
   "execution_count": 180,
   "id": "7ebcd6e8",
   "metadata": {},
   "outputs": [
    {
     "data": {
      "text/plain": [
       "['powerful', 'language', 'is', 'The', 'Python']"
      ]
     },
     "execution_count": 180,
     "metadata": {},
     "output_type": "execute_result"
    }
   ],
   "source": [
    "my_list"
   ]
  },
  {
   "cell_type": "code",
   "execution_count": null,
   "id": "3abe6828",
   "metadata": {},
   "outputs": [],
   "source": []
  }
 ],
 "metadata": {
  "kernelspec": {
   "display_name": "Python [conda env:base] *",
   "language": "python",
   "name": "conda-base-py"
  },
  "language_info": {
   "codemirror_mode": {
    "name": "ipython",
    "version": 3
   },
   "file_extension": ".py",
   "mimetype": "text/x-python",
   "name": "python",
   "nbconvert_exporter": "python",
   "pygments_lexer": "ipython3",
   "version": "3.12.7"
  }
 },
 "nbformat": 4,
 "nbformat_minor": 5
}
