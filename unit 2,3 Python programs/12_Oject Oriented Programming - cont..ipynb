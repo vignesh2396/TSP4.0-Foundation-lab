{
 "cells": [
  {
   "cell_type": "code",
   "execution_count": 6,
   "id": "44deed82",
   "metadata": {},
   "outputs": [],
   "source": [
    "class TagCloud:\n",
    "    def __init__(self):\n",
    "        self.tags = {}\n",
    "        \n",
    "    def add(self, tag):\n",
    "        self.tags[tag.lower()] = self.tags.get(tag.lower(), 0) + 1\n",
    "        \n",
    "cloud = TagCloud()\n",
    "cloud.add('python')\n",
    "cloud.add('python')\n",
    "cloud.add('Python')"
   ]
  },
  {
   "cell_type": "code",
   "execution_count": 7,
   "id": "33dbbbbb",
   "metadata": {
    "scrolled": true
   },
   "outputs": [
    {
     "data": {
      "text/plain": [
       "{'python': 3}"
      ]
     },
     "execution_count": 7,
     "metadata": {},
     "output_type": "execute_result"
    }
   ],
   "source": [
    "cloud.tags"
   ]
  },
  {
   "cell_type": "code",
   "execution_count": 8,
   "id": "104ae34e",
   "metadata": {},
   "outputs": [
    {
     "data": {
      "text/plain": [
       "3"
      ]
     },
     "execution_count": 8,
     "metadata": {},
     "output_type": "execute_result"
    }
   ],
   "source": [
    "cloud.tags['python']"
   ]
  },
  {
   "cell_type": "markdown",
   "id": "9b793ae1",
   "metadata": {},
   "source": [
    "# get item"
   ]
  },
  {
   "cell_type": "code",
   "execution_count": 9,
   "id": "2d691f0a",
   "metadata": {},
   "outputs": [],
   "source": [
    "class TagCloud:\n",
    "    def __init__(self):\n",
    "        self.tags = {}\n",
    "        \n",
    "    def add(self, tag):\n",
    "        self.tags[tag.lower()] = self.tags.get(tag.lower(), 0) + 1\n",
    "        \n",
    "    def __getitem__(self, tag):\n",
    "        return self.tags.get(tag.lower(), 0)\n",
    "        \n",
    "cloud = TagCloud()\n",
    "cloud.add('python')\n",
    "cloud.add('python')\n",
    "cloud.add('Python')"
   ]
  },
  {
   "cell_type": "code",
   "execution_count": 12,
   "id": "9fb713d3",
   "metadata": {},
   "outputs": [
    {
     "ename": "TypeError",
     "evalue": "'TagCloud' object does not support item assignment",
     "output_type": "error",
     "traceback": [
      "\u001b[0;31m---------------------------------------------------------------------------\u001b[0m",
      "\u001b[0;31mTypeError\u001b[0m                                 Traceback (most recent call last)",
      "Input \u001b[0;32mIn [12]\u001b[0m, in \u001b[0;36m<cell line: 1>\u001b[0;34m()\u001b[0m\n\u001b[0;32m----> 1\u001b[0m cloud[\u001b[38;5;124m'\u001b[39m\u001b[38;5;124mjava\u001b[39m\u001b[38;5;124m'\u001b[39m] \u001b[38;5;241m=\u001b[39m \u001b[38;5;241m10\u001b[39m\n",
      "\u001b[0;31mTypeError\u001b[0m: 'TagCloud' object does not support item assignment"
     ]
    }
   ],
   "source": [
    "cloud['java'] = 10"
   ]
  },
  {
   "cell_type": "markdown",
   "id": "eb203382",
   "metadata": {},
   "source": [
    "# set item"
   ]
  },
  {
   "cell_type": "code",
   "execution_count": 13,
   "id": "f508c3aa",
   "metadata": {},
   "outputs": [],
   "source": [
    "class TagCloud:\n",
    "    def __init__(self):\n",
    "        self.tags = {}\n",
    "        \n",
    "    def add(self, tag):\n",
    "        self.tags[tag.lower()] = self.tags.get(tag.lower(), 0) + 1\n",
    "        \n",
    "    def __getitem__(self, tag):\n",
    "        return self.tags.get(tag.lower(), 0)\n",
    "    \n",
    "    def __setitem__(self, tag, count):\n",
    "        self.tags[tag.lower()] = count\n",
    "        \n",
    "cloud = TagCloud()\n",
    "cloud.add('python')\n",
    "cloud.add('python')\n",
    "cloud.add('Python')"
   ]
  },
  {
   "cell_type": "code",
   "execution_count": 23,
   "id": "65908141",
   "metadata": {},
   "outputs": [],
   "source": [
    "cloud['python'] = 9"
   ]
  },
  {
   "cell_type": "code",
   "execution_count": 16,
   "id": "195ed0d2",
   "metadata": {},
   "outputs": [
    {
     "data": {
      "text/plain": [
       "9"
      ]
     },
     "execution_count": 16,
     "metadata": {},
     "output_type": "execute_result"
    }
   ],
   "source": [
    "cloud['python']"
   ]
  },
  {
   "cell_type": "code",
   "execution_count": 24,
   "id": "cbf4a12e",
   "metadata": {},
   "outputs": [],
   "source": [
    "cloud['java'] = 10"
   ]
  },
  {
   "cell_type": "code",
   "execution_count": 18,
   "id": "a4663402",
   "metadata": {},
   "outputs": [
    {
     "data": {
      "text/plain": [
       "{'python': 9, 'java': 10}"
      ]
     },
     "execution_count": 18,
     "metadata": {},
     "output_type": "execute_result"
    }
   ],
   "source": [
    "cloud.tags"
   ]
  },
  {
   "cell_type": "code",
   "execution_count": 19,
   "id": "c5005415",
   "metadata": {},
   "outputs": [],
   "source": [
    "cloud.add('java')"
   ]
  },
  {
   "cell_type": "code",
   "execution_count": 20,
   "id": "bcefd5ca",
   "metadata": {},
   "outputs": [
    {
     "data": {
      "text/plain": [
       "{'python': 9, 'java': 11}"
      ]
     },
     "execution_count": 20,
     "metadata": {},
     "output_type": "execute_result"
    }
   ],
   "source": [
    "cloud.tags"
   ]
  },
  {
   "cell_type": "code",
   "execution_count": 21,
   "id": "6bb17a80",
   "metadata": {
    "scrolled": true
   },
   "outputs": [
    {
     "ename": "TypeError",
     "evalue": "object of type 'TagCloud' has no len()",
     "output_type": "error",
     "traceback": [
      "\u001b[0;31m---------------------------------------------------------------------------\u001b[0m",
      "\u001b[0;31mTypeError\u001b[0m                                 Traceback (most recent call last)",
      "Input \u001b[0;32mIn [21]\u001b[0m, in \u001b[0;36m<cell line: 1>\u001b[0;34m()\u001b[0m\n\u001b[0;32m----> 1\u001b[0m \u001b[38;5;28;43mlen\u001b[39;49m\u001b[43m(\u001b[49m\u001b[43mcloud\u001b[49m\u001b[43m)\u001b[49m\n",
      "\u001b[0;31mTypeError\u001b[0m: object of type 'TagCloud' has no len()"
     ]
    }
   ],
   "source": [
    "len(cloud)"
   ]
  },
  {
   "cell_type": "markdown",
   "id": "a1525b91",
   "metadata": {},
   "source": [
    "# len magic method"
   ]
  },
  {
   "cell_type": "code",
   "execution_count": 22,
   "id": "e5afcbbe",
   "metadata": {},
   "outputs": [],
   "source": [
    "class TagCloud:\n",
    "    def __init__(self):\n",
    "        self.tags = {}\n",
    "        \n",
    "    def add(self, tag):\n",
    "        self.tags[tag.lower()] = self.tags.get(tag.lower(), 0) + 1\n",
    "        \n",
    "    def __getitem__(self, tag):\n",
    "        return self.tags.get(tag.lower(), 0)\n",
    "    \n",
    "    def __setitem__(self, tag, count):\n",
    "        self.tags[tag.lower()] = count\n",
    "        \n",
    "    def __len__(self):\n",
    "        return len(self.tags)\n",
    "        \n",
    "cloud = TagCloud()\n",
    "cloud.add('python')\n",
    "cloud.add('python')\n",
    "cloud.add('Python')"
   ]
  },
  {
   "cell_type": "code",
   "execution_count": 25,
   "id": "6eff9b73",
   "metadata": {},
   "outputs": [
    {
     "data": {
      "text/plain": [
       "{'python': 9, 'java': 10}"
      ]
     },
     "execution_count": 25,
     "metadata": {},
     "output_type": "execute_result"
    }
   ],
   "source": [
    "cloud.tags"
   ]
  },
  {
   "cell_type": "code",
   "execution_count": 26,
   "id": "abf73372",
   "metadata": {},
   "outputs": [
    {
     "data": {
      "text/plain": [
       "2"
      ]
     },
     "execution_count": 26,
     "metadata": {},
     "output_type": "execute_result"
    }
   ],
   "source": [
    "len(cloud)"
   ]
  },
  {
   "cell_type": "code",
   "execution_count": 27,
   "id": "04ceda6d",
   "metadata": {
    "collapsed": true,
    "jupyter": {
     "outputs_hidden": true
    }
   },
   "outputs": [
    {
     "data": {
      "text/plain": [
       "['__call__',\n",
       " '__class__',\n",
       " '__delattr__',\n",
       " '__dir__',\n",
       " '__doc__',\n",
       " '__eq__',\n",
       " '__format__',\n",
       " '__ge__',\n",
       " '__getattribute__',\n",
       " '__gt__',\n",
       " '__hash__',\n",
       " '__init__',\n",
       " '__init_subclass__',\n",
       " '__le__',\n",
       " '__lt__',\n",
       " '__module__',\n",
       " '__name__',\n",
       " '__ne__',\n",
       " '__new__',\n",
       " '__qualname__',\n",
       " '__reduce__',\n",
       " '__reduce_ex__',\n",
       " '__repr__',\n",
       " '__self__',\n",
       " '__setattr__',\n",
       " '__sizeof__',\n",
       " '__str__',\n",
       " '__subclasshook__',\n",
       " '__text_signature__']"
      ]
     },
     "execution_count": 27,
     "metadata": {},
     "output_type": "execute_result"
    }
   ],
   "source": [
    "dir(len)"
   ]
  },
  {
   "cell_type": "markdown",
   "id": "a2e0f8e2",
   "metadata": {},
   "source": [
    "# private member"
   ]
  },
  {
   "cell_type": "code",
   "execution_count": 28,
   "id": "046ab113",
   "metadata": {},
   "outputs": [],
   "source": [
    "class TagCloud:\n",
    "    def __init__(self):\n",
    "        self.__tags = {}\n",
    "        \n",
    "    def add(self, tag):\n",
    "        self.__tags[tag.lower()] = self.__tags.get(tag.lower(), 0) + 1\n",
    "        \n",
    "    def __getitem__(self, tag):\n",
    "        return self.__tags.get(tag.lower(), 0)\n",
    "    \n",
    "    def __setitem__(self, tag, count):\n",
    "        self.__tags[tag.lower()] = count\n",
    "        \n",
    "    def __len__(self):\n",
    "        return len(self.__tags)\n",
    "        \n",
    "cloud = TagCloud()\n",
    "cloud.add('python')\n",
    "cloud.add('python')\n",
    "cloud.add('Python')"
   ]
  },
  {
   "cell_type": "code",
   "execution_count": 30,
   "id": "9e071a51",
   "metadata": {
    "collapsed": true,
    "jupyter": {
     "outputs_hidden": true
    }
   },
   "outputs": [
    {
     "ename": "AttributeError",
     "evalue": "'TagCloud' object has no attribute '__tags'",
     "output_type": "error",
     "traceback": [
      "\u001b[0;31m---------------------------------------------------------------------------\u001b[0m",
      "\u001b[0;31mAttributeError\u001b[0m                            Traceback (most recent call last)",
      "Input \u001b[0;32mIn [30]\u001b[0m, in \u001b[0;36m<cell line: 2>\u001b[0;34m()\u001b[0m\n\u001b[1;32m      1\u001b[0m \u001b[38;5;66;03m# cloud.tags\u001b[39;00m\n\u001b[0;32m----> 2\u001b[0m \u001b[43mcloud\u001b[49m\u001b[38;5;241;43m.\u001b[39;49m\u001b[43m__tags\u001b[49m\n",
      "\u001b[0;31mAttributeError\u001b[0m: 'TagCloud' object has no attribute '__tags'"
     ]
    }
   ],
   "source": [
    "# cloud.tags\n",
    "# cloud.__tags"
   ]
  },
  {
   "cell_type": "code",
   "execution_count": 31,
   "id": "0032e0f0",
   "metadata": {},
   "outputs": [
    {
     "name": "stdout",
     "output_type": "stream",
     "text": [
      "{'_TagCloud__tags': {'python': 3}}\n"
     ]
    }
   ],
   "source": [
    "print(cloud.__dict__)"
   ]
  },
  {
   "cell_type": "code",
   "execution_count": 32,
   "id": "70d590b0",
   "metadata": {},
   "outputs": [
    {
     "name": "stdout",
     "output_type": "stream",
     "text": [
      "{'python': 3}\n"
     ]
    }
   ],
   "source": [
    "print(cloud._TagCloud__tags)"
   ]
  },
  {
   "cell_type": "markdown",
   "id": "ed559c78",
   "metadata": {},
   "source": [
    "# properties"
   ]
  },
  {
   "cell_type": "code",
   "execution_count": 33,
   "id": "ec0510b6",
   "metadata": {},
   "outputs": [],
   "source": [
    "class Product:\n",
    "    def __init__(self, price):\n",
    "        self.__price = price\n",
    "        \n",
    "    def get_price(self):\n",
    "        return self.__price\n",
    "    \n",
    "    def set_price(self, value):\n",
    "        if value < 0:\n",
    "            raise ValueError('Price must be positive')\n",
    "        self.__price = value\n",
    "        \n",
    "\n",
    "prod = Product(50)"
   ]
  },
  {
   "cell_type": "code",
   "execution_count": 37,
   "id": "cdd046aa",
   "metadata": {
    "collapsed": true,
    "jupyter": {
     "outputs_hidden": true
    }
   },
   "outputs": [
    {
     "ename": "ValueError",
     "evalue": "Price must be positive",
     "output_type": "error",
     "traceback": [
      "\u001b[0;31m---------------------------------------------------------------------------\u001b[0m",
      "\u001b[0;31mValueError\u001b[0m                                Traceback (most recent call last)",
      "Input \u001b[0;32mIn [37]\u001b[0m, in \u001b[0;36m<cell line: 1>\u001b[0;34m()\u001b[0m\n\u001b[0;32m----> 1\u001b[0m \u001b[43mprod\u001b[49m\u001b[38;5;241;43m.\u001b[39;49m\u001b[43mset_price\u001b[49m\u001b[43m(\u001b[49m\u001b[38;5;241;43m-\u001b[39;49m\u001b[38;5;241;43m10\u001b[39;49m\u001b[43m)\u001b[49m\n",
      "Input \u001b[0;32mIn [33]\u001b[0m, in \u001b[0;36mProduct.set_price\u001b[0;34m(self, value)\u001b[0m\n\u001b[1;32m      8\u001b[0m \u001b[38;5;28;01mdef\u001b[39;00m \u001b[38;5;21mset_price\u001b[39m(\u001b[38;5;28mself\u001b[39m, value):\n\u001b[1;32m      9\u001b[0m     \u001b[38;5;28;01mif\u001b[39;00m value \u001b[38;5;241m<\u001b[39m \u001b[38;5;241m0\u001b[39m:\n\u001b[0;32m---> 10\u001b[0m         \u001b[38;5;28;01mraise\u001b[39;00m \u001b[38;5;167;01mValueError\u001b[39;00m(\u001b[38;5;124m'\u001b[39m\u001b[38;5;124mPrice must be positive\u001b[39m\u001b[38;5;124m'\u001b[39m)\n\u001b[1;32m     11\u001b[0m     \u001b[38;5;28mself\u001b[39m\u001b[38;5;241m.\u001b[39m__price \u001b[38;5;241m=\u001b[39m value\n",
      "\u001b[0;31mValueError\u001b[0m: Price must be positive"
     ]
    }
   ],
   "source": [
    "prod.set_price(-10)"
   ]
  },
  {
   "cell_type": "code",
   "execution_count": 36,
   "id": "5faaaab7",
   "metadata": {},
   "outputs": [
    {
     "data": {
      "text/plain": [
       "10"
      ]
     },
     "execution_count": 36,
     "metadata": {},
     "output_type": "execute_result"
    }
   ],
   "source": [
    "prod.get_price()"
   ]
  },
  {
   "cell_type": "code",
   "execution_count": 38,
   "id": "c8e51e86",
   "metadata": {},
   "outputs": [],
   "source": [
    "class Product:\n",
    "    def __init__(self, price):\n",
    "        self.set_price(price)\n",
    "        \n",
    "    def get_price(self):\n",
    "        return self.__price\n",
    "    \n",
    "    def set_price(self, value):\n",
    "        if value < 0:\n",
    "            raise ValueError('Price must be positive')\n",
    "        self.__price = value\n",
    "        \n",
    "    price = property(fget=get_price, fset=set_price)\n",
    "\n",
    "prod = Product(50)"
   ]
  },
  {
   "cell_type": "code",
   "execution_count": 39,
   "id": "da3215fe",
   "metadata": {},
   "outputs": [
    {
     "data": {
      "text/plain": [
       "50"
      ]
     },
     "execution_count": 39,
     "metadata": {},
     "output_type": "execute_result"
    }
   ],
   "source": [
    "prod.price"
   ]
  },
  {
   "cell_type": "code",
   "execution_count": 40,
   "id": "a9d00dd7",
   "metadata": {},
   "outputs": [],
   "source": [
    "prod.price = 10"
   ]
  },
  {
   "cell_type": "code",
   "execution_count": 41,
   "id": "9ee13e2a",
   "metadata": {},
   "outputs": [
    {
     "data": {
      "text/plain": [
       "10"
      ]
     },
     "execution_count": 41,
     "metadata": {},
     "output_type": "execute_result"
    }
   ],
   "source": [
    "prod."
   ]
  },
  {
   "cell_type": "code",
   "execution_count": 42,
   "id": "b320b552",
   "metadata": {
    "collapsed": true,
    "jupyter": {
     "outputs_hidden": true
    }
   },
   "outputs": [
    {
     "name": "stdout",
     "output_type": "stream",
     "text": [
      "Help on class property in module builtins:\n",
      "\n",
      "class property(object)\n",
      " |  property(fget=None, fset=None, fdel=None, doc=None)\n",
      " |  \n",
      " |  Property attribute.\n",
      " |  \n",
      " |    fget\n",
      " |      function to be used for getting an attribute value\n",
      " |    fset\n",
      " |      function to be used for setting an attribute value\n",
      " |    fdel\n",
      " |      function to be used for del'ing an attribute\n",
      " |    doc\n",
      " |      docstring\n",
      " |  \n",
      " |  Typical use is to define a managed attribute x:\n",
      " |  \n",
      " |  class C(object):\n",
      " |      def getx(self): return self._x\n",
      " |      def setx(self, value): self._x = value\n",
      " |      def delx(self): del self._x\n",
      " |      x = property(getx, setx, delx, \"I'm the 'x' property.\")\n",
      " |  \n",
      " |  Decorators make defining new properties or modifying existing ones easy:\n",
      " |  \n",
      " |  class C(object):\n",
      " |      @property\n",
      " |      def x(self):\n",
      " |          \"I am the 'x' property.\"\n",
      " |          return self._x\n",
      " |      @x.setter\n",
      " |      def x(self, value):\n",
      " |          self._x = value\n",
      " |      @x.deleter\n",
      " |      def x(self):\n",
      " |          del self._x\n",
      " |  \n",
      " |  Methods defined here:\n",
      " |  \n",
      " |  __delete__(self, instance, /)\n",
      " |      Delete an attribute of instance.\n",
      " |  \n",
      " |  __get__(self, instance, owner, /)\n",
      " |      Return an attribute of instance, which is of type owner.\n",
      " |  \n",
      " |  __getattribute__(self, name, /)\n",
      " |      Return getattr(self, name).\n",
      " |  \n",
      " |  __init__(self, /, *args, **kwargs)\n",
      " |      Initialize self.  See help(type(self)) for accurate signature.\n",
      " |  \n",
      " |  __set__(self, instance, value, /)\n",
      " |      Set an attribute of instance to value.\n",
      " |  \n",
      " |  deleter(...)\n",
      " |      Descriptor to obtain a copy of the property with a different deleter.\n",
      " |  \n",
      " |  getter(...)\n",
      " |      Descriptor to obtain a copy of the property with a different getter.\n",
      " |  \n",
      " |  setter(...)\n",
      " |      Descriptor to obtain a copy of the property with a different setter.\n",
      " |  \n",
      " |  ----------------------------------------------------------------------\n",
      " |  Static methods defined here:\n",
      " |  \n",
      " |  __new__(*args, **kwargs) from builtins.type\n",
      " |      Create and return a new object.  See help(type) for accurate signature.\n",
      " |  \n",
      " |  ----------------------------------------------------------------------\n",
      " |  Data descriptors defined here:\n",
      " |  \n",
      " |  __isabstractmethod__\n",
      " |  \n",
      " |  fdel\n",
      " |  \n",
      " |  fget\n",
      " |  \n",
      " |  fset\n",
      "\n"
     ]
    }
   ],
   "source": [
    "help(property)"
   ]
  },
  {
   "cell_type": "code",
   "execution_count": null,
   "id": "645e05d5",
   "metadata": {},
   "outputs": [],
   "source": [
    "prod.price"
   ]
  },
  {
   "cell_type": "markdown",
   "id": "b66ed9c1",
   "metadata": {},
   "source": [
    "# Decorator"
   ]
  },
  {
   "cell_type": "code",
   "execution_count": 48,
   "id": "50f85b6c",
   "metadata": {
    "jupyter": {
     "source_hidden": true
    }
   },
   "outputs": [],
   "source": [
    "class Product:\n",
    "    def __init__(self, price):\n",
    "        self.__price = price\n",
    "        \n",
    "    @property    \n",
    "    def price(self):\n",
    "        return self.__price\n",
    "    \n",
    "    @price.setter\n",
    "    def price(self, value):\n",
    "        if value < 0:\n",
    "            raise ValueError('Price must be positive')\n",
    "        self.__price = value\n",
    "        \n",
    "    \n",
    "\n",
    "prod = Product(50)"
   ]
  },
  {
   "cell_type": "code",
   "execution_count": 45,
   "id": "c5f2d5b9",
   "metadata": {},
   "outputs": [
    {
     "data": {
      "text/plain": [
       "50"
      ]
     },
     "execution_count": 45,
     "metadata": {},
     "output_type": "execute_result"
    }
   ],
   "source": [
    "prod.price"
   ]
  },
  {
   "cell_type": "code",
   "execution_count": 49,
   "id": "ef0d8aa3",
   "metadata": {},
   "outputs": [
    {
     "ename": "AttributeError",
     "evalue": "can't set attribute",
     "output_type": "error",
     "traceback": [
      "\u001b[0;31m---------------------------------------------------------------------------\u001b[0m",
      "\u001b[0;31mAttributeError\u001b[0m                            Traceback (most recent call last)",
      "Input \u001b[0;32mIn [49]\u001b[0m, in \u001b[0;36m<cell line: 1>\u001b[0;34m()\u001b[0m\n\u001b[0;32m----> 1\u001b[0m prod\u001b[38;5;241m.\u001b[39mprice \u001b[38;5;241m=\u001b[39m \u001b[38;5;241m30\u001b[39m\n",
      "\u001b[0;31mAttributeError\u001b[0m: can't set attribute"
     ]
    }
   ],
   "source": [
    "prod.price = 30"
   ]
  },
  {
   "cell_type": "code",
   "execution_count": 47,
   "id": "b08b2179",
   "metadata": {},
   "outputs": [
    {
     "data": {
      "text/plain": [
       "30"
      ]
     },
     "execution_count": 47,
     "metadata": {},
     "output_type": "execute_result"
    }
   ],
   "source": [
    "prod.price"
   ]
  },
  {
   "cell_type": "code",
   "execution_count": null,
   "id": "29e0e35c",
   "metadata": {},
   "outputs": [],
   "source": []
  },
  {
   "cell_type": "code",
   "execution_count": null,
   "id": "49bfb639",
   "metadata": {},
   "outputs": [],
   "source": []
  },
  {
   "cell_type": "code",
   "execution_count": null,
   "id": "1201fa80",
   "metadata": {},
   "outputs": [],
   "source": []
  },
  {
   "cell_type": "code",
   "execution_count": null,
   "id": "756923e1",
   "metadata": {},
   "outputs": [],
   "source": []
  },
  {
   "cell_type": "code",
   "execution_count": null,
   "id": "c7d37b01",
   "metadata": {},
   "outputs": [],
   "source": []
  },
  {
   "cell_type": "code",
   "execution_count": null,
   "id": "25cc1a19",
   "metadata": {},
   "outputs": [],
   "source": []
  }
 ],
 "metadata": {
  "kernelspec": {
   "display_name": "Python [conda env:base] *",
   "language": "python",
   "name": "conda-base-py"
  },
  "language_info": {
   "codemirror_mode": {
    "name": "ipython",
    "version": 3
   },
   "file_extension": ".py",
   "mimetype": "text/x-python",
   "name": "python",
   "nbconvert_exporter": "python",
   "pygments_lexer": "ipython3",
   "version": "3.12.7"
  }
 },
 "nbformat": 4,
 "nbformat_minor": 5
}
