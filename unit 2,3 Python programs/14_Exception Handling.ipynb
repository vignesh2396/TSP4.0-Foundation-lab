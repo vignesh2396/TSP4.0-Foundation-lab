{
 "cells": [
  {
   "cell_type": "markdown",
   "id": "8be8ff7e",
   "metadata": {},
   "source": [
    "# Exception Handling"
   ]
  },
  {
   "cell_type": "code",
   "execution_count": null,
   "id": "33434685",
   "metadata": {},
   "outputs": [],
   "source": [
    "# syntax\n",
    "try:\n",
    "    # try block statement\n",
    "except:\n",
    "    # except block statement"
   ]
  },
  {
   "cell_type": "markdown",
   "id": "5120f4dc",
   "metadata": {},
   "source": [
    "# errors in python\n",
    "\n",
    "* AttributeError\n",
    "* ImportError\n",
    "* IndexError\n",
    "* KeyError\n",
    "* NameError\n",
    "* SyntaxError\n",
    "* IndentationError\n",
    "* TypeError\n",
    "* ZeroDivisionError\n",
    "* ValueError"
   ]
  },
  {
   "cell_type": "code",
   "execution_count": 2,
   "id": "c55b319d",
   "metadata": {
    "scrolled": true
   },
   "outputs": [
    {
     "name": "stdout",
     "output_type": "stream",
     "text": [
      "Enter your age : asdf\n",
      "Please enter a valid age\n"
     ]
    }
   ],
   "source": [
    "try:\n",
    "    age = int(input(\"Enter your age : \"))\n",
    "except ValueError:\n",
    "    print(\"Please enter a valid age\")"
   ]
  },
  {
   "cell_type": "markdown",
   "id": "322021c2",
   "metadata": {},
   "source": [
    "# multiple except statement"
   ]
  },
  {
   "cell_type": "code",
   "execution_count": null,
   "id": "0581264c",
   "metadata": {},
   "outputs": [],
   "source": [
    "try:\n",
    "    age = int(input(\"Enter your age : \"))\n",
    "    factor = 10/age\n",
    "except ValueError:\n",
    "    print(\"Please enter a valid age\")\n",
    "except ZeroDivisionError:\n",
    "    print('Age cannot be zero.')"
   ]
  },
  {
   "cell_type": "markdown",
   "id": "d8241fa5",
   "metadata": {},
   "source": [
    "# multiple error name in single except"
   ]
  },
  {
   "cell_type": "code",
   "execution_count": 5,
   "id": "5ea1c79c",
   "metadata": {},
   "outputs": [
    {
     "name": "stdout",
     "output_type": "stream",
     "text": [
      "Enter your age : awef\n",
      "Please enter a valid age\n"
     ]
    }
   ],
   "source": [
    "try:\n",
    "    age = int(input(\"Enter your age : \"))\n",
    "    factor = 10/age\n",
    "except (ValueError, ZeroDivisionError):\n",
    "    print(\"Please enter a valid age\")"
   ]
  },
  {
   "cell_type": "markdown",
   "id": "828e0546",
   "metadata": {},
   "source": [
    "# try else"
   ]
  },
  {
   "cell_type": "code",
   "execution_count": 7,
   "id": "ec3016b4",
   "metadata": {},
   "outputs": [
    {
     "name": "stdout",
     "output_type": "stream",
     "text": [
      "Enter your age : 0\n",
      "Please enter a valid age\n"
     ]
    }
   ],
   "source": [
    "try:\n",
    "    age = int(input(\"Enter your age : \"))\n",
    "    factor = 10/age\n",
    "except (ValueError, ZeroDivisionError):\n",
    "    print(\"Please enter a valid age\")\n",
    "else:\n",
    "    print(\"No exception were thrown.\")\n",
    "    "
   ]
  },
  {
   "cell_type": "code",
   "execution_count": 9,
   "id": "0ba8ed97",
   "metadata": {},
   "outputs": [
    {
     "name": "stdout",
     "output_type": "stream",
     "text": [
      "Enter your age : aw3\n",
      "Please enter a valid age\n",
      "invalid literal for int() with base 10: 'aw3'\n",
      "<class 'ValueError'>\n"
     ]
    }
   ],
   "source": [
    "try:\n",
    "    age = int(input(\"Enter your age : \"))\n",
    "except ValueError as ex:\n",
    "    print(\"Please enter a valid age\")\n",
    "    print(ex)\n",
    "    print(type(ex))"
   ]
  },
  {
   "cell_type": "code",
   "execution_count": 11,
   "id": "14b4d011",
   "metadata": {
    "scrolled": false
   },
   "outputs": [
    {
     "name": "stdout",
     "output_type": "stream",
     "text": [
      "Enter your age : asdf\n",
      "Please enter a valid age\n"
     ]
    }
   ],
   "source": [
    "try:\n",
    "    file = open('file.txt')\n",
    "    age = int(input(\"Enter your age : \"))\n",
    "    factor = 10/age\n",
    "    \n",
    "except (ValueError, ZeroDivisionError):\n",
    "    print(\"Please enter a valid age\")\n",
    "    \n",
    "else:\n",
    "    print(\"No exception were thrown.\")\n",
    "    \n",
    "finally:\n",
    "    print(\"finally block executed\")\n",
    "    file.close()"
   ]
  },
  {
   "cell_type": "markdown",
   "id": "81d890e8",
   "metadata": {},
   "source": [
    "# Raising Exception"
   ]
  },
  {
   "cell_type": "code",
   "execution_count": 15,
   "id": "e4014c3b",
   "metadata": {},
   "outputs": [
    {
     "name": "stdout",
     "output_type": "stream",
     "text": [
      "Age cannot be negative or zero.\n"
     ]
    }
   ],
   "source": [
    "def cal_fact(age):\n",
    "    if age <= 0:\n",
    "        raise ValueError(\"Age cannot be negative or zero.\")\n",
    "    return 100/age\n",
    "\n",
    "# program will crash if we call the function directly.\n",
    "# cal_fact(-20)\n",
    "\n",
    "\n",
    "try:\n",
    "    cal_fact(-20)\n",
    "except Exception as error:\n",
    "    print(error)"
   ]
  },
  {
   "cell_type": "code",
   "execution_count": null,
   "id": "f705676f",
   "metadata": {},
   "outputs": [],
   "source": []
  },
  {
   "cell_type": "code",
   "execution_count": 1,
   "id": "e53dfca0",
   "metadata": {},
   "outputs": [
    {
     "name": "stdout",
     "output_type": "stream",
     "text": [
      "first code execution time is  0.007899100019130856\n",
      "second code execution time is  0.003645599994342774\n"
     ]
    }
   ],
   "source": [
    "from timeit import timeit\n",
    "\n",
    "code1 ='''def cal_fact(age):\n",
    "    if age <= 0:\n",
    "        raise ValueError(\"Age cannot be negative or zero.\")\n",
    "    return 100/age\n",
    "\n",
    "try:\n",
    "    cal_fact(-20)\n",
    "    \n",
    "except Exception as error:\n",
    "    pass'''\n",
    "\n",
    "code2 ='''def cal_fact(age):\n",
    "    if age <= 0:\n",
    "        None\n",
    "    return 100/age\n",
    "\n",
    "try:\n",
    "    cal_fact(-20)\n",
    "    \n",
    "except Exception as error:\n",
    "    pass'''\n",
    "\n",
    "print(\"first code execution time is \", timeit(code1, number =10000))\n",
    "print(\"second code execution time is \", timeit(code2, number =10000))"
   ]
  },
  {
   "cell_type": "code",
   "execution_count": null,
   "id": "1f90bce7",
   "metadata": {},
   "outputs": [],
   "source": []
  },
  {
   "cell_type": "code",
   "execution_count": null,
   "id": "071216cb",
   "metadata": {},
   "outputs": [],
   "source": []
  },
  {
   "cell_type": "code",
   "execution_count": null,
   "id": "11ec3567",
   "metadata": {},
   "outputs": [],
   "source": []
  },
  {
   "cell_type": "code",
   "execution_count": null,
   "id": "8a890779",
   "metadata": {},
   "outputs": [],
   "source": []
  },
  {
   "cell_type": "code",
   "execution_count": null,
   "id": "9ec773df",
   "metadata": {},
   "outputs": [],
   "source": []
  },
  {
   "cell_type": "code",
   "execution_count": null,
   "id": "b6bc2381",
   "metadata": {},
   "outputs": [],
   "source": []
  },
  {
   "cell_type": "code",
   "execution_count": null,
   "id": "5ed99ca6",
   "metadata": {},
   "outputs": [],
   "source": []
  },
  {
   "cell_type": "code",
   "execution_count": null,
   "id": "66c8a0cb",
   "metadata": {},
   "outputs": [],
   "source": []
  }
 ],
 "metadata": {
  "kernelspec": {
   "display_name": "base",
   "language": "python",
   "name": "python3"
  },
  "language_info": {
   "codemirror_mode": {
    "name": "ipython",
    "version": 3
   },
   "file_extension": ".py",
   "mimetype": "text/x-python",
   "name": "python",
   "nbconvert_exporter": "python",
   "pygments_lexer": "ipython3",
   "version": "3.12.7"
  }
 },
 "nbformat": 4,
 "nbformat_minor": 5
}
