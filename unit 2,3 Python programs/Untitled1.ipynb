{
 "cells": [
  {
   "cell_type": "markdown",
   "id": "cb90ee4b-9c22-4149-8f90-9ed0968dbc22",
   "metadata": {},
   "source": [
    "# Get Variable/three input from the user and which operation has to be performed like 1- Add, 2 - sub,... then perform the operation and print the final output."
   ]
  },
  {
   "cell_type": "code",
   "execution_count": null,
   "id": "91c47070-5905-4697-ae38-03a4574fe0a6",
   "metadata": {},
   "outputs": [],
   "source": [
    "def add(num1,num2):\n",
    "    result = num1+num2\n",
    "    return result \n",
    "def sub(num1,num2):\n",
    "    result = num1-num2\n",
    "    return result\n",
    "def mul(num1,num2):\n",
    "    result = num1*num2\n",
    "    return result\n",
    "def div(num1,num2):\n",
    "    result = num1/num2\n",
    "    return result\n",
    "\n",
    "num1 = int(input(\"Enter your 1st no. : \"))\n",
    "num2 = int(input(\"Enter your 2st no. : \"))\n",
    "\n",
    "\n",
    "ch=0\n",
    "print('''Enter your choice : \n",
    "    1: ADD\n",
    "    2: Substraction\n",
    "    3: Multiplication\n",
    "    4: Division\n",
    "    5: Exit\n",
    "          ''')\n",
    "while(ch!=5):\n",
    "    \n",
    "    ch = int(input(\"My choice : \"))\n",
    "    print(\"\\n\")\n",
    "\n",
    "    if ch==1:\n",
    "        \n",
    "        result = add(num1,num2)\n",
    "        print(\"Addition is : \",result)\n",
    "        num1 = result\n",
    "        num2 = int(input(\"Enter your next no. : \"))\n",
    "    elif ch==2:\n",
    "        \n",
    "        result = sub(num1,num2)\n",
    "        print(\"Substraction is : \",result)\n",
    "        num1 = result\n",
    "        num2 = int(input(\"Enter your next no. : \"))\n",
    "    \n",
    "    elif ch==3:\n",
    "        result = mul(num1,num2)\n",
    "        print(\"Multiplication is : \",result)\n",
    "        num1 = result\n",
    "        num2 = int(input(\"Enter your next no. : \"))\n",
    "    elif ch==4:\n",
    "        result = div(num1,num2)\n",
    "        print(\"Division is : \",result)\n",
    "        num1 = result\n",
    "        num2 = int(input(\"Enter your next no. : \"))"
   ]
  },
  {
   "cell_type": "code",
   "execution_count": 4,
   "id": "cc28a531-b984-484a-9675-e6ac28ee3650",
   "metadata": {},
   "outputs": [],
   "source": []
  },
  {
   "cell_type": "code",
   "execution_count": null,
   "id": "52882d8d-0d42-4d49-9937-4522c61be6a6",
   "metadata": {},
   "outputs": [],
   "source": [
    "# write a guessing game program\n",
    "# # hint - pick number randomly using random module between 1 to 100\n",
    "# give use 5 chance to guess the number.\n",
    "# if user guessed correctly print \"you win\" and terminate using break statement.\n",
    "# if 5 changes over terminate by printing \"you lose\"."
   ]
  },
  {
   "cell_type": "code",
   "execution_count": 8,
   "id": "a9955437-9f47-4a4f-91af-a8336cdac9c4",
   "metadata": {},
   "outputs": [
    {
     "name": "stdin",
     "output_type": "stream",
     "text": [
      "enter a number between 1 to 100 and     guess it 56\n"
     ]
    },
    {
     "name": "stdout",
     "output_type": "stream",
     "text": [
      "you have given too high\n",
      "remaining attemt: 4\n"
     ]
    },
    {
     "name": "stdin",
     "output_type": "stream",
     "text": [
      "enter a number between 1 to 100 and     guess it 30\n"
     ]
    },
    {
     "name": "stdout",
     "output_type": "stream",
     "text": [
      "you have given too high\n",
      "remaining attemt: 3\n"
     ]
    },
    {
     "name": "stdin",
     "output_type": "stream",
     "text": [
      "enter a number between 1 to 100 and     guess it 20\n"
     ]
    },
    {
     "name": "stdout",
     "output_type": "stream",
     "text": [
      "you have given too low\n",
      "remaining attemt: 2\n"
     ]
    },
    {
     "name": "stdin",
     "output_type": "stream",
     "text": [
      "enter a number between 1 to 100 and     guess it 25\n"
     ]
    },
    {
     "name": "stdout",
     "output_type": "stream",
     "text": [
      "you have given too high\n",
      "remaining attemt: 1\n"
     ]
    },
    {
     "name": "stdin",
     "output_type": "stream",
     "text": [
      "enter a number between 1 to 100 and     guess it 23\n"
     ]
    },
    {
     "name": "stdout",
     "output_type": "stream",
     "text": [
      "you have given too low\n",
      "remaining attemt: 0\n",
      "You loss...\n"
     ]
    }
   ],
   "source": [
    "import random\n",
    "\n",
    "secret_num = random.randint(1,100)\n",
    "chance = 5\n",
    "for i in range(1,6):\n",
    "    user_guess = int(input(\"guess the number between 1 to 100\"))\n",
    "    if user_guess == secret_num:\n",
    "        print(\"You have guessed it correctly.\")\n",
    "        break\n",
    "    elif user_guess > secret_num:\n",
    "        print(\"you have given too high\")\n",
    "        print(f\"remaining attemt: {chance-i}\")\n",
    "    elif user_guess < secret_num:\n",
    "        print(\"you have given too low\")\n",
    "        print(f\"remaining attemt: {chance-i}\")\n",
    "else:\n",
    "    print(\"You loss...\")"
   ]
  },
  {
   "cell_type": "code",
   "execution_count": null,
   "id": "98ff59e3-6f4f-4b74-8558-c772c8c11742",
   "metadata": {},
   "outputs": [],
   "source": [
    "# find the divisor of the given numbers. if no print it as prime number"
   ]
  },
  {
   "cell_type": "code",
   "execution_count": null,
   "id": "e34400d3-05a0-4ef8-b731-e6b4d2bf3821",
   "metadata": {},
   "outputs": [],
   "source": []
  },
  {
   "cell_type": "code",
   "execution_count": null,
   "id": "541829fd-24e6-4cdf-bead-ca73f6deee6d",
   "metadata": {},
   "outputs": [],
   "source": [
    "# write a program that takes a number as input and \n",
    "# check:\n",
    "# if the given number is divisible by 5 and not a even number\n",
    "# if it is a even number and not divisible by 5 \n",
    "# if it is a even number and divisible by 5\n",
    "# if it is not a even number and not divisible by 5 "
   ]
  },
  {
   "cell_type": "code",
   "execution_count": null,
   "id": "687a7d99-af1d-4c44-be93-001ca3922430",
   "metadata": {},
   "outputs": [],
   "source": []
  },
  {
   "cell_type": "code",
   "execution_count": null,
   "id": "b33e3555-efd6-4b40-a8fe-28f196ecfe1b",
   "metadata": {},
   "outputs": [],
   "source": [
    "# Write a program to print the no. of occurences of a given character \n",
    "# in a given string (without count)."
   ]
  },
  {
   "cell_type": "code",
   "execution_count": null,
   "id": "935e1fe4-e438-4399-b02b-4ce6da5d9f81",
   "metadata": {},
   "outputs": [],
   "source": []
  },
  {
   "cell_type": "code",
   "execution_count": null,
   "id": "77fd1c28-9227-46b4-9855-ec3acf79f650",
   "metadata": {},
   "outputs": [],
   "source": [
    "# Get a string from user and convert all the upper case \n",
    "# to lower and vice versa using for loop."
   ]
  },
  {
   "cell_type": "code",
   "execution_count": null,
   "id": "940dc878-dafa-4e50-9e20-8e40a2e39dc3",
   "metadata": {},
   "outputs": [],
   "source": []
  },
  {
   "cell_type": "markdown",
   "id": "ba2f6eae-714b-4455-a3e5-f8e9e473f816",
   "metadata": {},
   "source": [
    "### write a program that takes three numbers and \n",
    "### calculate the sum of non-duplicate numbers, \n",
    "### if there are duplicate numbers in the input ignore them.\n",
    "### eg. if input - 2,3,4 output - 9\n",
    "### if input - 3,2,3 output - 2"
   ]
  },
  {
   "cell_type": "code",
   "execution_count": null,
   "id": "69091660-4748-42fb-8bf3-c7fd5e7873db",
   "metadata": {},
   "outputs": [],
   "source": []
  },
  {
   "cell_type": "markdown",
   "id": "26a24096-e186-438a-883a-7cbbb4b13995",
   "metadata": {},
   "source": [
    "### Validate your password\n",
    "### Get password as a input from the user and check\n",
    "### password length should be greater than 8 and less than 16\n",
    "### password should contain Numbers, alphabets and special characters.\n",
    "### else print invalid password and try again."
   ]
  },
  {
   "cell_type": "code",
   "execution_count": null,
   "id": "4a519fbc-f3a0-4d19-8174-1ab6be5f8ed8",
   "metadata": {},
   "outputs": [],
   "source": []
  },
  {
   "cell_type": "code",
   "execution_count": null,
   "id": "f6cfa824-1f4a-49bb-8e74-9f36f1257ee9",
   "metadata": {},
   "outputs": [],
   "source": [
    "# write a fizzbuzz program.\n",
    "# hint - if the number is divisible to 3 print 'Fizz', if divisible by 5 means print 'Buzz'\n",
    "# if divisible by both 3 and 5 means print 'FizzBuzz'.\n",
    "\n",
    "# random password generator program."
   ]
  },
  {
   "cell_type": "code",
   "execution_count": null,
   "id": "2c4843ff-07e5-4fb8-87d6-2ce5410bf621",
   "metadata": {},
   "outputs": [],
   "source": []
  },
  {
   "cell_type": "code",
   "execution_count": null,
   "id": "2466cb21-8ef9-4d7c-ac26-28ba3a108b16",
   "metadata": {},
   "outputs": [],
   "source": []
  },
  {
   "cell_type": "code",
   "execution_count": null,
   "id": "b28a0fa2-8fa7-4f10-80b3-556beb379545",
   "metadata": {},
   "outputs": [],
   "source": []
  }
 ],
 "metadata": {
  "kernelspec": {
   "display_name": "Python [conda env:base] *",
   "language": "python",
   "name": "conda-base-py"
  },
  "language_info": {
   "codemirror_mode": {
    "name": "ipython",
    "version": 3
   },
   "file_extension": ".py",
   "mimetype": "text/x-python",
   "name": "python",
   "nbconvert_exporter": "python",
   "pygments_lexer": "ipython3",
   "version": "3.12.7"
  }
 },
 "nbformat": 4,
 "nbformat_minor": 5
}
