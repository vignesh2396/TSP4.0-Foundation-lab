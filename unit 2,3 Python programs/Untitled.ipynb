{
 "cells": [
  {
   "cell_type": "code",
   "execution_count": null,
   "id": "ca11689e-eac4-4099-8545-b0b724cffc78",
   "metadata": {},
   "outputs": [],
   "source": [
    "input_from_user = eval(input(\"enter some value\"))"
   ]
  },
  {
   "cell_type": "code",
   "execution_count": 24,
   "id": "211fda7d-fc35-4d7f-915d-53909fbbee73",
   "metadata": {},
   "outputs": [
    {
     "data": {
      "text/plain": [
       "'3+5'"
      ]
     },
     "execution_count": 24,
     "metadata": {},
     "output_type": "execute_result"
    }
   ],
   "source": [
    "\"3+5\""
   ]
  },
  {
   "cell_type": "code",
   "execution_count": 26,
   "id": "2d1ec793-6d24-4757-b5e3-f43b04e647d7",
   "metadata": {},
   "outputs": [
    {
     "data": {
      "text/plain": [
       "8"
      ]
     },
     "execution_count": 26,
     "metadata": {},
     "output_type": "execute_result"
    }
   ],
   "source": [
    "eval(\"3+5\")"
   ]
  },
  {
   "cell_type": "code",
   "execution_count": null,
   "id": "3abb7848-b73e-4d0f-a703-499369013104",
   "metadata": {},
   "outputs": [],
   "source": [
    "password = input(\"enter a password\")\n",
    "#asdf12345%\n",
    "spec_char = \"@#$%&\"\n",
    "\n",
    "if 8<password<16:\n",
    "    if password.isalpha() or password.isnumeric():\n",
    "        print(\"your password should have both number and alphabets\")\n",
    "    elif password.isalnum():\n",
    "        print(\"your password doesn't contain special character\")\n",
    "    elif any(passw in spec_char for passw in password):\n",
    "        print(\"Valid password\")\n",
    "    else:\n",
    "        print(\"Invalid password... Try again!\")\n",
    "        \n",
    "else:\n",
    "    print(\"Password should have minimum 8 characters\")\n"
   ]
  },
  {
   "cell_type": "code",
   "execution_count": 49,
   "id": "5a10404e-7510-4274-bf5d-8cf89237de4b",
   "metadata": {},
   "outputs": [
    {
     "name": "stdout",
     "output_type": "stream",
     "text": [
      "Tail\n",
      "Head\n",
      "Head\n",
      "Head\n",
      "Tail\n",
      "Head\n",
      "Tail\n",
      "Head\n",
      "Head\n",
      "Tail\n"
     ]
    }
   ],
   "source": [
    "import random\n",
    "\n",
    "# if toss==1:\n",
    "#     print(\"Tail\")\n",
    "# else:\n",
    "#     print(\"Head\")\n",
    "\n",
    "\n",
    "# <true_statement> if <condition> else <false_statement>\n",
    "for _ in range(10):\n",
    "    toss = random.randint(0,1)\n",
    "    result = \"Tail\" if toss else \"Head\"\n",
    "    print(result)"
   ]
  },
  {
   "cell_type": "code",
   "execution_count": null,
   "id": "650e4876-de21-41fe-92da-cc97193688fc",
   "metadata": {},
   "outputs": [],
   "source": [
    "# Find the sum of all even number from 1 to 100.\n",
    "\n",
    "# method 1\n",
    "total=0\n",
    "# for i in range(2,101):\n",
    "#     if i%2==0:\n",
    "#         total += i\n",
    "\n",
    "for i in range(2,101,2):\n",
    "    total += i\n",
    "print(total)\n",
    "\n",
    "print(sum())\n",
    "\n"
   ]
  },
  {
   "cell_type": "code",
   "execution_count": 55,
   "id": "a8e13785-3106-4394-81b7-e570d64a8d47",
   "metadata": {},
   "outputs": [
    {
     "name": "stdout",
     "output_type": "stream",
     "text": [
      "2550\n"
     ]
    }
   ],
   "source": [
    "print(sum(list(range(2,101,2))))"
   ]
  },
  {
   "cell_type": "code",
   "execution_count": null,
   "id": "6c447dd2-7833-4560-8eb3-01f77dac5365",
   "metadata": {},
   "outputs": [],
   "source": [
    "# Get a string from user and convert all the upper case \n",
    "# to lower and vice versa using for loop.\n",
    "user_input = input(\"enter a string: \")\n",
    "new_word = \"\"\n",
    "\n",
    "for i in range(len(user_input)):\n",
    "    if user_input[i].isupper():\n",
    "        new_word += user_input[i].lower()\n",
    "    elif user_input[i].islower():\n",
    "        new_word += user_input[i].upper()\n",
    "    else:\n",
    "        new_word += user_input[i]\n",
    "print(new_word)\n"
   ]
  },
  {
   "cell_type": "code",
   "execution_count": 61,
   "id": "34e4f140-990c-4658-8a21-92516994dccd",
   "metadata": {},
   "outputs": [
    {
     "name": "stdin",
     "output_type": "stream",
     "text": [
      "enter a sentence:  Write a program to print the\n",
      "type of character you want to count:  o\n"
     ]
    },
    {
     "name": "stdout",
     "output_type": "stream",
     "text": [
      "No of occurance of the o is 2\n"
     ]
    }
   ],
   "source": [
    "# Write a program to print the no. of occurrences of a given character \n",
    "# in a given string(without count).\n",
    "\n",
    "sentence = input(\"enter a sentence: \")\n",
    "char = input(\"type of character you want to count: \")\n",
    "\n",
    "print(f\"No of occurance of the {char} is \\\n",
    "{sum(1 for ch in sentence if ch == char)}\")"
   ]
  },
  {
   "cell_type": "code",
   "execution_count": 63,
   "id": "830a00f0-77b7-4b53-bb1e-1a713a6c6667",
   "metadata": {},
   "outputs": [
    {
     "name": "stdout",
     "output_type": "stream",
     "text": [
      "1\n",
      "2\n",
      "Fizz\n",
      "4\n",
      "Buzz\n",
      "Fizz\n",
      "7\n",
      "8\n",
      "Fizz\n",
      "Buzz\n",
      "11\n",
      "Fizz\n",
      "13\n",
      "14\n",
      "FizzBuzz\n",
      "16\n",
      "17\n",
      "Fizz\n",
      "19\n",
      "Buzz\n",
      "Fizz\n",
      "22\n",
      "23\n",
      "Fizz\n",
      "Buzz\n",
      "26\n",
      "Fizz\n",
      "28\n",
      "29\n",
      "FizzBuzz\n",
      "31\n",
      "32\n",
      "Fizz\n",
      "34\n",
      "Buzz\n",
      "Fizz\n",
      "37\n",
      "38\n",
      "Fizz\n",
      "Buzz\n",
      "41\n",
      "Fizz\n",
      "43\n",
      "44\n",
      "FizzBuzz\n",
      "46\n",
      "47\n",
      "Fizz\n",
      "49\n"
     ]
    }
   ],
   "source": [
    "# write a fizzbuzz program.\n",
    "# hint - if the number is divisible to 3 print 'Fizz', \n",
    "# if divisible by 5 means print 'Buzz'\n",
    "# if divisible by both 3 and 5 means print 'FizzBuzz'.\n",
    "\n",
    "for i in range(1,50):\n",
    "    if i%3==0 and i%5==0:\n",
    "        print(\"FizzBuzz\")\n",
    "    elif i%3==0:\n",
    "        print(\"Fizz\")\n",
    "    elif i%5==0:\n",
    "        print(\"Buzz\")\n",
    "    else:\n",
    "        print(i)"
   ]
  },
  {
   "cell_type": "code",
   "execution_count": null,
   "id": "10e98226-0ad3-4b08-9c40-897dbae22669",
   "metadata": {},
   "outputs": [],
   "source": []
  },
  {
   "cell_type": "code",
   "execution_count": null,
   "id": "550dac23-22d3-4405-9e24-7ac284f2802e",
   "metadata": {},
   "outputs": [],
   "source": []
  },
  {
   "cell_type": "code",
   "execution_count": null,
   "id": "8d96a9bb-aa53-4c49-9fe2-fb91d254e104",
   "metadata": {},
   "outputs": [],
   "source": []
  },
  {
   "cell_type": "code",
   "execution_count": null,
   "id": "7678f5d5-56cb-419a-bef1-b5519e8bd244",
   "metadata": {},
   "outputs": [],
   "source": []
  },
  {
   "cell_type": "code",
   "execution_count": null,
   "id": "c5ab8fcc-43a8-4f27-afdf-9c72d294f0db",
   "metadata": {},
   "outputs": [],
   "source": []
  },
  {
   "cell_type": "code",
   "execution_count": null,
   "id": "6a8fc608-4538-45cc-997e-f88509b89c47",
   "metadata": {},
   "outputs": [],
   "source": []
  },
  {
   "cell_type": "code",
   "execution_count": null,
   "id": "22d10b08-50cf-46f3-b88f-cc36627bea39",
   "metadata": {},
   "outputs": [],
   "source": []
  }
 ],
 "metadata": {
  "kernelspec": {
   "display_name": "Python [conda env:base] *",
   "language": "python",
   "name": "conda-base-py"
  },
  "language_info": {
   "codemirror_mode": {
    "name": "ipython",
    "version": 3
   },
   "file_extension": ".py",
   "mimetype": "text/x-python",
   "name": "python",
   "nbconvert_exporter": "python",
   "pygments_lexer": "ipython3",
   "version": "3.12.7"
  }
 },
 "nbformat": 4,
 "nbformat_minor": 5
}
