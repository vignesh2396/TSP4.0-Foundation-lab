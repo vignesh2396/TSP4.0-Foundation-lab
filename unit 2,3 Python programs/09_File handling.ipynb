{
 "cells": [
  {
   "cell_type": "markdown",
   "id": "68934d26",
   "metadata": {},
   "source": [
    "# File Handling"
   ]
  },
  {
   "cell_type": "markdown",
   "id": "740bd7b1",
   "metadata": {},
   "source": [
    "__Types of file format__\n",
    "\n",
    "* binary file\n",
    "* text file"
   ]
  },
  {
   "cell_type": "code",
   "execution_count": null,
   "id": "59020d56",
   "metadata": {},
   "outputs": [],
   "source": [
    "# syntax - open(<filename.txt/path>, <access mode>)"
   ]
  },
  {
   "cell_type": "code",
   "execution_count": null,
   "id": "fd07def0",
   "metadata": {},
   "outputs": [],
   "source": [
    "# example - open('file.txt','r')\n",
    "\n",
    "### Access modes\n",
    "# r - reading from a file\n",
    "# w - write into a file. creates the file if it does not exist.\n",
    "# a - append to the file. if the file does not exist it will create the file.\n",
    "# x - create a file. if file exist already it will throw error\n",
    "# r+ - open for read and write\n",
    "# rb - read a binary file\n",
    "# wb - write mode for a binary file"
   ]
  },
  {
   "cell_type": "code",
   "execution_count": 20,
   "id": "66adae6c",
   "metadata": {},
   "outputs": [],
   "source": [
    "myfile = open('file1.txt','r')\n"
   ]
  },
  {
   "cell_type": "code",
   "execution_count": 7,
   "id": "1836b83c",
   "metadata": {},
   "outputs": [
    {
     "data": {
      "text/plain": [
       "_io.TextIOWrapper"
      ]
     },
     "execution_count": 7,
     "metadata": {},
     "output_type": "execute_result"
    }
   ],
   "source": [
    "type(myfile)"
   ]
  },
  {
   "cell_type": "code",
   "execution_count": null,
   "id": "a305ef57",
   "metadata": {},
   "outputs": [],
   "source": [
    "# read() - if passing argument it indicates the number of bytes\n",
    "# readline() - \n",
    "# readlines() - "
   ]
  },
  {
   "cell_type": "code",
   "execution_count": 8,
   "id": "687afffb",
   "metadata": {},
   "outputs": [
    {
     "data": {
      "text/plain": [
       "'Hi,\\nW'"
      ]
     },
     "execution_count": 8,
     "metadata": {},
     "output_type": "execute_result"
    }
   ],
   "source": [
    "myfile.read(5)"
   ]
  },
  {
   "cell_type": "code",
   "execution_count": 9,
   "id": "bffeb962",
   "metadata": {},
   "outputs": [
    {
     "data": {
      "text/plain": [
       "'elcom'"
      ]
     },
     "execution_count": 9,
     "metadata": {},
     "output_type": "execute_result"
    }
   ],
   "source": [
    "myfile.read(5)"
   ]
  },
  {
   "cell_type": "code",
   "execution_count": 10,
   "id": "98a6a482",
   "metadata": {},
   "outputs": [
    {
     "data": {
      "text/plain": [
       "'e to Nielit Chennai\\n'"
      ]
     },
     "execution_count": 10,
     "metadata": {},
     "output_type": "execute_result"
    }
   ],
   "source": [
    "myfile.readline()"
   ]
  },
  {
   "cell_type": "code",
   "execution_count": 11,
   "id": "f7904cd0",
   "metadata": {},
   "outputs": [
    {
     "data": {
      "text/plain": [
       "'Thankyou all\\n'"
      ]
     },
     "execution_count": 11,
     "metadata": {},
     "output_type": "execute_result"
    }
   ],
   "source": [
    "myfile.read()"
   ]
  },
  {
   "cell_type": "code",
   "execution_count": 12,
   "id": "381a8837",
   "metadata": {},
   "outputs": [
    {
     "data": {
      "text/plain": [
       "''"
      ]
     },
     "execution_count": 12,
     "metadata": {},
     "output_type": "execute_result"
    }
   ],
   "source": [
    "myfile.read()"
   ]
  },
  {
   "cell_type": "code",
   "execution_count": 13,
   "id": "65a8714d",
   "metadata": {},
   "outputs": [
    {
     "data": {
      "text/plain": [
       "''"
      ]
     },
     "execution_count": 13,
     "metadata": {},
     "output_type": "execute_result"
    }
   ],
   "source": [
    "myfile.read()"
   ]
  },
  {
   "cell_type": "code",
   "execution_count": null,
   "id": "aa6d91be",
   "metadata": {},
   "outputs": [],
   "source": [
    "# seek()"
   ]
  },
  {
   "cell_type": "code",
   "execution_count": 14,
   "id": "45890eb9",
   "metadata": {},
   "outputs": [
    {
     "data": {
      "text/plain": [
       "0"
      ]
     },
     "execution_count": 14,
     "metadata": {},
     "output_type": "execute_result"
    }
   ],
   "source": [
    "myfile.seek(0)"
   ]
  },
  {
   "cell_type": "code",
   "execution_count": 15,
   "id": "5a04019b",
   "metadata": {},
   "outputs": [
    {
     "data": {
      "text/plain": [
       "'Hi,\\nW'"
      ]
     },
     "execution_count": 15,
     "metadata": {},
     "output_type": "execute_result"
    }
   ],
   "source": [
    "myfile.read(5)"
   ]
  },
  {
   "cell_type": "code",
   "execution_count": 16,
   "id": "ef879255",
   "metadata": {},
   "outputs": [
    {
     "data": {
      "text/plain": [
       "10"
      ]
     },
     "execution_count": 16,
     "metadata": {},
     "output_type": "execute_result"
    }
   ],
   "source": [
    "myfile.seek(10)"
   ]
  },
  {
   "cell_type": "code",
   "execution_count": 17,
   "id": "0a946ee0",
   "metadata": {},
   "outputs": [
    {
     "data": {
      "text/plain": [
       "'e to '"
      ]
     },
     "execution_count": 17,
     "metadata": {},
     "output_type": "execute_result"
    }
   ],
   "source": [
    "myfile.read(5)"
   ]
  },
  {
   "cell_type": "code",
   "execution_count": 18,
   "id": "317602ac",
   "metadata": {},
   "outputs": [
    {
     "data": {
      "text/plain": [
       "15"
      ]
     },
     "execution_count": 18,
     "metadata": {},
     "output_type": "execute_result"
    }
   ],
   "source": [
    "myfile.tell()"
   ]
  },
  {
   "cell_type": "code",
   "execution_count": 23,
   "id": "73a8ad48",
   "metadata": {},
   "outputs": [],
   "source": [
    "myfile.close()"
   ]
  },
  {
   "cell_type": "code",
   "execution_count": null,
   "id": "b7bc3f22",
   "metadata": {},
   "outputs": [],
   "source": [
    "myfile = open('file1.txt','r')"
   ]
  },
  {
   "cell_type": "code",
   "execution_count": 21,
   "id": "3ed6699b",
   "metadata": {},
   "outputs": [
    {
     "data": {
      "text/plain": [
       "'r'"
      ]
     },
     "execution_count": 21,
     "metadata": {},
     "output_type": "execute_result"
    }
   ],
   "source": [
    "myfile.mode"
   ]
  },
  {
   "cell_type": "code",
   "execution_count": 24,
   "id": "fbf76719",
   "metadata": {},
   "outputs": [
    {
     "data": {
      "text/plain": [
       "True"
      ]
     },
     "execution_count": 24,
     "metadata": {},
     "output_type": "execute_result"
    }
   ],
   "source": [
    "myfile.closed"
   ]
  },
  {
   "cell_type": "code",
   "execution_count": 25,
   "id": "fb12b94c",
   "metadata": {},
   "outputs": [
    {
     "ename": "ValueError",
     "evalue": "I/O operation on closed file.",
     "output_type": "error",
     "traceback": [
      "\u001b[0;31m---------------------------------------------------------------------------\u001b[0m",
      "\u001b[0;31mValueError\u001b[0m                                Traceback (most recent call last)",
      "Input \u001b[0;32mIn [25]\u001b[0m, in \u001b[0;36m<cell line: 1>\u001b[0;34m()\u001b[0m\n\u001b[0;32m----> 1\u001b[0m \u001b[43mmyfile\u001b[49m\u001b[38;5;241;43m.\u001b[39;49m\u001b[43mread\u001b[49m\u001b[43m(\u001b[49m\u001b[43m)\u001b[49m\n",
      "\u001b[0;31mValueError\u001b[0m: I/O operation on closed file."
     ]
    }
   ],
   "source": [
    "myfile.read()"
   ]
  },
  {
   "cell_type": "code",
   "execution_count": 32,
   "id": "6ff5a970",
   "metadata": {},
   "outputs": [],
   "source": [
    "myfile = open('file1.txt','r')"
   ]
  },
  {
   "cell_type": "code",
   "execution_count": 33,
   "id": "45230e5c",
   "metadata": {},
   "outputs": [],
   "source": [
    "content = myfile.readlines()[]"
   ]
  },
  {
   "cell_type": "code",
   "execution_count": 34,
   "id": "e786f70e",
   "metadata": {},
   "outputs": [
    {
     "name": "stdout",
     "output_type": "stream",
     "text": [
      "['Hi,\\n', 'Welcome to Nielit Chennai\\n', 'Thankyou all\\n']\n"
     ]
    }
   ],
   "source": [
    "print(content)"
   ]
  },
  {
   "cell_type": "code",
   "execution_count": 35,
   "id": "baf64b2e",
   "metadata": {},
   "outputs": [
    {
     "name": "stdout",
     "output_type": "stream",
     "text": [
      "Hi,\n",
      "\n",
      "Welcome to Nielit Chennai\n",
      "\n",
      "Thankyou all\n",
      "\n"
     ]
    }
   ],
   "source": [
    "for line in content:\n",
    "    print(line)"
   ]
  },
  {
   "cell_type": "code",
   "execution_count": 37,
   "id": "ddf92ae1",
   "metadata": {},
   "outputs": [],
   "source": [
    "# write method\n",
    "\n",
    "# write(), writelines(<list>)\n",
    "\n",
    "file1 = open('write.txt','w')\n",
    "file1.write('hello all\\n')\n",
    "file1.write('new line')\n",
    "file1.close()"
   ]
  },
  {
   "cell_type": "code",
   "execution_count": 39,
   "id": "154afe0a",
   "metadata": {},
   "outputs": [],
   "source": [
    "file2 = open('file1.txt','w')\n",
    "file2.write(\"new content\")\n",
    "file2.close()"
   ]
  },
  {
   "cell_type": "code",
   "execution_count": 41,
   "id": "bc3fc5c8",
   "metadata": {},
   "outputs": [],
   "source": [
    "list_of_sent = ['first\\n','second\\n','third\\n']\n",
    "file2 = open('file1.txt','w')\n",
    "file2.writelines(list_of_sent)\n",
    "file2.close()"
   ]
  },
  {
   "cell_type": "code",
   "execution_count": null,
   "id": "e2827884",
   "metadata": {},
   "outputs": [],
   "source": [
    "# append mode"
   ]
  },
  {
   "cell_type": "code",
   "execution_count": 44,
   "id": "a1bb2593",
   "metadata": {},
   "outputs": [
    {
     "name": "stdout",
     "output_type": "stream",
     "text": [
      "Enter the name : s4\n",
      "Enter the name : s5\n",
      "Enter the name : s6\n"
     ]
    }
   ],
   "source": [
    "file = open('file1.txt', 'a')\n",
    "for i in range(3):\n",
    "    name = input(\"Enter the name : \")\n",
    "    \n",
    "    file.write(name + '\\n')\n",
    "\n"
   ]
  },
  {
   "cell_type": "code",
   "execution_count": 43,
   "id": "41adeaf3",
   "metadata": {},
   "outputs": [],
   "source": [
    "with open('file1.txt', 'a') as file:\n",
    "    file.write(\"using with method\")\n",
    "    "
   ]
  },
  {
   "cell_type": "code",
   "execution_count": 45,
   "id": "edd6740c",
   "metadata": {},
   "outputs": [],
   "source": [
    "file.close()"
   ]
  },
  {
   "cell_type": "code",
   "execution_count": null,
   "id": "37b6d313",
   "metadata": {},
   "outputs": [],
   "source": []
  }
 ],
 "metadata": {
  "kernelspec": {
   "display_name": "Python [conda env:base] *",
   "language": "python",
   "name": "conda-base-py"
  },
  "language_info": {
   "codemirror_mode": {
    "name": "ipython",
    "version": 3
   },
   "file_extension": ".py",
   "mimetype": "text/x-python",
   "name": "python",
   "nbconvert_exporter": "python",
   "pygments_lexer": "ipython3",
   "version": "3.12.7"
  }
 },
 "nbformat": 4,
 "nbformat_minor": 5
}
