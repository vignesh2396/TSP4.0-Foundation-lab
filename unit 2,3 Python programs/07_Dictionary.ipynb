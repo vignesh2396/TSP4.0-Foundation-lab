{
 "cells": [
  {
   "cell_type": "markdown",
   "id": "548f8263",
   "metadata": {},
   "source": [
    "# Dictionary"
   ]
  },
  {
   "cell_type": "code",
   "execution_count": 1,
   "id": "70fa18ba",
   "metadata": {},
   "outputs": [],
   "source": [
    "empty_dict1 = {}\n",
    "empty_dict2 = dict()"
   ]
  },
  {
   "cell_type": "code",
   "execution_count": 3,
   "id": "ecdd978d",
   "metadata": {},
   "outputs": [],
   "source": [
    "emp_info = {1:'one', \n",
    "            'name':'Vignesh', \n",
    "            'age':30}"
   ]
  },
  {
   "cell_type": "markdown",
   "id": "06b7788c",
   "metadata": {},
   "source": [
    "## Accessing using key"
   ]
  },
  {
   "cell_type": "code",
   "execution_count": 5,
   "id": "412c3230",
   "metadata": {},
   "outputs": [
    {
     "data": {
      "text/plain": [
       "'Vignesh'"
      ]
     },
     "execution_count": 5,
     "metadata": {},
     "output_type": "execute_result"
    }
   ],
   "source": [
    "emp_info['name']"
   ]
  },
  {
   "cell_type": "markdown",
   "id": "c196f362",
   "metadata": {},
   "source": [
    "## added new value in the existing dict"
   ]
  },
  {
   "cell_type": "code",
   "execution_count": 7,
   "id": "b0ebd389",
   "metadata": {},
   "outputs": [],
   "source": [
    "emp_info['address'] = 'Chennai'"
   ]
  },
  {
   "cell_type": "code",
   "execution_count": 9,
   "id": "bbbecb94",
   "metadata": {},
   "outputs": [
    {
     "data": {
      "text/plain": [
       "{1: 'one', 'name': 'Vignesh', 'age': 30, 'address': 'Chennai'}"
      ]
     },
     "execution_count": 9,
     "metadata": {},
     "output_type": "execute_result"
    }
   ],
   "source": [
    "emp_info"
   ]
  },
  {
   "cell_type": "markdown",
   "id": "613c75c4",
   "metadata": {},
   "source": [
    "## updated/modified the existing value"
   ]
  },
  {
   "cell_type": "code",
   "execution_count": 11,
   "id": "3fd656ca",
   "metadata": {},
   "outputs": [],
   "source": [
    "emp_info['address'] = 'Porur, Chennai'"
   ]
  },
  {
   "cell_type": "code",
   "execution_count": 13,
   "id": "dd095e86",
   "metadata": {},
   "outputs": [
    {
     "data": {
      "text/plain": [
       "{1: 'one', 'name': 'Vignesh', 'age': 30, 'address': 'Porur, Chennai'}"
      ]
     },
     "execution_count": 13,
     "metadata": {},
     "output_type": "execute_result"
    }
   ],
   "source": [
    "emp_info"
   ]
  },
  {
   "cell_type": "code",
   "execution_count": 15,
   "id": "d486d41f",
   "metadata": {
    "scrolled": true
   },
   "outputs": [
    {
     "ename": "KeyError",
     "evalue": "'rollno'",
     "output_type": "error",
     "traceback": [
      "\u001b[1;31m---------------------------------------------------------------------------\u001b[0m",
      "\u001b[1;31mKeyError\u001b[0m                                  Traceback (most recent call last)",
      "Cell \u001b[1;32mIn[15], line 1\u001b[0m\n\u001b[1;32m----> 1\u001b[0m emp_info[\u001b[38;5;124m'\u001b[39m\u001b[38;5;124mrollno\u001b[39m\u001b[38;5;124m'\u001b[39m]\n",
      "\u001b[1;31mKeyError\u001b[0m: 'rollno'"
     ]
    }
   ],
   "source": [
    "emp_info['rollno']"
   ]
  },
  {
   "cell_type": "markdown",
   "id": "60cfb00a",
   "metadata": {},
   "source": [
    "## nested dictionary"
   ]
  },
  {
   "cell_type": "code",
   "execution_count": 17,
   "id": "407f684c",
   "metadata": {},
   "outputs": [],
   "source": [
    "stud_det = {'stud1':{'age':25,'rollno':1000},\n",
    "           'stud2':{'age':26,'rollno':1010}}"
   ]
  },
  {
   "cell_type": "code",
   "execution_count": 19,
   "id": "478e5e9d",
   "metadata": {},
   "outputs": [
    {
     "data": {
      "text/plain": [
       "25"
      ]
     },
     "execution_count": 19,
     "metadata": {},
     "output_type": "execute_result"
    }
   ],
   "source": [
    "stud_det['stud1']['age']"
   ]
  },
  {
   "cell_type": "markdown",
   "id": "29635387",
   "metadata": {},
   "source": [
    "# To delete a value"
   ]
  },
  {
   "cell_type": "code",
   "execution_count": null,
   "id": "bd18f2c0",
   "metadata": {},
   "outputs": [],
   "source": [
    "# del pop() and popitem()"
   ]
  },
  {
   "cell_type": "code",
   "execution_count": null,
   "id": "acc923b4",
   "metadata": {},
   "outputs": [],
   "source": [
    "del stud_det['stud2']"
   ]
  },
  {
   "cell_type": "code",
   "execution_count": 21,
   "id": "7081ca8d",
   "metadata": {},
   "outputs": [
    {
     "data": {
      "text/plain": [
       "'Porur, Chennai'"
      ]
     },
     "execution_count": 21,
     "metadata": {},
     "output_type": "execute_result"
    }
   ],
   "source": [
    "emp_info.pop('address')"
   ]
  },
  {
   "cell_type": "code",
   "execution_count": 23,
   "id": "341c2b1e",
   "metadata": {},
   "outputs": [
    {
     "data": {
      "text/plain": [
       "{1: 'one', 'name': 'Vignesh', 'age': 30}"
      ]
     },
     "execution_count": 23,
     "metadata": {},
     "output_type": "execute_result"
    }
   ],
   "source": [
    "emp_info"
   ]
  },
  {
   "cell_type": "code",
   "execution_count": 25,
   "id": "d228e090",
   "metadata": {
    "jupyter": {
     "source_hidden": true
    }
   },
   "outputs": [
    {
     "data": {
      "text/plain": [
       "('age', 30)"
      ]
     },
     "execution_count": 25,
     "metadata": {},
     "output_type": "execute_result"
    }
   ],
   "source": [
    "emp_info.popitem()"
   ]
  },
  {
   "cell_type": "code",
   "execution_count": 27,
   "id": "1f0f8c2f-c9ea-446b-8a15-33062a25226f",
   "metadata": {},
   "outputs": [
    {
     "data": {
      "text/plain": [
       "{1: 'one', 'name': 'Vignesh'}"
      ]
     },
     "execution_count": 27,
     "metadata": {},
     "output_type": "execute_result"
    }
   ],
   "source": [
    "emp_info"
   ]
  },
  {
   "cell_type": "markdown",
   "id": "7e9679c5",
   "metadata": {},
   "source": [
    "## to check whether a key is existing or not"
   ]
  },
  {
   "cell_type": "code",
   "execution_count": 29,
   "id": "881ec898",
   "metadata": {},
   "outputs": [
    {
     "data": {
      "text/plain": [
       "False"
      ]
     },
     "execution_count": 29,
     "metadata": {},
     "output_type": "execute_result"
    }
   ],
   "source": [
    "'age' in emp_info"
   ]
  },
  {
   "cell_type": "code",
   "execution_count": 31,
   "id": "e146c1a8",
   "metadata": {},
   "outputs": [
    {
     "data": {
      "text/plain": [
       "True"
      ]
     },
     "execution_count": 31,
     "metadata": {},
     "output_type": "execute_result"
    }
   ],
   "source": [
    "'name' in emp_info"
   ]
  },
  {
   "cell_type": "code",
   "execution_count": 33,
   "id": "8346427b",
   "metadata": {},
   "outputs": [
    {
     "name": "stdout",
     "output_type": "stream",
     "text": [
      "1\n",
      "name\n"
     ]
    }
   ],
   "source": [
    "for i in emp_info:\n",
    "    print(i)"
   ]
  },
  {
   "cell_type": "code",
   "execution_count": 35,
   "id": "f0e07d01",
   "metadata": {},
   "outputs": [
    {
     "data": {
      "text/plain": [
       "dict_keys([1, 'name'])"
      ]
     },
     "execution_count": 35,
     "metadata": {},
     "output_type": "execute_result"
    }
   ],
   "source": [
    "emp_info.keys()"
   ]
  },
  {
   "cell_type": "code",
   "execution_count": 37,
   "id": "19555ee5",
   "metadata": {},
   "outputs": [
    {
     "data": {
      "text/plain": [
       "dict_values(['one', 'Vignesh'])"
      ]
     },
     "execution_count": 37,
     "metadata": {},
     "output_type": "execute_result"
    }
   ],
   "source": [
    "emp_info.values()"
   ]
  },
  {
   "cell_type": "code",
   "execution_count": 39,
   "id": "52a3c043",
   "metadata": {},
   "outputs": [
    {
     "data": {
      "text/plain": [
       "'Vignesh'"
      ]
     },
     "execution_count": 39,
     "metadata": {},
     "output_type": "execute_result"
    }
   ],
   "source": [
    "emp_info.get('name')"
   ]
  },
  {
   "cell_type": "code",
   "execution_count": 41,
   "id": "7f855d55",
   "metadata": {},
   "outputs": [],
   "source": [
    "emp_info.get('new')"
   ]
  },
  {
   "cell_type": "code",
   "execution_count": 43,
   "id": "4cae3f75",
   "metadata": {},
   "outputs": [
    {
     "data": {
      "text/plain": [
       "dict_items([(1, 'one'), ('name', 'Vignesh')])"
      ]
     },
     "execution_count": 43,
     "metadata": {},
     "output_type": "execute_result"
    }
   ],
   "source": [
    "emp_info.items()"
   ]
  },
  {
   "cell_type": "code",
   "execution_count": 45,
   "id": "21ee6fea",
   "metadata": {},
   "outputs": [
    {
     "name": "stdout",
     "output_type": "stream",
     "text": [
      "1 : one\n",
      "name : Vignesh\n"
     ]
    }
   ],
   "source": [
    "for key,value in emp_info.items():\n",
    "    print(key, ':', value)"
   ]
  },
  {
   "cell_type": "code",
   "execution_count": 47,
   "id": "bafd93ea",
   "metadata": {},
   "outputs": [],
   "source": [
    "new_dict = dict.fromkeys([2,4,6,8],\"common value\")"
   ]
  },
  {
   "cell_type": "code",
   "execution_count": 49,
   "id": "5610890a",
   "metadata": {
    "jupyter": {
     "source_hidden": true
    }
   },
   "outputs": [
    {
     "data": {
      "text/plain": [
       "{2: 'common value', 4: 'common value', 6: 'common value', 8: 'common value'}"
      ]
     },
     "execution_count": 49,
     "metadata": {},
     "output_type": "execute_result"
    }
   ],
   "source": [
    "new_dict"
   ]
  },
  {
   "cell_type": "code",
   "execution_count": 51,
   "id": "5aff2533-7bb3-4706-a962-1bd4211320f0",
   "metadata": {},
   "outputs": [],
   "source": [
    "new_dict[2] = \"updated\""
   ]
  },
  {
   "cell_type": "code",
   "execution_count": 53,
   "id": "cbd94cd2-2058-4681-b8cc-21bb9cf1aa6c",
   "metadata": {},
   "outputs": [
    {
     "data": {
      "text/plain": [
       "{2: 'updated', 4: 'common value', 6: 'common value', 8: 'common value'}"
      ]
     },
     "execution_count": 53,
     "metadata": {},
     "output_type": "execute_result"
    }
   ],
   "source": [
    "new_dict"
   ]
  },
  {
   "cell_type": "code",
   "execution_count": 55,
   "id": "a92aeb96",
   "metadata": {},
   "outputs": [],
   "source": [
    "new_dict = dict.fromkeys((2,4,6,8),(1,2,3))"
   ]
  },
  {
   "cell_type": "code",
   "execution_count": 57,
   "id": "2e5e56d4",
   "metadata": {
    "collapsed": true,
    "jupyter": {
     "outputs_hidden": true
    }
   },
   "outputs": [
    {
     "data": {
      "text/plain": [
       "{2: (1, 2, 3), 4: (1, 2, 3), 6: (1, 2, 3), 8: (1, 2, 3)}"
      ]
     },
     "execution_count": 57,
     "metadata": {},
     "output_type": "execute_result"
    }
   ],
   "source": [
    "new_dict"
   ]
  },
  {
   "cell_type": "code",
   "execution_count": 59,
   "id": "2ed87e61-e870-43b2-8beb-844c87f85e0a",
   "metadata": {},
   "outputs": [
    {
     "data": {
      "text/plain": [
       "{1: 'one', 'name': 'Vignesh'}"
      ]
     },
     "execution_count": 59,
     "metadata": {},
     "output_type": "execute_result"
    }
   ],
   "source": [
    "emp_info"
   ]
  },
  {
   "cell_type": "code",
   "execution_count": 61,
   "id": "3728ff79",
   "metadata": {},
   "outputs": [],
   "source": [
    "# update, setdefault()\n",
    "\n",
    "emp_info.update({'addr':'Chennai', 'mobile':98765_43357})"
   ]
  },
  {
   "cell_type": "code",
   "execution_count": 63,
   "id": "233a557e",
   "metadata": {
    "scrolled": true
   },
   "outputs": [
    {
     "data": {
      "text/plain": [
       "{1: 'one', 'name': 'Vignesh', 'addr': 'Chennai', 'mobile': 9876543357}"
      ]
     },
     "execution_count": 63,
     "metadata": {},
     "output_type": "execute_result"
    }
   ],
   "source": [
    "emp_info"
   ]
  },
  {
   "cell_type": "code",
   "execution_count": 65,
   "id": "72703f4a",
   "metadata": {},
   "outputs": [
    {
     "data": {
      "text/plain": [
       "30"
      ]
     },
     "execution_count": 65,
     "metadata": {},
     "output_type": "execute_result"
    }
   ],
   "source": [
    "emp_info.setdefault('age',30)"
   ]
  },
  {
   "cell_type": "code",
   "execution_count": 67,
   "id": "0757ab25",
   "metadata": {
    "collapsed": true,
    "jupyter": {
     "outputs_hidden": true
    }
   },
   "outputs": [
    {
     "data": {
      "text/plain": [
       "{1: 'one',\n",
       " 'name': 'Vignesh',\n",
       " 'addr': 'Chennai',\n",
       " 'mobile': 9876543357,\n",
       " 'age': 30}"
      ]
     },
     "execution_count": 67,
     "metadata": {},
     "output_type": "execute_result"
    }
   ],
   "source": [
    "emp_info"
   ]
  },
  {
   "cell_type": "code",
   "execution_count": 69,
   "id": "ac66119f-bf37-4064-b450-f0f4e0bea3ef",
   "metadata": {},
   "outputs": [
    {
     "ename": "ValueError",
     "evalue": "dictionary update sequence element #0 has length 5; 2 is required",
     "output_type": "error",
     "traceback": [
      "\u001b[1;31m---------------------------------------------------------------------------\u001b[0m",
      "\u001b[1;31mValueError\u001b[0m                                Traceback (most recent call last)",
      "Cell \u001b[1;32mIn[69], line 1\u001b[0m\n\u001b[1;32m----> 1\u001b[0m emp_info\u001b[38;5;241m.\u001b[39mupdate({\u001b[38;5;124m'\u001b[39m\u001b[38;5;124memail\u001b[39m\u001b[38;5;124m'\u001b[39m})\n",
      "\u001b[1;31mValueError\u001b[0m: dictionary update sequence element #0 has length 5; 2 is required"
     ]
    }
   ],
   "source": [
    "emp_info.update({'email'})"
   ]
  },
  {
   "cell_type": "code",
   "execution_count": 71,
   "id": "b2637b37",
   "metadata": {},
   "outputs": [],
   "source": [
    "emp_info.setdefault('email')"
   ]
  },
  {
   "cell_type": "code",
   "execution_count": 73,
   "id": "69d832b2",
   "metadata": {},
   "outputs": [
    {
     "data": {
      "text/plain": [
       "{1: 'one',\n",
       " 'name': 'Vignesh',\n",
       " 'addr': 'Chennai',\n",
       " 'mobile': 9876543357,\n",
       " 'age': 30,\n",
       " 'email': None}"
      ]
     },
     "execution_count": 73,
     "metadata": {},
     "output_type": "execute_result"
    }
   ],
   "source": [
    "emp_info"
   ]
  },
  {
   "cell_type": "code",
   "execution_count": null,
   "id": "88b37bf9",
   "metadata": {},
   "outputs": [],
   "source": []
  },
  {
   "cell_type": "code",
   "execution_count": null,
   "id": "1e64e432",
   "metadata": {},
   "outputs": [],
   "source": []
  },
  {
   "cell_type": "code",
   "execution_count": null,
   "id": "7a799507",
   "metadata": {},
   "outputs": [],
   "source": [
    "del emp_info[1]"
   ]
  },
  {
   "cell_type": "code",
   "execution_count": 75,
   "id": "bc988814",
   "metadata": {},
   "outputs": [
    {
     "ename": "TypeError",
     "evalue": "'<' not supported between instances of 'str' and 'int'",
     "output_type": "error",
     "traceback": [
      "\u001b[1;31m---------------------------------------------------------------------------\u001b[0m",
      "\u001b[1;31mTypeError\u001b[0m                                 Traceback (most recent call last)",
      "Cell \u001b[1;32mIn[75], line 1\u001b[0m\n\u001b[1;32m----> 1\u001b[0m \u001b[38;5;28msorted\u001b[39m(emp_info)\n",
      "\u001b[1;31mTypeError\u001b[0m: '<' not supported between instances of 'str' and 'int'"
     ]
    }
   ],
   "source": [
    "sorted(emp_info)"
   ]
  },
  {
   "cell_type": "code",
   "execution_count": null,
   "id": "71723ed8",
   "metadata": {},
   "outputs": [],
   "source": []
  },
  {
   "cell_type": "code",
   "execution_count": 77,
   "id": "4db5e0eb",
   "metadata": {},
   "outputs": [],
   "source": [
    "emp1 = dict.fromkeys(('name','age','empid','addr'),None)"
   ]
  },
  {
   "cell_type": "code",
   "execution_count": 79,
   "id": "4958c440",
   "metadata": {},
   "outputs": [
    {
     "data": {
      "text/plain": [
       "{'name': None, 'age': None, 'empid': None, 'addr': None}"
      ]
     },
     "execution_count": 79,
     "metadata": {},
     "output_type": "execute_result"
    }
   ],
   "source": [
    "emp1"
   ]
  },
  {
   "cell_type": "code",
   "execution_count": 81,
   "id": "b2e47442",
   "metadata": {},
   "outputs": [],
   "source": [
    "emp1['name'] = 'Raj'"
   ]
  },
  {
   "cell_type": "code",
   "execution_count": 83,
   "id": "28c9e99c",
   "metadata": {},
   "outputs": [
    {
     "data": {
      "text/plain": [
       "{'name': 'Raj', 'age': None, 'empid': None, 'addr': None}"
      ]
     },
     "execution_count": 83,
     "metadata": {},
     "output_type": "execute_result"
    }
   ],
   "source": [
    "emp1"
   ]
  },
  {
   "cell_type": "code",
   "execution_count": null,
   "id": "bc55bbe5",
   "metadata": {},
   "outputs": [],
   "source": []
  }
 ],
 "metadata": {
  "kernelspec": {
   "display_name": "Python [conda env:base] *",
   "language": "python",
   "name": "conda-base-py"
  },
  "language_info": {
   "codemirror_mode": {
    "name": "ipython",
    "version": 3
   },
   "file_extension": ".py",
   "mimetype": "text/x-python",
   "name": "python",
   "nbconvert_exporter": "python",
   "pygments_lexer": "ipython3",
   "version": "3.12.7"
  }
 },
 "nbformat": 4,
 "nbformat_minor": 5
}
