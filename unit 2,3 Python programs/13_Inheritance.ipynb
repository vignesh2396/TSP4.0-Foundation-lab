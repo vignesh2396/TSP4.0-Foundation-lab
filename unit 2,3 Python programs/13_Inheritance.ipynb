{
 "cells": [
  {
   "cell_type": "markdown",
   "id": "1fdcad40",
   "metadata": {},
   "source": [
    "# Inheritance"
   ]
  },
  {
   "cell_type": "code",
   "execution_count": 2,
   "id": "cb6e08b0",
   "metadata": {},
   "outputs": [],
   "source": [
    "# Animal class - Parent, Base class\n",
    "# Mammal class - Child, sub class\n",
    "class Animal:\n",
    "    def eat(self):\n",
    "        print('All Animals eats')\n",
    "\n",
    "class Mammal(Animal):\n",
    "    def walk(self):\n",
    "        print('walk')\n",
    "\n",
    "class Fish:\n",
    "    def eat(self):\n",
    "        print('Fish eats')\n",
    "    \n",
    "    def swim(self):\n",
    "        print('swim')"
   ]
  },
  {
   "cell_type": "code",
   "execution_count": 4,
   "id": "c6963537",
   "metadata": {},
   "outputs": [],
   "source": [
    "obj = Mammal()"
   ]
  },
  {
   "cell_type": "code",
   "execution_count": 6,
   "id": "369a4acd",
   "metadata": {},
   "outputs": [
    {
     "name": "stdout",
     "output_type": "stream",
     "text": [
      "All Animals eats\n"
     ]
    }
   ],
   "source": [
    "obj.eat()"
   ]
  },
  {
   "cell_type": "markdown",
   "id": "b3702483",
   "metadata": {},
   "source": [
    "# method overriding"
   ]
  },
  {
   "cell_type": "code",
   "execution_count": 8,
   "id": "3863881b",
   "metadata": {},
   "outputs": [],
   "source": [
    "class Animal:\n",
    "    def __init__(self):\n",
    "        self.age = 1\n",
    "        print('age :', self.age)\n",
    "    \n",
    "    def eat(self):\n",
    "        print('All Animals eats')\n",
    "\n",
    "class Mammal(Animal):\n",
    "    def __init__(self):\n",
    "        self.weight = 10\n",
    "        print(\"Weight :\",self.weight)\n",
    "        \n",
    "    def walk(self):\n",
    "        print('walk')\n",
    "\n",
    "class Fish:\n",
    "    def eat(self):\n",
    "        print('Fish eats')\n",
    "    \n",
    "    def swim(self):\n",
    "        print('swim')"
   ]
  },
  {
   "cell_type": "code",
   "execution_count": 10,
   "id": "a0d63f75",
   "metadata": {},
   "outputs": [
    {
     "name": "stdout",
     "output_type": "stream",
     "text": [
      "Weight : 10\n"
     ]
    }
   ],
   "source": [
    "obj = Mammal()"
   ]
  },
  {
   "cell_type": "code",
   "execution_count": 12,
   "id": "09da8fa7",
   "metadata": {},
   "outputs": [
    {
     "name": "stdout",
     "output_type": "stream",
     "text": [
      "age : 1\n"
     ]
    }
   ],
   "source": [
    "obj1 = Animal()"
   ]
  },
  {
   "cell_type": "code",
   "execution_count": 14,
   "id": "ef102bec",
   "metadata": {},
   "outputs": [],
   "source": [
    "class Animal:  # parent\n",
    "    def __init__(self):\n",
    "        self.age = 1\n",
    "        print('age :', self.age)\n",
    "    \n",
    "    def eat(self):\n",
    "        print('All Animals eats')\n",
    "\n",
    "class Mammal(Animal): # child\n",
    "    def __init__(self):\n",
    "        self.weight = 10\n",
    "        print(\"Weight :\",self.weight)\n",
    "        \n",
    "    def walk(self):\n",
    "        print('walk')\n",
    "\n",
    "class Fish(Animal):\n",
    "    def eat(self):\n",
    "        print('Fish eats')\n",
    "    \n",
    "    def swim(self):\n",
    "        print('swim')"
   ]
  },
  {
   "cell_type": "code",
   "execution_count": 16,
   "id": "b2d729f4",
   "metadata": {},
   "outputs": [
    {
     "name": "stdout",
     "output_type": "stream",
     "text": [
      "age : 1\n"
     ]
    }
   ],
   "source": [
    "fishobj = Fish()"
   ]
  },
  {
   "cell_type": "code",
   "execution_count": 18,
   "id": "bb6ff622",
   "metadata": {},
   "outputs": [
    {
     "name": "stdout",
     "output_type": "stream",
     "text": [
      "Fish eats\n"
     ]
    }
   ],
   "source": [
    "fishobj.eat()"
   ]
  },
  {
   "cell_type": "markdown",
   "id": "e39e6719",
   "metadata": {},
   "source": [
    "# how to call a parent method from child"
   ]
  },
  {
   "cell_type": "markdown",
   "id": "ee0b4eab",
   "metadata": {},
   "source": [
    "## Single inheritance"
   ]
  },
  {
   "cell_type": "code",
   "execution_count": 20,
   "id": "63282ac5",
   "metadata": {},
   "outputs": [],
   "source": [
    "class Animal:\n",
    "    def __init__(self):\n",
    "        self.age = 1\n",
    "        print('age :', self.age)\n",
    "    \n",
    "    def eat(self):\n",
    "        print('All Animals eats')\n",
    "\n",
    "class Mammal(Animal):\n",
    "    def __init__(self):\n",
    "        self.weight = 10\n",
    "        print(\"Weight :\",self.weight)\n",
    "        super().__init__()\n",
    "\n",
    "        \n",
    "    def walk(self):\n",
    "        print('walk')"
   ]
  },
  {
   "cell_type": "code",
   "execution_count": 22,
   "id": "05e5eacd",
   "metadata": {
    "scrolled": true
   },
   "outputs": [
    {
     "name": "stdout",
     "output_type": "stream",
     "text": [
      "Weight : 10\n",
      "age : 1\n"
     ]
    }
   ],
   "source": [
    "new_obj = Mammal()"
   ]
  },
  {
   "cell_type": "markdown",
   "id": "20ac29a0",
   "metadata": {},
   "source": [
    "## Multi-level Inheritance"
   ]
  },
  {
   "cell_type": "code",
   "execution_count": 24,
   "id": "ae1c928a",
   "metadata": {},
   "outputs": [],
   "source": [
    "class Animal:\n",
    "    def eat(self):\n",
    "        print(\"Animal eats\")\n",
    "\n",
    "class Bird(Animal):\n",
    "    def fly(self):\n",
    "        print(\"Bird can fly\")\n",
    "\n",
    "class Chicken(Bird):\n",
    "    def fly(self):\n",
    "        print(\"Chicken can't fly like other birds\")"
   ]
  },
  {
   "cell_type": "code",
   "execution_count": 26,
   "id": "f22fb146",
   "metadata": {},
   "outputs": [],
   "source": [
    "chicken_obj = Chicken()"
   ]
  },
  {
   "cell_type": "code",
   "execution_count": 28,
   "id": "cd0e4ef2",
   "metadata": {},
   "outputs": [
    {
     "name": "stdout",
     "output_type": "stream",
     "text": [
      "Animal eats\n"
     ]
    }
   ],
   "source": [
    "chicken_obj.eat()"
   ]
  },
  {
   "cell_type": "code",
   "execution_count": 30,
   "id": "2b2ab779",
   "metadata": {},
   "outputs": [
    {
     "name": "stdout",
     "output_type": "stream",
     "text": [
      "Chicken can't fly like other birds\n"
     ]
    }
   ],
   "source": [
    "chicken_obj.fly()"
   ]
  },
  {
   "cell_type": "markdown",
   "id": "79933032",
   "metadata": {},
   "source": [
    "# multiple inheritance"
   ]
  },
  {
   "cell_type": "code",
   "execution_count": 34,
   "id": "13440144",
   "metadata": {},
   "outputs": [],
   "source": [
    "class Employee:\n",
    "    def greet(self):\n",
    "        print(\"Employee class\")\n",
    "\n",
    "class Person:\n",
    "    def greet(self):\n",
    "        print(\"Last greet method\")\n",
    "   \n",
    "class Manager(Person, Employee):\n",
    "    def __init__(self):\n",
    "        print(\"Manager class\")"
   ]
  },
  {
   "cell_type": "code",
   "execution_count": 36,
   "id": "d8e4cfa7",
   "metadata": {},
   "outputs": [
    {
     "name": "stdout",
     "output_type": "stream",
     "text": [
      "Manager class\n"
     ]
    }
   ],
   "source": [
    "man_obj = Manager()"
   ]
  },
  {
   "cell_type": "code",
   "execution_count": 38,
   "id": "b0301f96",
   "metadata": {},
   "outputs": [
    {
     "name": "stdout",
     "output_type": "stream",
     "text": [
      "Last greet method\n"
     ]
    }
   ],
   "source": [
    "man_obj.greet()"
   ]
  },
  {
   "cell_type": "markdown",
   "id": "e4c19a9f",
   "metadata": {},
   "source": [
    "# abstract method"
   ]
  },
  {
   "cell_type": "code",
   "execution_count": 40,
   "id": "41e89a52",
   "metadata": {},
   "outputs": [],
   "source": [
    "from abc import ABC, abstractmethod\n",
    "\n",
    "class File(ABC):\n",
    "    def __init__(self):\n",
    "        self.opened = False\n",
    "    \n",
    "    def open_file(self):\n",
    "        if self.opened:\n",
    "            print(\"File is already opened\")\n",
    "        self.opened = True\n",
    "        \n",
    "    def close(self):\n",
    "        if not self.opened:\n",
    "            print(\"File is already closed\")\n",
    "        self.opened = False\n",
    "    \n",
    "    @abstractmethod\n",
    "    def read(self):\n",
    "        pass"
   ]
  },
  {
   "cell_type": "code",
   "execution_count": 42,
   "id": "630f2c85",
   "metadata": {},
   "outputs": [],
   "source": [
    "class NetworkFile(File):\n",
    "    def read(self):\n",
    "        print(\"Reading data from a Network\")\n",
    "        \n",
    "networkfile = NetworkFile()"
   ]
  },
  {
   "cell_type": "code",
   "execution_count": 48,
   "id": "9698e289",
   "metadata": {},
   "outputs": [
    {
     "ename": "TypeError",
     "evalue": "Can't instantiate abstract class MemoryFile without an implementation for abstract method 'read'",
     "output_type": "error",
     "traceback": [
      "\u001b[1;31m---------------------------------------------------------------------------\u001b[0m",
      "\u001b[1;31mTypeError\u001b[0m                                 Traceback (most recent call last)",
      "Cell \u001b[1;32mIn[48], line 5\u001b[0m\n\u001b[0;32m      2\u001b[0m     \u001b[38;5;28;01mdef\u001b[39;00m \u001b[38;5;21mreading\u001b[39m(\u001b[38;5;28mself\u001b[39m):\n\u001b[0;32m      3\u001b[0m         \u001b[38;5;28;01mpass\u001b[39;00m\n\u001b[1;32m----> 5\u001b[0m memoryfile \u001b[38;5;241m=\u001b[39m MemoryFile()\n",
      "\u001b[1;31mTypeError\u001b[0m: Can't instantiate abstract class MemoryFile without an implementation for abstract method 'read'"
     ]
    }
   ],
   "source": [
    "class MemoryFile(File):\n",
    "    def reading(self):\n",
    "        pass\n",
    "\n",
    "memoryfile = MemoryFile()"
   ]
  },
  {
   "cell_type": "markdown",
   "id": "2c8f088c",
   "metadata": {},
   "source": [
    "# entending the built-in method of a class"
   ]
  },
  {
   "cell_type": "code",
   "execution_count": 50,
   "id": "96c70103",
   "metadata": {},
   "outputs": [
    {
     "data": {
      "text/plain": [
       "['__add__',\n",
       " '__class__',\n",
       " '__contains__',\n",
       " '__delattr__',\n",
       " '__dir__',\n",
       " '__doc__',\n",
       " '__eq__',\n",
       " '__format__',\n",
       " '__ge__',\n",
       " '__getattribute__',\n",
       " '__getitem__',\n",
       " '__getnewargs__',\n",
       " '__getstate__',\n",
       " '__gt__',\n",
       " '__hash__',\n",
       " '__init__',\n",
       " '__init_subclass__',\n",
       " '__iter__',\n",
       " '__le__',\n",
       " '__len__',\n",
       " '__lt__',\n",
       " '__mod__',\n",
       " '__mul__',\n",
       " '__ne__',\n",
       " '__new__',\n",
       " '__reduce__',\n",
       " '__reduce_ex__',\n",
       " '__repr__',\n",
       " '__rmod__',\n",
       " '__rmul__',\n",
       " '__setattr__',\n",
       " '__sizeof__',\n",
       " '__str__',\n",
       " '__subclasshook__',\n",
       " 'capitalize',\n",
       " 'casefold',\n",
       " 'center',\n",
       " 'count',\n",
       " 'encode',\n",
       " 'endswith',\n",
       " 'expandtabs',\n",
       " 'find',\n",
       " 'format',\n",
       " 'format_map',\n",
       " 'index',\n",
       " 'isalnum',\n",
       " 'isalpha',\n",
       " 'isascii',\n",
       " 'isdecimal',\n",
       " 'isdigit',\n",
       " 'isidentifier',\n",
       " 'islower',\n",
       " 'isnumeric',\n",
       " 'isprintable',\n",
       " 'isspace',\n",
       " 'istitle',\n",
       " 'isupper',\n",
       " 'join',\n",
       " 'ljust',\n",
       " 'lower',\n",
       " 'lstrip',\n",
       " 'maketrans',\n",
       " 'partition',\n",
       " 'removeprefix',\n",
       " 'removesuffix',\n",
       " 'replace',\n",
       " 'rfind',\n",
       " 'rindex',\n",
       " 'rjust',\n",
       " 'rpartition',\n",
       " 'rsplit',\n",
       " 'rstrip',\n",
       " 'split',\n",
       " 'splitlines',\n",
       " 'startswith',\n",
       " 'strip',\n",
       " 'swapcase',\n",
       " 'title',\n",
       " 'translate',\n",
       " 'upper',\n",
       " 'zfill']"
      ]
     },
     "execution_count": 50,
     "metadata": {},
     "output_type": "execute_result"
    }
   ],
   "source": [
    "dir(str)"
   ]
  },
  {
   "cell_type": "code",
   "execution_count": 56,
   "id": "fff70992",
   "metadata": {},
   "outputs": [],
   "source": [
    "class Text(str):\n",
    "    def duplicate(self):\n",
    "        return self + self\n",
    "    \n",
    "text = Text(\"Python\")"
   ]
  },
  {
   "cell_type": "code",
   "execution_count": 58,
   "id": "fc38b1a3",
   "metadata": {},
   "outputs": [
    {
     "data": {
      "text/plain": [
       "'PYTHON'"
      ]
     },
     "execution_count": 58,
     "metadata": {},
     "output_type": "execute_result"
    }
   ],
   "source": [
    "text.upper()"
   ]
  },
  {
   "cell_type": "code",
   "execution_count": 60,
   "id": "286e5f2d",
   "metadata": {},
   "outputs": [
    {
     "data": {
      "text/plain": [
       "['__add__',\n",
       " '__class__',\n",
       " '__contains__',\n",
       " '__delattr__',\n",
       " '__dict__',\n",
       " '__dir__',\n",
       " '__doc__',\n",
       " '__eq__',\n",
       " '__format__',\n",
       " '__ge__',\n",
       " '__getattribute__',\n",
       " '__getitem__',\n",
       " '__getnewargs__',\n",
       " '__getstate__',\n",
       " '__gt__',\n",
       " '__hash__',\n",
       " '__init__',\n",
       " '__init_subclass__',\n",
       " '__iter__',\n",
       " '__le__',\n",
       " '__len__',\n",
       " '__lt__',\n",
       " '__mod__',\n",
       " '__module__',\n",
       " '__mul__',\n",
       " '__ne__',\n",
       " '__new__',\n",
       " '__reduce__',\n",
       " '__reduce_ex__',\n",
       " '__repr__',\n",
       " '__rmod__',\n",
       " '__rmul__',\n",
       " '__setattr__',\n",
       " '__sizeof__',\n",
       " '__str__',\n",
       " '__subclasshook__',\n",
       " '__weakref__',\n",
       " 'capitalize',\n",
       " 'casefold',\n",
       " 'center',\n",
       " 'count',\n",
       " 'duplicate',\n",
       " 'encode',\n",
       " 'endswith',\n",
       " 'expandtabs',\n",
       " 'find',\n",
       " 'format',\n",
       " 'format_map',\n",
       " 'index',\n",
       " 'isalnum',\n",
       " 'isalpha',\n",
       " 'isascii',\n",
       " 'isdecimal',\n",
       " 'isdigit',\n",
       " 'isidentifier',\n",
       " 'islower',\n",
       " 'isnumeric',\n",
       " 'isprintable',\n",
       " 'isspace',\n",
       " 'istitle',\n",
       " 'isupper',\n",
       " 'join',\n",
       " 'ljust',\n",
       " 'lower',\n",
       " 'lstrip',\n",
       " 'maketrans',\n",
       " 'partition',\n",
       " 'removeprefix',\n",
       " 'removesuffix',\n",
       " 'replace',\n",
       " 'rfind',\n",
       " 'rindex',\n",
       " 'rjust',\n",
       " 'rpartition',\n",
       " 'rsplit',\n",
       " 'rstrip',\n",
       " 'split',\n",
       " 'splitlines',\n",
       " 'startswith',\n",
       " 'strip',\n",
       " 'swapcase',\n",
       " 'title',\n",
       " 'translate',\n",
       " 'upper',\n",
       " 'zfill']"
      ]
     },
     "execution_count": 60,
     "metadata": {},
     "output_type": "execute_result"
    }
   ],
   "source": [
    "dir(Text)"
   ]
  },
  {
   "cell_type": "code",
   "execution_count": 62,
   "id": "ffc86db1",
   "metadata": {},
   "outputs": [
    {
     "data": {
      "text/plain": [
       "'PythonPython'"
      ]
     },
     "execution_count": 62,
     "metadata": {},
     "output_type": "execute_result"
    }
   ],
   "source": [
    "text.duplicate()"
   ]
  },
  {
   "cell_type": "code",
   "execution_count": null,
   "id": "3fe9c24c",
   "metadata": {},
   "outputs": [],
   "source": [
    "class Employee:\n",
    "    def greet(self):\n",
    "        print(\"Employee class\")\n",
    "\n",
    "class Person:\n",
    "    def greet(self):\n",
    "        print(\"Last greet method\")\n",
    "   \n",
    "        \n",
    "class Manager(Person, Employee):\n",
    "    def __init__(self):\n",
    "        print(\"Manager class\")\n",
    "        \n",
    "\n",
    "class SalesDeptManager(Manger):\n",
    "    pass\n",
    "\n",
    "class MarketingManager(Manger):"
   ]
  }
 ],
 "metadata": {
  "kernelspec": {
   "display_name": "Python [conda env:base] *",
   "language": "python",
   "name": "conda-base-py"
  },
  "language_info": {
   "codemirror_mode": {
    "name": "ipython",
    "version": 3
   },
   "file_extension": ".py",
   "mimetype": "text/x-python",
   "name": "python",
   "nbconvert_exporter": "python",
   "pygments_lexer": "ipython3",
   "version": "3.12.7"
  }
 },
 "nbformat": 4,
 "nbformat_minor": 5
}
